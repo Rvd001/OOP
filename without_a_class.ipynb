{
  "nbformat": 4,
  "nbformat_minor": 0,
  "metadata": {
    "colab": {
      "name": "without a class.ipynb",
      "provenance": [],
      "authorship_tag": "ABX9TyNqru/5xtuDEKE4ooneSehZ",
      "include_colab_link": true
    },
    "kernelspec": {
      "name": "python3",
      "display_name": "Python 3"
    }
  },
  "cells": [
    {
      "cell_type": "markdown",
      "metadata": {
        "id": "view-in-github",
        "colab_type": "text"
      },
      "source": [
        "<a href=\"https://colab.research.google.com/github/Rvd001/OOP/blob/master/without_a_class.ipynb\" target=\"_parent\"><img src=\"https://colab.research.google.com/assets/colab-badge.svg\" alt=\"Open In Colab\"/></a>"
      ]
    },
    {
      "cell_type": "code",
      "metadata": {
        "id": "0L59spp007O5",
        "colab_type": "code",
        "colab": {}
      },
      "source": [
        "#creating a bike\n",
        "def create_bike(description, cost, sale_price, condition): \n",
        "    #returns a dictionary\n",
        "    return {\n",
        "        'description': description,\n",
        "        'cost': cost,\n",
        "        'sale_price': sale_price,\n",
        "        'condition': condition,\n",
        "        'sold': False, #Sold field has been automatically set as False when creating a bike i.e not yet sold\n",
        "    }"
      ],
      "execution_count": 1,
      "outputs": []
    },
    {
      "cell_type": "markdown",
      "metadata": {
        "id": "KEYWUPCGFHTg",
        "colab_type": "text"
      },
      "source": [
        "## **The Selling Price can be changed anytime**"
      ]
    },
    {
      "cell_type": "code",
      "metadata": {
        "id": "4e0a2bIL1Hp9",
        "colab_type": "code",
        "colab": {}
      },
      "source": [
        "def update_sale_price(bike, sale_price): #bike is the function created above with description, cost, \n",
        "    #sale_price, and condition attributes\n",
        "    if bike['sold'] is True:\n",
        "        raise Exception(\"Action not allowed. Bike has already been sold\") #This raises an error if the Bike has been sold.\n",
        "    bike['sale_price'] = sale_price\n",
        "    return sale_price"
      ],
      "execution_count": 2,
      "outputs": []
    },
    {
      "cell_type": "markdown",
      "metadata": {
        "id": "5jhl0ZZBFQJa",
        "colab_type": "text"
      },
      "source": [
        "## **The price the bike was sold, it automatically updates the selling price**"
      ]
    },
    {
      "cell_type": "code",
      "metadata": {
        "id": "bmrkg5U839Tv",
        "colab_type": "code",
        "colab": {}
      },
      "source": [
        "def sell(bike, sold_for = None): #by default the price the bike is sold for is set to None\n",
        "    if sold_for: #if there is a price which the bike was sold for, then update the previous sales_price\n",
        "        update_sale_price(bike, sold_for)#calls the update_scale_price function\n",
        "    bike['sold'] = True #since the bike has been sold, the status is now updated to sold\n",
        "    profit = bike['sale_price'] - bike['cost'] #profit is selling price - cost price\n",
        "    return profit"
      ],
      "execution_count": 3,
      "outputs": []
    },
    {
      "cell_type": "code",
      "metadata": {
        "id": "VHKbla0x5I8d",
        "colab_type": "code",
        "colab": {
          "base_uri": "https://localhost:8080/",
          "height": 103
        },
        "outputId": "abcc002d-4626-4341-cf2b-eb4d75210b4f"
      },
      "source": [
        "bike = create_bike('Univega Alpina, orange', cost=100, sale_price=500, condition=0.5)\n",
        "bike #this arranges the dictionary key alphabetically"
      ],
      "execution_count": 4,
      "outputs": [
        {
          "output_type": "execute_result",
          "data": {
            "text/plain": [
              "{'condition': 0.5,\n",
              " 'cost': 100,\n",
              " 'description': 'Univega Alpina, orange',\n",
              " 'sale_price': 500,\n",
              " 'sold': False}"
            ]
          },
          "metadata": {
            "tags": []
          },
          "execution_count": 4
        }
      ]
    },
    {
      "cell_type": "code",
      "metadata": {
        "id": "H_YLH7B65QQ4",
        "colab_type": "code",
        "colab": {
          "base_uri": "https://localhost:8080/",
          "height": 34
        },
        "outputId": "00b7a5aa-0daf-48e1-da9d-ebc10a190e0e"
      },
      "source": [
        "bike['sold']"
      ],
      "execution_count": 5,
      "outputs": [
        {
          "output_type": "execute_result",
          "data": {
            "text/plain": [
              "False"
            ]
          },
          "metadata": {
            "tags": []
          },
          "execution_count": 5
        }
      ]
    },
    {
      "cell_type": "code",
      "metadata": {
        "id": "AAjK9QbW5pbo",
        "colab_type": "code",
        "colab": {
          "base_uri": "https://localhost:8080/",
          "height": 34
        },
        "outputId": "5701e6eb-eb2e-43e0-998d-3a5864937635"
      },
      "source": [
        "update_price = update_sale_price(bike, 350)\n",
        "update_price"
      ],
      "execution_count": 6,
      "outputs": [
        {
          "output_type": "execute_result",
          "data": {
            "text/plain": [
              "350"
            ]
          },
          "metadata": {
            "tags": []
          },
          "execution_count": 6
        }
      ]
    },
    {
      "cell_type": "code",
      "metadata": {
        "id": "sB2YVoXL7fsi",
        "colab_type": "code",
        "colab": {
          "base_uri": "https://localhost:8080/",
          "height": 34
        },
        "outputId": "28b8ca0c-1c97-4672-c5ec-c8081ee8e0bb"
      },
      "source": [
        "selling_price = sell(bike, 710)\n",
        "selling_price"
      ],
      "execution_count": 7,
      "outputs": [
        {
          "output_type": "execute_result",
          "data": {
            "text/plain": [
              "610"
            ]
          },
          "metadata": {
            "tags": []
          },
          "execution_count": 7
        }
      ]
    },
    {
      "cell_type": "code",
      "metadata": {
        "id": "jtDwW-Xx-lqG",
        "colab_type": "code",
        "colab": {
          "base_uri": "https://localhost:8080/",
          "height": 34
        },
        "outputId": "be6db51e-2fe5-49e2-ca45-78bade5f769d"
      },
      "source": [
        "bike['sold']"
      ],
      "execution_count": 8,
      "outputs": [
        {
          "output_type": "execute_result",
          "data": {
            "text/plain": [
              "True"
            ]
          },
          "metadata": {
            "tags": []
          },
          "execution_count": 8
        }
      ]
    },
    {
      "cell_type": "code",
      "metadata": {
        "id": "TBE0cahT-wFE",
        "colab_type": "code",
        "colab": {
          "base_uri": "https://localhost:8080/",
          "height": 319
        },
        "outputId": "18bd6f27-2021-4a8f-c4ac-b857233f5e3c"
      },
      "source": [
        "new_update_price = update_sale_price(bike, 550)\n",
        "new_update_price"
      ],
      "execution_count": 9,
      "outputs": [
        {
          "output_type": "error",
          "ename": "Exception",
          "evalue": "ignored",
          "traceback": [
            "\u001b[0;31m---------------------------------------------------------------------------\u001b[0m",
            "\u001b[0;31mException\u001b[0m                                 Traceback (most recent call last)",
            "\u001b[0;32m<ipython-input-9-f94c869664fe>\u001b[0m in \u001b[0;36m<module>\u001b[0;34m()\u001b[0m\n\u001b[0;32m----> 1\u001b[0;31m \u001b[0mnew_update_price\u001b[0m \u001b[0;34m=\u001b[0m \u001b[0mupdate_sale_price\u001b[0m\u001b[0;34m(\u001b[0m\u001b[0mbike\u001b[0m\u001b[0;34m,\u001b[0m \u001b[0;36m550\u001b[0m\u001b[0;34m)\u001b[0m\u001b[0;34m\u001b[0m\u001b[0;34m\u001b[0m\u001b[0m\n\u001b[0m\u001b[1;32m      2\u001b[0m \u001b[0mnew_update_price\u001b[0m\u001b[0;34m\u001b[0m\u001b[0;34m\u001b[0m\u001b[0m\n",
            "\u001b[0;32m<ipython-input-2-45c7a182c4b7>\u001b[0m in \u001b[0;36mupdate_sale_price\u001b[0;34m(bike, sale_price)\u001b[0m\n\u001b[1;32m      2\u001b[0m     \u001b[0;31m#sale_price, and condition attributes\u001b[0m\u001b[0;34m\u001b[0m\u001b[0;34m\u001b[0m\u001b[0;34m\u001b[0m\u001b[0m\n\u001b[1;32m      3\u001b[0m     \u001b[0;32mif\u001b[0m \u001b[0mbike\u001b[0m\u001b[0;34m[\u001b[0m\u001b[0;34m'sold'\u001b[0m\u001b[0;34m]\u001b[0m \u001b[0;32mis\u001b[0m \u001b[0;32mTrue\u001b[0m\u001b[0;34m:\u001b[0m\u001b[0;34m\u001b[0m\u001b[0;34m\u001b[0m\u001b[0m\n\u001b[0;32m----> 4\u001b[0;31m         \u001b[0;32mraise\u001b[0m \u001b[0mException\u001b[0m\u001b[0;34m(\u001b[0m\u001b[0;34m\"Action not allowed. Bike has already been sold\"\u001b[0m\u001b[0;34m)\u001b[0m \u001b[0;31m#This raises an error if the Bike has been sold.\u001b[0m\u001b[0;34m\u001b[0m\u001b[0;34m\u001b[0m\u001b[0m\n\u001b[0m\u001b[1;32m      5\u001b[0m     \u001b[0mbike\u001b[0m\u001b[0;34m[\u001b[0m\u001b[0;34m'sale_price'\u001b[0m\u001b[0;34m]\u001b[0m \u001b[0;34m=\u001b[0m \u001b[0msale_price\u001b[0m\u001b[0;34m\u001b[0m\u001b[0;34m\u001b[0m\u001b[0m\n\u001b[1;32m      6\u001b[0m     \u001b[0;32mreturn\u001b[0m \u001b[0msale_price\u001b[0m\u001b[0;34m\u001b[0m\u001b[0;34m\u001b[0m\u001b[0m\n",
            "\u001b[0;31mException\u001b[0m: Action not allowed. Bike has already been sold"
          ]
        }
      ]
    },
    {
      "cell_type": "code",
      "metadata": {
        "id": "dkdWU7mM_Pgl",
        "colab_type": "code",
        "colab": {}
      },
      "source": [
        "new_bike = create_bike('Nike, Gold', cost=220, sale_price=450, condition=0.4)\n",
        "new_bike"
      ],
      "execution_count": null,
      "outputs": []
    },
    {
      "cell_type": "code",
      "metadata": {
        "id": "tWUoiV-eAiLY",
        "colab_type": "code",
        "colab": {}
      },
      "source": [
        "nike_selling_price = sell(new_bike, 380) #subtracts 220(the cost price) from 380\n",
        "nike_selling_price"
      ],
      "execution_count": null,
      "outputs": []
    },
    {
      "cell_type": "code",
      "metadata": {
        "id": "EdaeyxZoAv6R",
        "colab_type": "code",
        "colab": {}
      },
      "source": [
        "TM_bike = create_bike('TM, Red', cost=250, sale_price=530, condition=0.2)\n",
        "TM_bike"
      ],
      "execution_count": null,
      "outputs": []
    },
    {
      "cell_type": "code",
      "metadata": {
        "id": "w47OMqL6BSF_",
        "colab_type": "code",
        "colab": {}
      },
      "source": [
        "TM_selling_price = sell(TM_bike) #subtracts 250(the cost price) from the origianal 530 selling price\n",
        "TM_selling_price"
      ],
      "execution_count": null,
      "outputs": []
    }
  ]
}