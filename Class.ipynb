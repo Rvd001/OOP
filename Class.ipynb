{
  "nbformat": 4,
  "nbformat_minor": 0,
  "metadata": {
    "colab": {
      "name": "Class.ipynb",
      "provenance": [],
      "authorship_tag": "ABX9TyOD3mIs+aeuyu1L+wLTScwp",
      "include_colab_link": true
    },
    "kernelspec": {
      "name": "python3",
      "display_name": "Python 3"
    }
  },
  "cells": [
    {
      "cell_type": "markdown",
      "metadata": {
        "id": "view-in-github",
        "colab_type": "text"
      },
      "source": [
        "<a href=\"https://colab.research.google.com/github/Rvd001/OOP/blob/master/Class.ipynb\" target=\"_parent\"><img src=\"https://colab.research.google.com/assets/colab-badge.svg\" alt=\"Open In Colab\"/></a>"
      ]
    },
    {
      "cell_type": "code",
      "metadata": {
        "id": "WTqPGW57MNne",
        "colab_type": "code",
        "colab": {}
      },
      "source": [
        "\n",
        "class Maximumweight(Exception):\n",
        "  pass\n",
        "\n",
        "\n",
        "class Animal(object):\n",
        "  def __init__(self, name,  age, ID, weight = 0):\n",
        "    self.name = name\n",
        "    self.weight = weight\n",
        "    self.age = age\n",
        "    self.ID = ID\n",
        "\n",
        "    self.distance = 2\n",
        "    self.time = 30\n",
        "\n",
        "  def run(self, speed):\n",
        "    self.distance = 10\n",
        "    self.time = 5\n",
        "    self.speed = speed\n",
        "    speed = self.distance / self.time\n",
        "    print(speed)\n",
        "    #self.distance / self.time = speed\n",
        "    \n",
        "\n",
        "  def die(self, max_age):\n",
        "    if self.weight > 75:\n",
        "      raise Maximumweight('Maximum weight already attained')\n",
        "    self.max_age = max_age\n",
        "\n",
        "\n",
        "  def celebrate_Birthday(self, no_of_days):\n",
        "    self.no_of_days += no_of_days\n",
        "    if no_of_days >= 365:\n",
        "      print('Happy Birthday Chicken!')\n",
        "\n",
        "\n",
        "  def age_increase(self, no_of_days):\n",
        "    if no_of_days >= 365:\n",
        "      count = no_of_days / 365\n",
        "      self.age += count\n"
      ],
      "execution_count": 28,
      "outputs": []
    },
    {
      "cell_type": "code",
      "metadata": {
        "id": "zS5b2HARSbKa",
        "colab_type": "code",
        "colab": {}
      },
      "source": [
        ""
      ],
      "execution_count": null,
      "outputs": []
    }
  ]
}