{
  "nbformat": 4,
  "nbformat_minor": 0,
  "metadata": {
    "colab": {
      "name": "Polymorphism.ipynb",
      "provenance": [],
      "authorship_tag": "ABX9TyM2PkqdIlpaw3Y/ya9riZFt",
      "include_colab_link": true
    },
    "kernelspec": {
      "name": "python3",
      "display_name": "Python 3"
    }
  },
  "cells": [
    {
      "cell_type": "markdown",
      "metadata": {
        "id": "view-in-github",
        "colab_type": "text"
      },
      "source": [
        "<a href=\"https://colab.research.google.com/github/Rvd001/OOP/blob/master/Polymorphism.ipynb\" target=\"_parent\"><img src=\"https://colab.research.google.com/assets/colab-badge.svg\" alt=\"Open In Colab\"/></a>"
      ]
    },
    {
      "cell_type": "markdown",
      "metadata": {
        "id": "P_ReMcAVoOw5",
        "colab_type": "text"
      },
      "source": [
        "## **Overriding**"
      ]
    },
    {
      "cell_type": "markdown",
      "metadata": {
        "id": "2-ENNAUeoT59",
        "colab_type": "text"
      },
      "source": [
        " **Overriding a Variable**"
      ]
    },
    {
      "cell_type": "code",
      "metadata": {
        "id": "WlMUrnWVn3I8",
        "colab_type": "code",
        "colab": {}
      },
      "source": [
        "\n",
        "\n",
        "class Parent:\n",
        "  name = 'Kenny'\n",
        "\n",
        "class Child:\n",
        "  name = 'Dot'\n",
        "\n"
      ],
      "execution_count": 1,
      "outputs": []
    },
    {
      "cell_type": "code",
      "metadata": {
        "id": "pzhX2SsLoNCz",
        "colab_type": "code",
        "colab": {}
      },
      "source": [
        "people = Child()"
      ],
      "execution_count": 2,
      "outputs": []
    },
    {
      "cell_type": "code",
      "metadata": {
        "id": "o9IX1BAvowNj",
        "colab_type": "code",
        "colab": {
          "base_uri": "https://localhost:8080/",
          "height": 35
        },
        "outputId": "e908f9bf-d144-4060-a9ef-a49a88ce15b8"
      },
      "source": [
        "people.name\n",
        "\n",
        "\n",
        "#This will return Dot, The name variable for Child class overrides the name variable of the Parent class"
      ],
      "execution_count": 3,
      "outputs": [
        {
          "output_type": "execute_result",
          "data": {
            "application/vnd.google.colaboratory.intrinsic+json": {
              "type": "string"
            },
            "text/plain": [
              "'Dot'"
            ]
          },
          "metadata": {
            "tags": []
          },
          "execution_count": 3
        }
      ]
    },
    {
      "cell_type": "markdown",
      "metadata": {
        "id": "ocB4_tmXrsoE",
        "colab_type": "text"
      },
      "source": [
        "Overriding a Method"
      ]
    },
    {
      "cell_type": "code",
      "metadata": {
        "id": "tfp6Bwv6o3gC",
        "colab_type": "code",
        "colab": {}
      },
      "source": [
        "class CommercialBank:\n",
        "  def rateofinterest(self):\n",
        "    return 1\n",
        "\n",
        "\n",
        "class MCB:\n",
        "  def rateofinterest(self):\n",
        "    return 10.8\n",
        "\n",
        "    "
      ],
      "execution_count": 4,
      "outputs": []
    },
    {
      "cell_type": "code",
      "metadata": {
        "id": "56QGdtlYrTtz",
        "colab_type": "code",
        "colab": {}
      },
      "source": [
        "kuda = MCB()"
      ],
      "execution_count": 5,
      "outputs": []
    },
    {
      "cell_type": "code",
      "metadata": {
        "id": "OGTyvjUorbL2",
        "colab_type": "code",
        "colab": {
          "base_uri": "https://localhost:8080/",
          "height": 34
        },
        "outputId": "7571c157-af58-4dec-9d5b-f434ac5e0f39"
      },
      "source": [
        "kuda.rateofinterest()"
      ],
      "execution_count": 6,
      "outputs": [
        {
          "output_type": "execute_result",
          "data": {
            "text/plain": [
              "10.8"
            ]
          },
          "metadata": {
            "tags": []
          },
          "execution_count": 6
        }
      ]
    },
    {
      "cell_type": "code",
      "metadata": {
        "id": "1aWbgJwSriPm",
        "colab_type": "code",
        "colab": {}
      },
      "source": [
        "class Bank:\n",
        "  def rateofinterest(self):\n",
        "    return 2 \n",
        "\n",
        "\n",
        "class CommercialBank:\n",
        "  def rateofinterest(self):\n",
        "    return 1\n",
        "\n",
        "#Inheritance\n",
        "class MCB(Bank):\n",
        "  def rateofinterest(self):\n",
        "    return 10.8\n",
        "\n",
        "class Retail(Bank):\n",
        "  pass"
      ],
      "execution_count": 7,
      "outputs": []
    },
    {
      "cell_type": "code",
      "metadata": {
        "id": "RuUx4Nh0s7WT",
        "colab_type": "code",
        "colab": {
          "base_uri": "https://localhost:8080/",
          "height": 34
        },
        "outputId": "b83d31fb-eb12-4a14-ed38-fcb504d00ae4"
      },
      "source": [
        "GTB = CommercialBank()\n",
        "GTB.rateofinterest()"
      ],
      "execution_count": 8,
      "outputs": [
        {
          "output_type": "execute_result",
          "data": {
            "text/plain": [
              "1"
            ]
          },
          "metadata": {
            "tags": []
          },
          "execution_count": 8
        }
      ]
    },
    {
      "cell_type": "code",
      "metadata": {
        "id": "VpJBlGyCtDBb",
        "colab_type": "code",
        "colab": {
          "base_uri": "https://localhost:8080/",
          "height": 34
        },
        "outputId": "fcf73a85-e730-4823-dbb7-984fa42e74b4"
      },
      "source": [
        "#Override\n",
        "\n",
        "Carbon = MCB()\n",
        "Carbon.rateofinterest()"
      ],
      "execution_count": 9,
      "outputs": [
        {
          "output_type": "execute_result",
          "data": {
            "text/plain": [
              "10.8"
            ]
          },
          "metadata": {
            "tags": []
          },
          "execution_count": 9
        }
      ]
    },
    {
      "cell_type": "code",
      "metadata": {
        "id": "f93pXoZJtQS9",
        "colab_type": "code",
        "colab": {
          "base_uri": "https://localhost:8080/",
          "height": 34
        },
        "outputId": "e43d3a94-043d-4263-e082-ddc6c5fe2c16"
      },
      "source": [
        "Central_Bank = Bank()\n",
        "Central_Bank.rateofinterest()"
      ],
      "execution_count": 10,
      "outputs": [
        {
          "output_type": "execute_result",
          "data": {
            "text/plain": [
              "2"
            ]
          },
          "metadata": {
            "tags": []
          },
          "execution_count": 10
        }
      ]
    },
    {
      "cell_type": "code",
      "metadata": {
        "id": "C8mGHKpgtaRL",
        "colab_type": "code",
        "colab": {
          "base_uri": "https://localhost:8080/",
          "height": 34
        },
        "outputId": "a7c83600-b48c-4966-bdd1-8e767c616254"
      },
      "source": [
        "Real_Money = Retail()\n",
        "Real_Money.rateofinterest()"
      ],
      "execution_count": 11,
      "outputs": [
        {
          "output_type": "execute_result",
          "data": {
            "text/plain": [
              "2"
            ]
          },
          "metadata": {
            "tags": []
          },
          "execution_count": 11
        }
      ]
    },
    {
      "cell_type": "code",
      "metadata": {
        "id": "NoHV9Cguu9Am",
        "colab_type": "code",
        "colab": {
          "base_uri": "https://localhost:8080/",
          "height": 34
        },
        "outputId": "9680ac6e-bd12-498d-d413-1e389631d9a0"
      },
      "source": [
        "obj = Bank()\n",
        "obj.rateofinterest()"
      ],
      "execution_count": 12,
      "outputs": [
        {
          "output_type": "execute_result",
          "data": {
            "text/plain": [
              "2"
            ]
          },
          "metadata": {
            "tags": []
          },
          "execution_count": 12
        }
      ]
    },
    {
      "cell_type": "code",
      "metadata": {
        "id": "v5mxXc_GuXtc",
        "colab_type": "code",
        "colab": {}
      },
      "source": [
        "class Bank:\n",
        "  def rateofinterest(self):\n",
        "    return 0 \n",
        "\n",
        "\n",
        "class CommercialBank:\n",
        "  def rateofinterest(self):\n",
        "    return 1\n",
        "\n",
        "#Inheritance\n",
        "class MCB(Bank):\n",
        "  def rateofinterest(self):\n",
        "    return 10.8\n",
        "\n",
        "class Retail(Bank):\n",
        "  pass"
      ],
      "execution_count": 13,
      "outputs": []
    },
    {
      "cell_type": "code",
      "metadata": {
        "id": "UE7iTRKdutWU",
        "colab_type": "code",
        "colab": {
          "base_uri": "https://localhost:8080/",
          "height": 34
        },
        "outputId": "8a8a913f-719d-4d6b-f635-f61580d0a8c8"
      },
      "source": [
        "obj = Bank()\n",
        "obj.rateofinterest()"
      ],
      "execution_count": 14,
      "outputs": [
        {
          "output_type": "execute_result",
          "data": {
            "text/plain": [
              "0"
            ]
          },
          "metadata": {
            "tags": []
          },
          "execution_count": 14
        }
      ]
    },
    {
      "cell_type": "markdown",
      "metadata": {
        "id": "OodQz6LU2NZ6",
        "colab_type": "text"
      },
      "source": [
        "## **Polymorphism**"
      ]
    },
    {
      "cell_type": "markdown",
      "metadata": {
        "id": "lI-TMiLw2R-O",
        "colab_type": "text"
      },
      "source": [
        "Different implementation of same function / method for different situation"
      ]
    },
    {
      "cell_type": "code",
      "metadata": {
        "id": "fdhFykQ6u1Vc",
        "colab_type": "code",
        "colab": {}
      },
      "source": [
        "class French:\n",
        "  def say_hello(self):\n",
        "    print('Bonjour')\n",
        "\n",
        "\n",
        "class English:\n",
        "  def say_hello(self):\n",
        "    print('Good Morning')\n",
        "\n",
        "    "
      ],
      "execution_count": 15,
      "outputs": []
    },
    {
      "cell_type": "code",
      "metadata": {
        "id": "6o0G3Y9V2xJb",
        "colab_type": "code",
        "colab": {}
      },
      "source": [
        "def introduction(name):\n",
        "  name.say_hello()\n",
        "\n"
      ],
      "execution_count": 16,
      "outputs": []
    },
    {
      "cell_type": "code",
      "metadata": {
        "id": "8ntY9_3D3GAw",
        "colab_type": "code",
        "colab": {}
      },
      "source": [
        "Lile = French()\n",
        "Kenny = English()"
      ],
      "execution_count": 17,
      "outputs": []
    },
    {
      "cell_type": "code",
      "metadata": {
        "id": "NQAIZuFz3R5x",
        "colab_type": "code",
        "colab": {
          "base_uri": "https://localhost:8080/",
          "height": 34
        },
        "outputId": "68ac367e-268f-4d17-b6b2-acba95c5a36f"
      },
      "source": [
        "introduction(Lile)"
      ],
      "execution_count": 18,
      "outputs": [
        {
          "output_type": "stream",
          "text": [
            "Bonjour\n"
          ],
          "name": "stdout"
        }
      ]
    },
    {
      "cell_type": "code",
      "metadata": {
        "id": "2MeYkJ2U3y7v",
        "colab_type": "code",
        "colab": {
          "base_uri": "https://localhost:8080/",
          "height": 34
        },
        "outputId": "9f23432f-7a50-49d3-91ea-b8b5bc8f2f82"
      },
      "source": [
        "introduction(Kenny)"
      ],
      "execution_count": 19,
      "outputs": [
        {
          "output_type": "stream",
          "text": [
            "Good Morning\n"
          ],
          "name": "stdout"
        }
      ]
    },
    {
      "cell_type": "code",
      "metadata": {
        "id": "3Lh6U0N239c7",
        "colab_type": "code",
        "colab": {}
      },
      "source": [
        "class Language:\n",
        "  def say_hello(self):\n",
        "    raise NotImplementedError(\"Please use say_hello class in the child class\")\n",
        "\n",
        "\n",
        "\n",
        "\n",
        "class French(Language):\n",
        "  pass\n",
        "\n",
        "\n",
        "class English(Language):\n",
        "  def say_hello(self):\n",
        "    print('Good Morning')\n"
      ],
      "execution_count": 20,
      "outputs": []
    },
    {
      "cell_type": "code",
      "metadata": {
        "id": "9htAV_ZC56kg",
        "colab_type": "code",
        "colab": {}
      },
      "source": [
        "Lile = French()\n",
        "Kenny = English()\n"
      ],
      "execution_count": 21,
      "outputs": []
    },
    {
      "cell_type": "code",
      "metadata": {
        "id": "AUIO-rw35_de",
        "colab_type": "code",
        "colab": {
          "base_uri": "https://localhost:8080/",
          "height": 34
        },
        "outputId": "41d37363-b2b0-431a-f8b1-1957b27fcf7b"
      },
      "source": [
        "introduction(Kenny)"
      ],
      "execution_count": 22,
      "outputs": [
        {
          "output_type": "stream",
          "text": [
            "Good Morning\n"
          ],
          "name": "stdout"
        }
      ]
    },
    {
      "cell_type": "code",
      "metadata": {
        "id": "TWPdnsci6C3Y",
        "colab_type": "code",
        "colab": {}
      },
      "source": [
        "#introduction(Lile)\n",
        "\n",
        "\n",
        "#this return an error because say_hello method is not available here again"
      ],
      "execution_count": 23,
      "outputs": []
    },
    {
      "cell_type": "code",
      "metadata": {
        "id": "uBe7yKDF6HAO",
        "colab_type": "code",
        "colab": {}
      },
      "source": [
        "class Demo:\n",
        "  def display(self):\n",
        "    print('Value:', 0)\n"
      ],
      "execution_count": 24,
      "outputs": []
    },
    {
      "cell_type": "code",
      "metadata": {
        "id": "xyl4xrgC_mwU",
        "colab_type": "code",
        "colab": {
          "base_uri": "https://localhost:8080/",
          "height": 34
        },
        "outputId": "b259c161-aa35-44ba-c075-bec715046ac8"
      },
      "source": [
        "D = Demo()\n",
        "D.display()"
      ],
      "execution_count": 25,
      "outputs": [
        {
          "output_type": "stream",
          "text": [
            "Value: 0\n"
          ],
          "name": "stdout"
        }
      ]
    },
    {
      "cell_type": "code",
      "metadata": {
        "id": "IG60JUvLBYfk",
        "colab_type": "code",
        "colab": {}
      },
      "source": [
        "class Demo:\n",
        "  def display(self):\n",
        "    print('Value:', 0)\n",
        "\n",
        "  def display(self, x):\n",
        "    print('Value:', x)"
      ],
      "execution_count": 26,
      "outputs": []
    },
    {
      "cell_type": "code",
      "metadata": {
        "id": "esM1CWe2Bn9q",
        "colab_type": "code",
        "colab": {}
      },
      "source": [
        "D = Demo()\n",
        "\n",
        "#D.display()\n",
        "\n",
        "#This will return an error because the recent method with the same name overrides the previous\n",
        "#the new method expects a parameter X "
      ],
      "execution_count": 27,
      "outputs": []
    },
    {
      "cell_type": "code",
      "metadata": {
        "id": "l03vNaFYGu89",
        "colab_type": "code",
        "colab": {
          "base_uri": "https://localhost:8080/",
          "height": 34
        },
        "outputId": "c7edda40-17bd-416e-8726-a4c8725a06b3"
      },
      "source": [
        "D.display(15)"
      ],
      "execution_count": 28,
      "outputs": [
        {
          "output_type": "stream",
          "text": [
            "Value: 15\n"
          ],
          "name": "stdout"
        }
      ]
    },
    {
      "cell_type": "code",
      "metadata": {
        "id": "Chvg_WeOBp29",
        "colab_type": "code",
        "colab": {}
      },
      "source": [
        "class Demo:\n",
        "  def display(self):\n",
        "    print('Value:', 0)\n",
        "\n",
        "  def display(self, x):\n",
        "    print('Value:', x)\n",
        "\n",
        "  def display(self, x, y):\n",
        "    print('Value:', x, y) "
      ],
      "execution_count": 29,
      "outputs": []
    },
    {
      "cell_type": "code",
      "metadata": {
        "id": "66dJeom4FOLz",
        "colab_type": "code",
        "colab": {}
      },
      "source": [
        "D = Demo()\n",
        "\n",
        "#D.display(30)\n",
        "#This will return an error because the recent method with the same name overrides the previous\n",
        "#the new method expects two parameters x, y"
      ],
      "execution_count": 30,
      "outputs": []
    },
    {
      "cell_type": "code",
      "metadata": {
        "id": "OAssmaacFQrr",
        "colab_type": "code",
        "colab": {
          "base_uri": "https://localhost:8080/",
          "height": 34
        },
        "outputId": "9e4d1a39-a975-4382-bfad-327d27942dc8"
      },
      "source": [
        "D.display(10,49)"
      ],
      "execution_count": 31,
      "outputs": [
        {
          "output_type": "stream",
          "text": [
            "Value: 10 49\n"
          ],
          "name": "stdout"
        }
      ]
    },
    {
      "cell_type": "code",
      "metadata": {
        "id": "84DhUFqDG6AS",
        "colab_type": "code",
        "colab": {}
      },
      "source": [
        "class A:\n",
        "  def display(self):\n",
        "    print('Value:', 0)\n",
        "\n",
        "class B(A):\n",
        "  def display(self, x):\n",
        "    print('Value:', x)"
      ],
      "execution_count": 32,
      "outputs": []
    },
    {
      "cell_type": "code",
      "metadata": {
        "id": "GU_GDTNzHSgy",
        "colab_type": "code",
        "colab": {}
      },
      "source": [
        "b = B()\n",
        "\n",
        "#b is an object of B class\n",
        "#Class A is inherited by class B\n",
        "#display method is availble in both class A and class B\n",
        "#The display method in B class overrides A class even though it inherits everything from A\n",
        "\n",
        "\n",
        "#b.display()"
      ],
      "execution_count": 33,
      "outputs": []
    },
    {
      "cell_type": "code",
      "metadata": {
        "id": "p1bt3gx3ICV1",
        "colab_type": "code",
        "colab": {}
      },
      "source": [
        "b = B()"
      ],
      "execution_count": 34,
      "outputs": []
    },
    {
      "cell_type": "code",
      "metadata": {
        "id": "mFFTYVnCLCrX",
        "colab_type": "code",
        "colab": {
          "base_uri": "https://localhost:8080/",
          "height": 34
        },
        "outputId": "26c713c4-4226-4b16-d081-17244c593780"
      },
      "source": [
        "b.display(54)"
      ],
      "execution_count": 35,
      "outputs": [
        {
          "output_type": "stream",
          "text": [
            "Value: 54\n"
          ],
          "name": "stdout"
        }
      ]
    },
    {
      "cell_type": "code",
      "metadata": {
        "id": "sa67zBA_LEcS",
        "colab_type": "code",
        "colab": {}
      },
      "source": [
        "class A:\n",
        "  def display(self):\n",
        "    print('This is method A')\n",
        "\n",
        "class B:\n",
        "  def display(self):\n",
        "    print('This is method B')\n",
        "\n",
        "\n",
        "class Demo(A,B):  #the manner of occurence of inheritance matters a lot i.e method resolution order\n",
        "  def show(self):\n",
        "    print('Class Demo Method')"
      ],
      "execution_count": 36,
      "outputs": []
    },
    {
      "cell_type": "code",
      "metadata": {
        "id": "KB6lyQZGPcdK",
        "colab_type": "code",
        "colab": {
          "base_uri": "https://localhost:8080/",
          "height": 34
        },
        "outputId": "17cd90e3-6358-4732-f956-80beb6052e5e"
      },
      "source": [
        "d = Demo()\n",
        "d.display()"
      ],
      "execution_count": 37,
      "outputs": [
        {
          "output_type": "stream",
          "text": [
            "This is method A\n"
          ],
          "name": "stdout"
        }
      ]
    },
    {
      "cell_type": "code",
      "metadata": {
        "id": "ZRmjSJm_QIbY",
        "colab_type": "code",
        "colab": {}
      },
      "source": [
        "class A:\n",
        "  def display(self):\n",
        "    print('This is method A')\n",
        "\n",
        "class B:\n",
        "  def display(self):\n",
        "    print('This is method B')\n",
        "\n",
        "\n",
        "class Demo(B,A):  #the manner of occurence of inheritance matters a lot i.e method resolution order\n",
        "  def show(self):\n",
        "    print('Class Demo Method')"
      ],
      "execution_count": 38,
      "outputs": []
    },
    {
      "cell_type": "code",
      "metadata": {
        "id": "6Ok-mqAMQtvf",
        "colab_type": "code",
        "colab": {
          "base_uri": "https://localhost:8080/",
          "height": 34
        },
        "outputId": "bd4b3c56-25da-4abf-f8d9-37e43f444c4d"
      },
      "source": [
        "d = Demo()\n",
        "d.display()\n",
        "\n",
        "\n",
        "#This will return This is method B because method B was inherited first before method A"
      ],
      "execution_count": 39,
      "outputs": [
        {
          "output_type": "stream",
          "text": [
            "This is method B\n"
          ],
          "name": "stdout"
        }
      ]
    },
    {
      "cell_type": "markdown",
      "metadata": {
        "id": "HMjGZyQPQ8Qs",
        "colab_type": "text"
      },
      "source": [
        "## **Method Resolution Order**"
      ]
    },
    {
      "cell_type": "code",
      "metadata": {
        "id": "Y2D1AAw2Qvql",
        "colab_type": "code",
        "colab": {
          "base_uri": "https://localhost:8080/",
          "height": 34
        },
        "outputId": "60b95e7e-3f81-4722-8dfa-a4956ff98d62"
      },
      "source": [
        "Demo.mro()\n",
        "\n",
        "\n",
        "#This checks the order at which the inheritance occurs"
      ],
      "execution_count": 40,
      "outputs": [
        {
          "output_type": "execute_result",
          "data": {
            "text/plain": [
              "[__main__.Demo, __main__.B, __main__.A, object]"
            ]
          },
          "metadata": {
            "tags": []
          },
          "execution_count": 40
        }
      ]
    },
    {
      "cell_type": "code",
      "metadata": {
        "id": "lkqjGpZDRKO7",
        "colab_type": "code",
        "colab": {}
      },
      "source": [
        "class A:\n",
        "  def display(self):\n",
        "    print('This is method A')\n",
        "\n",
        "class B:\n",
        "  def display(self):\n",
        "    print('This is method B')\n",
        "\n",
        "\n",
        "class Demo(B,A):  #the manner of occurence of inheritance matters a lot i.e method resolution order\n",
        "  def display(self):\n",
        "    print('Class Demo Method')"
      ],
      "execution_count": 41,
      "outputs": []
    },
    {
      "cell_type": "code",
      "metadata": {
        "id": "nXtLwg_PRoor",
        "colab_type": "code",
        "colab": {
          "base_uri": "https://localhost:8080/",
          "height": 34
        },
        "outputId": "cf14e50a-5609-4898-fea2-27b3990ebc92"
      },
      "source": [
        "d = Demo()\n",
        "d.display()"
      ],
      "execution_count": 42,
      "outputs": [
        {
          "output_type": "stream",
          "text": [
            "Class Demo Method\n"
          ],
          "name": "stdout"
        }
      ]
    },
    {
      "cell_type": "code",
      "metadata": {
        "id": "YmNREr-rRrNy",
        "colab_type": "code",
        "colab": {
          "base_uri": "https://localhost:8080/",
          "height": 34
        },
        "outputId": "b3aa3281-d10d-4542-d074-d3e7017bf6e2"
      },
      "source": [
        "Demo.mro()"
      ],
      "execution_count": 43,
      "outputs": [
        {
          "output_type": "execute_result",
          "data": {
            "text/plain": [
              "[__main__.Demo, __main__.B, __main__.A, object]"
            ]
          },
          "metadata": {
            "tags": []
          },
          "execution_count": 43
        }
      ]
    },
    {
      "cell_type": "code",
      "metadata": {
        "id": "QFEOT2DNRt9V",
        "colab_type": "code",
        "colab": {}
      },
      "source": [
        ""
      ],
      "execution_count": 43,
      "outputs": []
    }
  ]
}