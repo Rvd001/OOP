{
  "nbformat": 4,
  "nbformat_minor": 0,
  "metadata": {
    "colab": {
      "name": "Encapsulation.ipynb",
      "provenance": [],
      "authorship_tag": "ABX9TyMjFH1ocSYjxFxBY+3aS3H5",
      "include_colab_link": true
    },
    "kernelspec": {
      "name": "python3",
      "display_name": "Python 3"
    }
  },
  "cells": [
    {
      "cell_type": "markdown",
      "metadata": {
        "id": "view-in-github",
        "colab_type": "text"
      },
      "source": [
        "<a href=\"https://colab.research.google.com/github/Rvd001/OOP/blob/master/Encapsulation.ipynb\" target=\"_parent\"><img src=\"https://colab.research.google.com/assets/colab-badge.svg\" alt=\"Open In Colab\"/></a>"
      ]
    },
    {
      "cell_type": "code",
      "metadata": {
        "id": "8A5aHbG-L6zJ",
        "colab_type": "code",
        "colab": {}
      },
      "source": [
        "class Vehicle:\n",
        "  def __init__(self, name, speed, color):\n",
        "    self.name = name\n",
        "    self.speed = speed\n",
        "    self.color = color\n",
        "    print(name)\n",
        "    print(speed)\n",
        "    print(color)\n",
        "\n",
        "    #The variables name, speed and color are public variables\n",
        "    #Public variables can be accessed and modified outside its class"
      ],
      "execution_count": 1,
      "outputs": []
    },
    {
      "cell_type": "code",
      "metadata": {
        "id": "OUAxtEbiNwKT",
        "colab_type": "code",
        "colab": {
          "base_uri": "https://localhost:8080/",
          "height": 68
        },
        "outputId": "63a5b559-106b-49b3-f1e6-84c898c15b1e"
      },
      "source": [
        "First_car = Vehicle('Bently', 100, 'Yellow')"
      ],
      "execution_count": 2,
      "outputs": [
        {
          "output_type": "stream",
          "text": [
            "Bently\n",
            "100\n",
            "Yellow\n"
          ],
          "name": "stdout"
        }
      ]
    },
    {
      "cell_type": "markdown",
      "metadata": {
        "id": "tVmAvT8gV2JQ",
        "colab_type": "text"
      },
      "source": [
        "Accessing the variables directly"
      ]
    },
    {
      "cell_type": "code",
      "metadata": {
        "id": "HXEGGTQFUczZ",
        "colab_type": "code",
        "colab": {
          "base_uri": "https://localhost:8080/",
          "height": 68
        },
        "outputId": "a5d16ddc-ca51-404b-b49b-723fccac051a"
      },
      "source": [
        "print(First_car.name)\n",
        "print(First_car.color)\n",
        "print(First_car.speed)"
      ],
      "execution_count": 3,
      "outputs": [
        {
          "output_type": "stream",
          "text": [
            "Bently\n",
            "Yellow\n",
            "100\n"
          ],
          "name": "stdout"
        }
      ]
    },
    {
      "cell_type": "markdown",
      "metadata": {
        "id": "3v1Si-ILWHO8",
        "colab_type": "text"
      },
      "source": [
        "Modifying the variable name outside the class"
      ]
    },
    {
      "cell_type": "code",
      "metadata": {
        "id": "bgkd1fv4UgWA",
        "colab_type": "code",
        "colab": {}
      },
      "source": [
        "First_car.name = 'Ferrari'"
      ],
      "execution_count": 4,
      "outputs": []
    },
    {
      "cell_type": "code",
      "metadata": {
        "id": "FGihtmkLWBm_",
        "colab_type": "code",
        "colab": {
          "base_uri": "https://localhost:8080/",
          "height": 68
        },
        "outputId": "22ebf15d-5ddd-43f3-84ad-68ddbdfbd1c4"
      },
      "source": [
        "print(First_car.name)\n",
        "print(First_car.color)\n",
        "print(First_car.speed)"
      ],
      "execution_count": 5,
      "outputs": [
        {
          "output_type": "stream",
          "text": [
            "Ferrari\n",
            "Yellow\n",
            "100\n"
          ],
          "name": "stdout"
        }
      ]
    },
    {
      "cell_type": "code",
      "metadata": {
        "id": "rjHjNXYgWDIa",
        "colab_type": "code",
        "colab": {}
      },
      "source": [
        "class Vehicle:\n",
        "  def __init__(self, name, speed, color):\n",
        "    self.name = name\n",
        "    self.speed = speed\n",
        "    self.color = color\n",
        "    print(name)\n",
        "    print(speed)\n",
        "    print(color)\n",
        "\n",
        "  def set_speed(self, value):\n",
        "    self.speed = value\n",
        "\n",
        "\n",
        "  def get_speed(self):\n",
        "    return self.speed"
      ],
      "execution_count": 6,
      "outputs": []
    },
    {
      "cell_type": "code",
      "metadata": {
        "id": "rOTt3GiGannM",
        "colab_type": "code",
        "colab": {
          "base_uri": "https://localhost:8080/",
          "height": 68
        },
        "outputId": "2b69898d-486b-463b-ee0d-e12e946ad840"
      },
      "source": [
        "Second_car = Vehicle('Ford', 45, 'Blue')"
      ],
      "execution_count": 7,
      "outputs": [
        {
          "output_type": "stream",
          "text": [
            "Ford\n",
            "45\n",
            "Blue\n"
          ],
          "name": "stdout"
        }
      ]
    },
    {
      "cell_type": "code",
      "metadata": {
        "id": "eCStWC-QcaG1",
        "colab_type": "code",
        "colab": {
          "base_uri": "https://localhost:8080/",
          "height": 68
        },
        "outputId": "1bd7ad13-a6c6-49e6-cd06-e5db29a3eada"
      },
      "source": [
        "print(Second_car.name)\n",
        "print(Second_car.color)\n",
        "print(Second_car.speed)"
      ],
      "execution_count": 8,
      "outputs": [
        {
          "output_type": "stream",
          "text": [
            "Ford\n",
            "Blue\n",
            "45\n"
          ],
          "name": "stdout"
        }
      ]
    },
    {
      "cell_type": "code",
      "metadata": {
        "id": "k6cQOehIcj9j",
        "colab_type": "code",
        "colab": {}
      },
      "source": [
        "Second_car.color = 'Purple'\n",
        "\n",
        "\n",
        "#This is still going to change the variable value.\n",
        "#The variable name is not yet private"
      ],
      "execution_count": 9,
      "outputs": []
    },
    {
      "cell_type": "code",
      "metadata": {
        "id": "Sn4xpL6gcpsy",
        "colab_type": "code",
        "colab": {
          "base_uri": "https://localhost:8080/",
          "height": 68
        },
        "outputId": "3aa1ee78-b77b-4552-91e8-c11a48d5f3b7"
      },
      "source": [
        "print(Second_car.name)\n",
        "print(Second_car.color)\n",
        "print(Second_car.speed)"
      ],
      "execution_count": 10,
      "outputs": [
        {
          "output_type": "stream",
          "text": [
            "Ford\n",
            "Purple\n",
            "45\n"
          ],
          "name": "stdout"
        }
      ]
    },
    {
      "cell_type": "code",
      "metadata": {
        "id": "RXFAihAicsIN",
        "colab_type": "code",
        "colab": {}
      },
      "source": [
        "Second_car.set_speed(31)"
      ],
      "execution_count": 11,
      "outputs": []
    },
    {
      "cell_type": "code",
      "metadata": {
        "id": "CemLngc6dUqa",
        "colab_type": "code",
        "colab": {
          "base_uri": "https://localhost:8080/",
          "height": 68
        },
        "outputId": "0e05b5d4-892c-45df-e8ac-6a604134625b"
      },
      "source": [
        "print(Second_car.name)\n",
        "print(Second_car.color)\n",
        "print(Second_car.speed)"
      ],
      "execution_count": 12,
      "outputs": [
        {
          "output_type": "stream",
          "text": [
            "Ford\n",
            "Purple\n",
            "31\n"
          ],
          "name": "stdout"
        }
      ]
    },
    {
      "cell_type": "code",
      "metadata": {
        "id": "ELfIuYZndWm8",
        "colab_type": "code",
        "colab": {
          "base_uri": "https://localhost:8080/",
          "height": 34
        },
        "outputId": "b88f44d1-e7dd-4d94-e651-c0c4c582580e"
      },
      "source": [
        "Second_car.get_speed()"
      ],
      "execution_count": 13,
      "outputs": [
        {
          "output_type": "execute_result",
          "data": {
            "text/plain": [
              "31"
            ]
          },
          "metadata": {
            "tags": []
          },
          "execution_count": 13
        }
      ]
    },
    {
      "cell_type": "code",
      "metadata": {
        "id": "fOtZ0M6FdvJQ",
        "colab_type": "code",
        "colab": {}
      },
      "source": [
        "Second_car.speed = 78"
      ],
      "execution_count": 14,
      "outputs": []
    },
    {
      "cell_type": "code",
      "metadata": {
        "id": "wcRBjzwCd61f",
        "colab_type": "code",
        "colab": {
          "base_uri": "https://localhost:8080/",
          "height": 34
        },
        "outputId": "af02b35e-a43d-4df8-a5b9-7661cf485c5e"
      },
      "source": [
        "Second_car.get_speed()"
      ],
      "execution_count": 15,
      "outputs": [
        {
          "output_type": "execute_result",
          "data": {
            "text/plain": [
              "78"
            ]
          },
          "metadata": {
            "tags": []
          },
          "execution_count": 15
        }
      ]
    },
    {
      "cell_type": "code",
      "metadata": {
        "id": "Sx-e7FqDd-gN",
        "colab_type": "code",
        "colab": {
          "base_uri": "https://localhost:8080/",
          "height": 68
        },
        "outputId": "8321324f-d8af-477a-b03e-f2954cb6243c"
      },
      "source": [
        "print(Second_car.name)\n",
        "print(Second_car.color)\n",
        "print(Second_car.speed)"
      ],
      "execution_count": 16,
      "outputs": [
        {
          "output_type": "stream",
          "text": [
            "Ford\n",
            "Purple\n",
            "78\n"
          ],
          "name": "stdout"
        }
      ]
    },
    {
      "cell_type": "code",
      "metadata": {
        "id": "7fdT8cLjeAI7",
        "colab_type": "code",
        "colab": {}
      },
      "source": [
        "class Vehicle:\n",
        "  def __init__(self, name, speed, color):\n",
        "    self.__name = name\n",
        "    self.__speed = speed\n",
        "    self.__color = color\n",
        "    print(name)\n",
        "    print(speed)\n",
        "    print(color)\n",
        "\n",
        "  def set_speed(self, value):\n",
        "    self.__speed = value\n",
        "\n",
        "\n",
        "  def get_speed(self):\n",
        "    return self.__speed"
      ],
      "execution_count": 17,
      "outputs": []
    },
    {
      "cell_type": "code",
      "metadata": {
        "id": "2nmcxXV_f1gb",
        "colab_type": "code",
        "colab": {
          "base_uri": "https://localhost:8080/",
          "height": 68
        },
        "outputId": "1cfd45e4-6416-4cc5-fb1c-949e5b328e8f"
      },
      "source": [
        "Third_car = Vehicle('Toyota', 83, 'Green')"
      ],
      "execution_count": 18,
      "outputs": [
        {
          "output_type": "stream",
          "text": [
            "Toyota\n",
            "83\n",
            "Green\n"
          ],
          "name": "stdout"
        }
      ]
    },
    {
      "cell_type": "code",
      "metadata": {
        "id": "LI9EYYyHgLml",
        "colab_type": "code",
        "colab": {}
      },
      "source": [
        "#print(Third_car.name)\n",
        "#print(Third_car.color)\n",
        "#print(Third_car.speed)\n",
        "\n",
        "\n",
        "#This will return an error because the variable names are now private\n",
        "#We can no longer access this because it is private"
      ],
      "execution_count": 19,
      "outputs": []
    },
    {
      "cell_type": "markdown",
      "metadata": {
        "id": "v5YnqODEhW02",
        "colab_type": "text"
      },
      "source": [
        "Modifying the variable outside the class will not affect.change the variable value even though no error is returned "
      ]
    },
    {
      "cell_type": "code",
      "metadata": {
        "id": "_FWnoUL8f-kE",
        "colab_type": "code",
        "colab": {}
      },
      "source": [
        "Third_car.__speed = 87"
      ],
      "execution_count": 20,
      "outputs": []
    },
    {
      "cell_type": "markdown",
      "metadata": {
        "id": "WY99_vKDhqlJ",
        "colab_type": "text"
      },
      "source": [
        "The output is still the same even though we changed the variable directly earlier "
      ]
    },
    {
      "cell_type": "code",
      "metadata": {
        "id": "TCWyUPwhgGiB",
        "colab_type": "code",
        "colab": {
          "base_uri": "https://localhost:8080/",
          "height": 34
        },
        "outputId": "d41c9ea5-b0fa-4129-ac65-dde35b263288"
      },
      "source": [
        "Third_car.get_speed()"
      ],
      "execution_count": 21,
      "outputs": [
        {
          "output_type": "execute_result",
          "data": {
            "text/plain": [
              "83"
            ]
          },
          "metadata": {
            "tags": []
          },
          "execution_count": 21
        }
      ]
    },
    {
      "cell_type": "code",
      "metadata": {
        "id": "dM7hKvByhU0L",
        "colab_type": "code",
        "colab": {}
      },
      "source": [
        "Third_car.set_speed(95)"
      ],
      "execution_count": 22,
      "outputs": []
    },
    {
      "cell_type": "code",
      "metadata": {
        "id": "XSeZyVfGiyml",
        "colab_type": "code",
        "colab": {
          "base_uri": "https://localhost:8080/",
          "height": 34
        },
        "outputId": "d15a10c9-c295-458f-cba0-76e01b469452"
      },
      "source": [
        "Third_car.get_speed()"
      ],
      "execution_count": 23,
      "outputs": [
        {
          "output_type": "execute_result",
          "data": {
            "text/plain": [
              "95"
            ]
          },
          "metadata": {
            "tags": []
          },
          "execution_count": 23
        }
      ]
    },
    {
      "cell_type": "code",
      "metadata": {
        "id": "OwtV7qsbi13Y",
        "colab_type": "code",
        "colab": {
          "base_uri": "https://localhost:8080/",
          "height": 34
        },
        "outputId": "6a16ca31-ee59-42a6-8e33-edaaa6704448"
      },
      "source": [
        "Third_car.__speed\n",
        "\n",
        "\n",
        "#Even though this returns a value, it still does not change the value of the variable in the class"
      ],
      "execution_count": 24,
      "outputs": [
        {
          "output_type": "execute_result",
          "data": {
            "text/plain": [
              "87"
            ]
          },
          "metadata": {
            "tags": []
          },
          "execution_count": 24
        }
      ]
    },
    {
      "cell_type": "code",
      "metadata": {
        "id": "3mtp6ZG3jUsk",
        "colab_type": "code",
        "colab": {
          "base_uri": "https://localhost:8080/",
          "height": 34
        },
        "outputId": "c7c518a4-4924-4b77-bb1d-df97b05179be"
      },
      "source": [
        "Third_car.get_speed()"
      ],
      "execution_count": 25,
      "outputs": [
        {
          "output_type": "execute_result",
          "data": {
            "text/plain": [
              "95"
            ]
          },
          "metadata": {
            "tags": []
          },
          "execution_count": 25
        }
      ]
    },
    {
      "cell_type": "markdown",
      "metadata": {
        "id": "34iyMTQ2luI2",
        "colab_type": "text"
      },
      "source": [
        "It is not compulsory set and get are used"
      ]
    },
    {
      "cell_type": "code",
      "metadata": {
        "id": "l3QbbEVFj5oI",
        "colab_type": "code",
        "colab": {}
      },
      "source": [
        "class Vehicle:\n",
        "  def __init__(self, name, speed, color):\n",
        "    self.__name = name\n",
        "    self.__speed = speed\n",
        "    self.__color = color\n",
        "\n",
        "  def input_speed(self, value):\n",
        "    self.__speed = value\n",
        "\n",
        "\n",
        "  def give_speed(self):\n",
        "    return self.__speed"
      ],
      "execution_count": 26,
      "outputs": []
    },
    {
      "cell_type": "code",
      "metadata": {
        "id": "pfC7J1Q6lSRM",
        "colab_type": "code",
        "colab": {}
      },
      "source": [
        "Fouth_car = Vehicle('Lexus', 100, 'Ash')"
      ],
      "execution_count": 27,
      "outputs": []
    },
    {
      "cell_type": "code",
      "metadata": {
        "id": "_G322SN-lZ7p",
        "colab_type": "code",
        "colab": {
          "base_uri": "https://localhost:8080/",
          "height": 34
        },
        "outputId": "24adfd34-a09a-4c90-b004-9752886e5122"
      },
      "source": [
        "Fouth_car.give_speed()"
      ],
      "execution_count": 28,
      "outputs": [
        {
          "output_type": "execute_result",
          "data": {
            "text/plain": [
              "100"
            ]
          },
          "metadata": {
            "tags": []
          },
          "execution_count": 28
        }
      ]
    },
    {
      "cell_type": "code",
      "metadata": {
        "id": "DAmZ4Aq4lfLh",
        "colab_type": "code",
        "colab": {}
      },
      "source": [
        "Fouth_car.input_speed(150)"
      ],
      "execution_count": 29,
      "outputs": []
    },
    {
      "cell_type": "code",
      "metadata": {
        "id": "cFkiHESwlqwT",
        "colab_type": "code",
        "colab": {
          "base_uri": "https://localhost:8080/",
          "height": 34
        },
        "outputId": "ff189538-5ce6-40bc-f675-c429d2106e86"
      },
      "source": [
        "Fouth_car.give_speed()"
      ],
      "execution_count": 30,
      "outputs": [
        {
          "output_type": "execute_result",
          "data": {
            "text/plain": [
              "150"
            ]
          },
          "metadata": {
            "tags": []
          },
          "execution_count": 30
        }
      ]
    },
    {
      "cell_type": "code",
      "metadata": {
        "id": "JWE8oM4ilsvo",
        "colab_type": "code",
        "colab": {}
      },
      "source": [
        "Fouth_car.__speed = 110"
      ],
      "execution_count": 31,
      "outputs": []
    },
    {
      "cell_type": "code",
      "metadata": {
        "id": "mPsopxYvl37z",
        "colab_type": "code",
        "colab": {
          "base_uri": "https://localhost:8080/",
          "height": 34
        },
        "outputId": "209a52e3-5921-413a-92e8-be1d3bb8d6c3"
      },
      "source": [
        "Fouth_car.give_speed()"
      ],
      "execution_count": 32,
      "outputs": [
        {
          "output_type": "execute_result",
          "data": {
            "text/plain": [
              "150"
            ]
          },
          "metadata": {
            "tags": []
          },
          "execution_count": 32
        }
      ]
    },
    {
      "cell_type": "code",
      "metadata": {
        "id": "EmRstVCQl6bq",
        "colab_type": "code",
        "colab": {
          "base_uri": "https://localhost:8080/",
          "height": 34
        },
        "outputId": "7aae1c82-80cc-4ace-d3da-c786e21d4b95"
      },
      "source": [
        "Fouth_car.__speed"
      ],
      "execution_count": 33,
      "outputs": [
        {
          "output_type": "execute_result",
          "data": {
            "text/plain": [
              "110"
            ]
          },
          "metadata": {
            "tags": []
          },
          "execution_count": 33
        }
      ]
    },
    {
      "cell_type": "code",
      "metadata": {
        "id": "qNCW1Irel9sZ",
        "colab_type": "code",
        "colab": {}
      },
      "source": [
        ""
      ],
      "execution_count": 33,
      "outputs": []
    }
  ]
}