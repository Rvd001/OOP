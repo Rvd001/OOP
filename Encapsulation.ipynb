{
  "nbformat": 4,
  "nbformat_minor": 0,
  "metadata": {
    "colab": {
      "name": "Encapsulation.ipynb",
      "provenance": [],
      "authorship_tag": "ABX9TyPYr2yAOhJM4pzrnBoNQCLM",
      "include_colab_link": true
    },
    "kernelspec": {
      "name": "python3",
      "display_name": "Python 3"
    }
  },
  "cells": [
    {
      "cell_type": "markdown",
      "metadata": {
        "id": "view-in-github",
        "colab_type": "text"
      },
      "source": [
        "<a href=\"https://colab.research.google.com/github/Rvd001/OOP/blob/master/Encapsulation.ipynb\" target=\"_parent\"><img src=\"https://colab.research.google.com/assets/colab-badge.svg\" alt=\"Open In Colab\"/></a>"
      ]
    },
    {
      "cell_type": "code",
      "metadata": {
        "id": "PKGiVwGtLfE3",
        "colab_type": "code",
        "colab": {}
      },
      "source": [
        "class animal:\n",
        "  def __init__(self, name):\n",
        "    self.name = name\n",
        "\n",
        "\n",
        "class dog:\n",
        "  def display(self):\n",
        "    print(self.name)"
      ],
      "execution_count": 1,
      "outputs": []
    },
    {
      "cell_type": "code",
      "metadata": {
        "id": "Gn0KxFukLxYt",
        "colab_type": "code",
        "colab": {}
      },
      "source": [
        "d = animal('Whisky')"
      ],
      "execution_count": 2,
      "outputs": []
    },
    {
      "cell_type": "code",
      "metadata": {
        "id": "8A5aHbG-L6zJ",
        "colab_type": "code",
        "colab": {}
      },
      "source": [
        "class Vehicle:\n",
        "  def __init__(self, name, speed, color):\n",
        "    self.name = name\n",
        "    self.speed = speed\n",
        "    self.color = color\n",
        "    print(name)\n",
        "    print(speed)\n",
        "    print(color)\n",
        "\n",
        "    #The variables name, speed and color are public variables\n",
        "    #Public variables can be accessed and modified outside its class"
      ],
      "execution_count": 3,
      "outputs": []
    },
    {
      "cell_type": "code",
      "metadata": {
        "id": "OUAxtEbiNwKT",
        "colab_type": "code",
        "colab": {
          "base_uri": "https://localhost:8080/",
          "height": 68
        },
        "outputId": "1d08b3b9-7a3a-45ff-cd46-88a966844b7e"
      },
      "source": [
        "First_car = Vehicle('Bently', 100, 'Yellow')"
      ],
      "execution_count": 4,
      "outputs": [
        {
          "output_type": "stream",
          "text": [
            "Bently\n",
            "100\n",
            "Yellow\n"
          ],
          "name": "stdout"
        }
      ]
    },
    {
      "cell_type": "markdown",
      "metadata": {
        "id": "tVmAvT8gV2JQ",
        "colab_type": "text"
      },
      "source": [
        "Accessing the variables directly"
      ]
    },
    {
      "cell_type": "code",
      "metadata": {
        "id": "HXEGGTQFUczZ",
        "colab_type": "code",
        "colab": {
          "base_uri": "https://localhost:8080/",
          "height": 68
        },
        "outputId": "d12e16ea-c493-44a4-8935-0d6503758f3e"
      },
      "source": [
        "print(First_car.name)\n",
        "print(First_car.color)\n",
        "print(First_car.speed)"
      ],
      "execution_count": 5,
      "outputs": [
        {
          "output_type": "stream",
          "text": [
            "Bently\n",
            "Yellow\n",
            "100\n"
          ],
          "name": "stdout"
        }
      ]
    },
    {
      "cell_type": "markdown",
      "metadata": {
        "id": "3v1Si-ILWHO8",
        "colab_type": "text"
      },
      "source": [
        "Modifying the variable name outside the class"
      ]
    },
    {
      "cell_type": "code",
      "metadata": {
        "id": "bgkd1fv4UgWA",
        "colab_type": "code",
        "colab": {}
      },
      "source": [
        "First_car.name = 'Ferrari'"
      ],
      "execution_count": 6,
      "outputs": []
    },
    {
      "cell_type": "code",
      "metadata": {
        "id": "FGihtmkLWBm_",
        "colab_type": "code",
        "colab": {
          "base_uri": "https://localhost:8080/",
          "height": 68
        },
        "outputId": "44241ca0-1b76-49ce-962d-187040501c2b"
      },
      "source": [
        "print(First_car.name)\n",
        "print(First_car.color)\n",
        "print(First_car.speed)"
      ],
      "execution_count": 7,
      "outputs": [
        {
          "output_type": "stream",
          "text": [
            "Ferrari\n",
            "Yellow\n",
            "100\n"
          ],
          "name": "stdout"
        }
      ]
    },
    {
      "cell_type": "code",
      "metadata": {
        "id": "rjHjNXYgWDIa",
        "colab_type": "code",
        "colab": {}
      },
      "source": [
        "class Vehicle:\n",
        "  def __init__(self, name, speed, color):\n",
        "    self.name = name\n",
        "    self.speed = speed\n",
        "    self.color = color\n",
        "    print(name)\n",
        "    print(speed)\n",
        "    print(color)\n",
        "\n",
        "  def set_speed(self, value):\n",
        "    self.speed = value\n",
        "\n",
        "\n",
        "  def get_speed(self):\n",
        "    return self.speed"
      ],
      "execution_count": 8,
      "outputs": []
    },
    {
      "cell_type": "code",
      "metadata": {
        "id": "rOTt3GiGannM",
        "colab_type": "code",
        "colab": {
          "base_uri": "https://localhost:8080/",
          "height": 68
        },
        "outputId": "f0e93b2d-2281-49b2-c2aa-00ad50287afc"
      },
      "source": [
        "Second_car = Vehicle('Ford', 45, 'Blue')"
      ],
      "execution_count": 9,
      "outputs": [
        {
          "output_type": "stream",
          "text": [
            "Ford\n",
            "45\n",
            "Blue\n"
          ],
          "name": "stdout"
        }
      ]
    },
    {
      "cell_type": "code",
      "metadata": {
        "id": "eCStWC-QcaG1",
        "colab_type": "code",
        "colab": {
          "base_uri": "https://localhost:8080/",
          "height": 68
        },
        "outputId": "574b0f1e-5520-4a05-ea20-b668c7e39010"
      },
      "source": [
        "print(Second_car.name)\n",
        "print(Second_car.color)\n",
        "print(Second_car.speed)"
      ],
      "execution_count": 10,
      "outputs": [
        {
          "output_type": "stream",
          "text": [
            "Ford\n",
            "Blue\n",
            "45\n"
          ],
          "name": "stdout"
        }
      ]
    },
    {
      "cell_type": "code",
      "metadata": {
        "id": "k6cQOehIcj9j",
        "colab_type": "code",
        "colab": {}
      },
      "source": [
        "Second_car.color = 'Purple'\n",
        "\n",
        "\n",
        "#This is still going to change the variable value.\n",
        "#The variable name is not yet private"
      ],
      "execution_count": 11,
      "outputs": []
    },
    {
      "cell_type": "code",
      "metadata": {
        "id": "Sn4xpL6gcpsy",
        "colab_type": "code",
        "colab": {
          "base_uri": "https://localhost:8080/",
          "height": 68
        },
        "outputId": "ea0a9f1e-2ada-468b-f342-2596c100c5f9"
      },
      "source": [
        "print(Second_car.name)\n",
        "print(Second_car.color)\n",
        "print(Second_car.speed)"
      ],
      "execution_count": 12,
      "outputs": [
        {
          "output_type": "stream",
          "text": [
            "Ford\n",
            "Purple\n",
            "45\n"
          ],
          "name": "stdout"
        }
      ]
    },
    {
      "cell_type": "code",
      "metadata": {
        "id": "RXFAihAicsIN",
        "colab_type": "code",
        "colab": {}
      },
      "source": [
        "Second_car.set_speed(31)"
      ],
      "execution_count": 13,
      "outputs": []
    },
    {
      "cell_type": "code",
      "metadata": {
        "id": "CemLngc6dUqa",
        "colab_type": "code",
        "colab": {
          "base_uri": "https://localhost:8080/",
          "height": 68
        },
        "outputId": "ce2e56ad-719c-41ca-b899-dd419833e55b"
      },
      "source": [
        "print(Second_car.name)\n",
        "print(Second_car.color)\n",
        "print(Second_car.speed)"
      ],
      "execution_count": 14,
      "outputs": [
        {
          "output_type": "stream",
          "text": [
            "Ford\n",
            "Purple\n",
            "31\n"
          ],
          "name": "stdout"
        }
      ]
    },
    {
      "cell_type": "code",
      "metadata": {
        "id": "ELfIuYZndWm8",
        "colab_type": "code",
        "colab": {
          "base_uri": "https://localhost:8080/",
          "height": 34
        },
        "outputId": "553ec298-4df7-464f-b682-d36ecd176775"
      },
      "source": [
        "Second_car.get_speed()"
      ],
      "execution_count": 15,
      "outputs": [
        {
          "output_type": "execute_result",
          "data": {
            "text/plain": [
              "31"
            ]
          },
          "metadata": {
            "tags": []
          },
          "execution_count": 15
        }
      ]
    },
    {
      "cell_type": "code",
      "metadata": {
        "id": "fOtZ0M6FdvJQ",
        "colab_type": "code",
        "colab": {}
      },
      "source": [
        "Second_car.speed = 78"
      ],
      "execution_count": 16,
      "outputs": []
    },
    {
      "cell_type": "code",
      "metadata": {
        "id": "wcRBjzwCd61f",
        "colab_type": "code",
        "colab": {
          "base_uri": "https://localhost:8080/",
          "height": 34
        },
        "outputId": "5677b6c8-9f3e-4c74-b71d-5b7100fd1815"
      },
      "source": [
        "Second_car.get_speed()"
      ],
      "execution_count": 17,
      "outputs": [
        {
          "output_type": "execute_result",
          "data": {
            "text/plain": [
              "78"
            ]
          },
          "metadata": {
            "tags": []
          },
          "execution_count": 17
        }
      ]
    },
    {
      "cell_type": "code",
      "metadata": {
        "id": "Sx-e7FqDd-gN",
        "colab_type": "code",
        "colab": {
          "base_uri": "https://localhost:8080/",
          "height": 68
        },
        "outputId": "ccdd0c0c-b9dd-4bdd-ab9e-2fa16200f505"
      },
      "source": [
        "print(Second_car.name)\n",
        "print(Second_car.color)\n",
        "print(Second_car.speed)"
      ],
      "execution_count": 18,
      "outputs": [
        {
          "output_type": "stream",
          "text": [
            "Ford\n",
            "Purple\n",
            "78\n"
          ],
          "name": "stdout"
        }
      ]
    },
    {
      "cell_type": "code",
      "metadata": {
        "id": "7fdT8cLjeAI7",
        "colab_type": "code",
        "colab": {}
      },
      "source": [
        "class Vehicle:\n",
        "  def __init__(self, name, speed, color):\n",
        "    self.__name = name\n",
        "    self.__speed = speed\n",
        "    self.__color = color\n",
        "    print(name)\n",
        "    print(speed)\n",
        "    print(color)\n",
        "\n",
        "  def set_speed(self, value):\n",
        "    self.__speed = value\n",
        "\n",
        "\n",
        "  def get_speed(self):\n",
        "    return self.__speed"
      ],
      "execution_count": 19,
      "outputs": []
    },
    {
      "cell_type": "code",
      "metadata": {
        "id": "2nmcxXV_f1gb",
        "colab_type": "code",
        "colab": {
          "base_uri": "https://localhost:8080/",
          "height": 68
        },
        "outputId": "c6084dcc-b874-47ec-b34b-1e42232178bb"
      },
      "source": [
        "Third_car = Vehicle('Toyota', 83, 'Green')"
      ],
      "execution_count": 20,
      "outputs": [
        {
          "output_type": "stream",
          "text": [
            "Toyota\n",
            "83\n",
            "Green\n"
          ],
          "name": "stdout"
        }
      ]
    },
    {
      "cell_type": "code",
      "metadata": {
        "id": "LI9EYYyHgLml",
        "colab_type": "code",
        "colab": {}
      },
      "source": [
        "#print(Third_car.name)\n",
        "#print(Third_car.color)\n",
        "#print(Third_car.speed)\n",
        "\n",
        "\n",
        "#This will return an error because the variable names are now private\n",
        "#We can no longer access this because it is private"
      ],
      "execution_count": 21,
      "outputs": []
    },
    {
      "cell_type": "markdown",
      "metadata": {
        "id": "v5YnqODEhW02",
        "colab_type": "text"
      },
      "source": [
        "Modifying the variable outside the class will not affect.change the variable value even though no error is returned "
      ]
    },
    {
      "cell_type": "code",
      "metadata": {
        "id": "_FWnoUL8f-kE",
        "colab_type": "code",
        "colab": {}
      },
      "source": [
        "Third_car.__speed = 87"
      ],
      "execution_count": 22,
      "outputs": []
    },
    {
      "cell_type": "markdown",
      "metadata": {
        "id": "WY99_vKDhqlJ",
        "colab_type": "text"
      },
      "source": [
        "The output is still the same even though we changed the variable directly earlier "
      ]
    },
    {
      "cell_type": "code",
      "metadata": {
        "id": "TCWyUPwhgGiB",
        "colab_type": "code",
        "colab": {
          "base_uri": "https://localhost:8080/",
          "height": 34
        },
        "outputId": "aa7463a6-0578-4cd2-f432-70b0470df7ee"
      },
      "source": [
        "Third_car.get_speed()"
      ],
      "execution_count": 23,
      "outputs": [
        {
          "output_type": "execute_result",
          "data": {
            "text/plain": [
              "83"
            ]
          },
          "metadata": {
            "tags": []
          },
          "execution_count": 23
        }
      ]
    },
    {
      "cell_type": "code",
      "metadata": {
        "id": "dM7hKvByhU0L",
        "colab_type": "code",
        "colab": {}
      },
      "source": [
        "Third_car.set_speed(95)"
      ],
      "execution_count": 24,
      "outputs": []
    },
    {
      "cell_type": "code",
      "metadata": {
        "id": "XSeZyVfGiyml",
        "colab_type": "code",
        "colab": {
          "base_uri": "https://localhost:8080/",
          "height": 34
        },
        "outputId": "ddab01ae-df9e-4cc5-a6f0-d8f4f5059bad"
      },
      "source": [
        "Third_car.get_speed()"
      ],
      "execution_count": 25,
      "outputs": [
        {
          "output_type": "execute_result",
          "data": {
            "text/plain": [
              "95"
            ]
          },
          "metadata": {
            "tags": []
          },
          "execution_count": 25
        }
      ]
    },
    {
      "cell_type": "code",
      "metadata": {
        "id": "OwtV7qsbi13Y",
        "colab_type": "code",
        "colab": {
          "base_uri": "https://localhost:8080/",
          "height": 34
        },
        "outputId": "4801a730-b145-4e65-8c98-918974ac1ef6"
      },
      "source": [
        "Third_car.__speed\n",
        "\n",
        "\n",
        "#Even though this returns a value, it still does not change the value of the variable in the class"
      ],
      "execution_count": 26,
      "outputs": [
        {
          "output_type": "execute_result",
          "data": {
            "text/plain": [
              "87"
            ]
          },
          "metadata": {
            "tags": []
          },
          "execution_count": 26
        }
      ]
    },
    {
      "cell_type": "code",
      "metadata": {
        "id": "3mtp6ZG3jUsk",
        "colab_type": "code",
        "colab": {
          "base_uri": "https://localhost:8080/",
          "height": 34
        },
        "outputId": "007c4cc5-9e59-416c-cdf9-49bc3377c554"
      },
      "source": [
        "Third_car.get_speed()"
      ],
      "execution_count": 27,
      "outputs": [
        {
          "output_type": "execute_result",
          "data": {
            "text/plain": [
              "95"
            ]
          },
          "metadata": {
            "tags": []
          },
          "execution_count": 27
        }
      ]
    },
    {
      "cell_type": "markdown",
      "metadata": {
        "id": "34iyMTQ2luI2",
        "colab_type": "text"
      },
      "source": [
        "It is not compulsory set and get are used"
      ]
    },
    {
      "cell_type": "code",
      "metadata": {
        "id": "l3QbbEVFj5oI",
        "colab_type": "code",
        "colab": {}
      },
      "source": [
        "class Vehicle:\n",
        "  def __init__(self, name, speed, color):\n",
        "    self.__name = name\n",
        "    self.__speed = speed\n",
        "    self.__color = color\n",
        "\n",
        "  def input_speed(self, value):\n",
        "    self.__speed = value\n",
        "\n",
        "\n",
        "  def give_speed(self):\n",
        "    return self.__speed"
      ],
      "execution_count": 28,
      "outputs": []
    },
    {
      "cell_type": "code",
      "metadata": {
        "id": "pfC7J1Q6lSRM",
        "colab_type": "code",
        "colab": {}
      },
      "source": [
        "Fouth_car = Vehicle('Lexus', 100, 'Ash')"
      ],
      "execution_count": 29,
      "outputs": []
    },
    {
      "cell_type": "code",
      "metadata": {
        "id": "_G322SN-lZ7p",
        "colab_type": "code",
        "colab": {
          "base_uri": "https://localhost:8080/",
          "height": 34
        },
        "outputId": "d6d2d4aa-4825-425f-fd2b-0d9eb888e299"
      },
      "source": [
        "Fouth_car.give_speed()"
      ],
      "execution_count": 30,
      "outputs": [
        {
          "output_type": "execute_result",
          "data": {
            "text/plain": [
              "100"
            ]
          },
          "metadata": {
            "tags": []
          },
          "execution_count": 30
        }
      ]
    },
    {
      "cell_type": "code",
      "metadata": {
        "id": "DAmZ4Aq4lfLh",
        "colab_type": "code",
        "colab": {}
      },
      "source": [
        "Fouth_car.input_speed(150)"
      ],
      "execution_count": 31,
      "outputs": []
    },
    {
      "cell_type": "code",
      "metadata": {
        "id": "cFkiHESwlqwT",
        "colab_type": "code",
        "colab": {
          "base_uri": "https://localhost:8080/",
          "height": 34
        },
        "outputId": "c860ffbb-0d36-4b28-9c4a-be09fc43a571"
      },
      "source": [
        "Fouth_car.give_speed()"
      ],
      "execution_count": 32,
      "outputs": [
        {
          "output_type": "execute_result",
          "data": {
            "text/plain": [
              "150"
            ]
          },
          "metadata": {
            "tags": []
          },
          "execution_count": 32
        }
      ]
    },
    {
      "cell_type": "code",
      "metadata": {
        "id": "JWE8oM4ilsvo",
        "colab_type": "code",
        "colab": {}
      },
      "source": [
        "Fouth_car.__speed = 110"
      ],
      "execution_count": 33,
      "outputs": []
    },
    {
      "cell_type": "code",
      "metadata": {
        "id": "mPsopxYvl37z",
        "colab_type": "code",
        "colab": {
          "base_uri": "https://localhost:8080/",
          "height": 34
        },
        "outputId": "dfe3ebda-a912-427f-b047-76c9f5da2bff"
      },
      "source": [
        "Fouth_car.give_speed()"
      ],
      "execution_count": 34,
      "outputs": [
        {
          "output_type": "execute_result",
          "data": {
            "text/plain": [
              "150"
            ]
          },
          "metadata": {
            "tags": []
          },
          "execution_count": 34
        }
      ]
    },
    {
      "cell_type": "code",
      "metadata": {
        "id": "EmRstVCQl6bq",
        "colab_type": "code",
        "colab": {
          "base_uri": "https://localhost:8080/",
          "height": 34
        },
        "outputId": "8d5ad414-d4c0-401e-84d6-5d2d9e773570"
      },
      "source": [
        "Fouth_car.__speed"
      ],
      "execution_count": 35,
      "outputs": [
        {
          "output_type": "execute_result",
          "data": {
            "text/plain": [
              "110"
            ]
          },
          "metadata": {
            "tags": []
          },
          "execution_count": 35
        }
      ]
    },
    {
      "cell_type": "code",
      "metadata": {
        "id": "qNCW1Irel9sZ",
        "colab_type": "code",
        "colab": {}
      },
      "source": [
        ""
      ],
      "execution_count": 35,
      "outputs": []
    }
  ]
}