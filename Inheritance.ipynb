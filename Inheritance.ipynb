{
  "nbformat": 4,
  "nbformat_minor": 0,
  "metadata": {
    "colab": {
      "name": "Inheritance.ipynb",
      "provenance": [],
      "authorship_tag": "ABX9TyPKUeLJ3mi1FFKTN1JRnhrv",
      "include_colab_link": true
    },
    "kernelspec": {
      "name": "python3",
      "display_name": "Python 3"
    }
  },
  "cells": [
    {
      "cell_type": "markdown",
      "metadata": {
        "id": "view-in-github",
        "colab_type": "text"
      },
      "source": [
        "<a href=\"https://colab.research.google.com/github/Rvd001/OOP/blob/master/Inheritance.ipynb\" target=\"_parent\"><img src=\"https://colab.research.google.com/assets/colab-badge.svg\" alt=\"Open In Colab\"/></a>"
      ]
    },
    {
      "cell_type": "code",
      "metadata": {
        "id": "TEV966bCnnRC",
        "colab_type": "code",
        "colab": {}
      },
      "source": [
        "\n",
        "\n",
        "from math import pi\n",
        "\n"
      ],
      "execution_count": 1,
      "outputs": []
    },
    {
      "cell_type": "code",
      "metadata": {
        "id": "RAOkfrW_5sWR",
        "colab_type": "code",
        "colab": {}
      },
      "source": [
        "\n",
        "\n",
        "class Shape(object): #Inherits a class \n",
        "  def area(self):\n",
        "    raise NotImplemented\n",
        "\n",
        "\n",
        "\n",
        "  def circumference(self):\n",
        "    raise NotImplemented\n",
        "\n",
        "\n",
        "\n",
        "\n",
        "  def __str__(self):\n",
        "    return type(self).__name__\n",
        "\n",
        "\n",
        "\n",
        "\n"
      ],
      "execution_count": 2,
      "outputs": []
    },
    {
      "cell_type": "code",
      "metadata": {
        "id": "WEXe887K_Cj3",
        "colab_type": "code",
        "colab": {}
      },
      "source": [
        "\n",
        "\n",
        "\n",
        "class Circle(Shape): #Inherits a class called Shape\n",
        "  def __init__(self, r):\n",
        "    self.r = r #Initialize the radius r\n",
        "    \n",
        "\n",
        "\n",
        "\n",
        "  def area(self):\n",
        "    return pi * self.r ** 2  #(pi * r**2)\n",
        "    #this overides the area of the superclass\n",
        "\n",
        "\n",
        "\n",
        "  def circumference(self):\n",
        "    return 2 * pi * self.r     #(2 * pi * r)\n",
        "    #this overides the circumference of the superclass\n",
        "\n",
        "\n",
        "\n"
      ],
      "execution_count": 3,
      "outputs": []
    },
    {
      "cell_type": "code",
      "metadata": {
        "id": "8hp62SPSxD5Y",
        "colab_type": "code",
        "colab": {}
      },
      "source": [
        " \n",
        " \n",
        "class Rectangle(Shape):\n",
        "    def __init__(self, length, width):\n",
        "      self.l = length \n",
        "      self.w = width\n",
        "\n",
        "      #anything can be used with self, most important thing is assigning to the argument of the initializer\n",
        "      #this is peculiar to l and w\n",
        "\n",
        "\n",
        "    def area(self):\n",
        "      return self.l * self.w  #(L * B)\n",
        "\n",
        "\n",
        "\n",
        "\n",
        "    def circumference(self):\n",
        "      return 2 * self.l + 2 * self.w    #2(L + B)\n"
      ],
      "execution_count": 4,
      "outputs": []
    },
    {
      "cell_type": "code",
      "metadata": {
        "id": "jBn2kYta_SJd",
        "colab_type": "code",
        "colab": {}
      },
      "source": [
        "\n",
        "\n",
        "\n",
        "class Square(Rectangle):\n",
        "  def __init__(self, length):\n",
        "    super().__init__(length, length) #this inherits the rectangle class which already inherits the class shape\n",
        "\n",
        "\n",
        "\n"
      ],
      "execution_count": 5,
      "outputs": []
    },
    {
      "cell_type": "code",
      "metadata": {
        "id": "m3uk-1ZaCgJv",
        "colab_type": "code",
        "colab": {}
      },
      "source": [
        "\n",
        "\n",
        "my_shape = Circle(20) #initialize your class with the attributes specified in the __init__ definintion\n",
        "\n"
      ],
      "execution_count": 6,
      "outputs": []
    },
    {
      "cell_type": "code",
      "metadata": {
        "id": "UL64OFhUEFDi",
        "colab_type": "code",
        "colab": {
          "base_uri": "https://localhost:8080/",
          "height": 34
        },
        "outputId": "f81c2262-13c4-4500-83d0-3e706b3afe29"
      },
      "source": [
        "\n",
        "\n",
        "my_shape.area()\n",
        "\n"
      ],
      "execution_count": 7,
      "outputs": [
        {
          "output_type": "execute_result",
          "data": {
            "text/plain": [
              "1256.6370614359173"
            ]
          },
          "metadata": {
            "tags": []
          },
          "execution_count": 7
        }
      ]
    },
    {
      "cell_type": "code",
      "metadata": {
        "id": "bLNY9IX2EKUq",
        "colab_type": "code",
        "colab": {
          "base_uri": "https://localhost:8080/",
          "height": 34
        },
        "outputId": "2925ee34-eb30-400e-884e-3db5fbb33ddf"
      },
      "source": [
        "\n",
        "\n",
        "my_shape.circumference()\n",
        "\n"
      ],
      "execution_count": 8,
      "outputs": [
        {
          "output_type": "execute_result",
          "data": {
            "text/plain": [
              "125.66370614359172"
            ]
          },
          "metadata": {
            "tags": []
          },
          "execution_count": 8
        }
      ]
    },
    {
      "cell_type": "code",
      "metadata": {
        "id": "eP6NLWDyGUrX",
        "colab_type": "code",
        "colab": {
          "base_uri": "https://localhost:8080/",
          "height": 34
        },
        "outputId": "9db80990-9b39-4ca8-f445-9c72cea30465"
      },
      "source": [
        "\n",
        "\n",
        "my_shape.r\n",
        "\n"
      ],
      "execution_count": 9,
      "outputs": [
        {
          "output_type": "execute_result",
          "data": {
            "text/plain": [
              "20"
            ]
          },
          "metadata": {
            "tags": []
          },
          "execution_count": 9
        }
      ]
    },
    {
      "cell_type": "code",
      "metadata": {
        "id": "DqKr-nzyEvtu",
        "colab_type": "code",
        "colab": {}
      },
      "source": [
        "\n",
        "\n",
        "new_shape = Rectangle(2,5)\n",
        "\n"
      ],
      "execution_count": 10,
      "outputs": []
    },
    {
      "cell_type": "code",
      "metadata": {
        "id": "7P0RlmpAG3Il",
        "colab_type": "code",
        "colab": {
          "base_uri": "https://localhost:8080/",
          "height": 34
        },
        "outputId": "ddc19a6b-eb61-4c52-9f97-1f5814d828d9"
      },
      "source": [
        "new_shape.area()"
      ],
      "execution_count": 11,
      "outputs": [
        {
          "output_type": "execute_result",
          "data": {
            "text/plain": [
              "10"
            ]
          },
          "metadata": {
            "tags": []
          },
          "execution_count": 11
        }
      ]
    },
    {
      "cell_type": "code",
      "metadata": {
        "id": "A-lJ5ejXG5Xt",
        "colab_type": "code",
        "colab": {
          "base_uri": "https://localhost:8080/",
          "height": 34
        },
        "outputId": "4018fe3c-d4d3-4db3-e820-c439b5d6b3b8"
      },
      "source": [
        "new_shape.circumference()"
      ],
      "execution_count": 12,
      "outputs": [
        {
          "output_type": "execute_result",
          "data": {
            "text/plain": [
              "14"
            ]
          },
          "metadata": {
            "tags": []
          },
          "execution_count": 12
        }
      ]
    },
    {
      "cell_type": "code",
      "metadata": {
        "id": "8XJMRL4XG8Mf",
        "colab_type": "code",
        "colab": {}
      },
      "source": [
        "final_shape = Square(5)"
      ],
      "execution_count": 13,
      "outputs": []
    },
    {
      "cell_type": "code",
      "metadata": {
        "id": "evjwJUALHFrF",
        "colab_type": "code",
        "colab": {
          "base_uri": "https://localhost:8080/",
          "height": 34
        },
        "outputId": "de0c7098-e22d-46cc-b698-e348ea68b6ce"
      },
      "source": [
        "final_shape.area()"
      ],
      "execution_count": 14,
      "outputs": [
        {
          "output_type": "execute_result",
          "data": {
            "text/plain": [
              "25"
            ]
          },
          "metadata": {
            "tags": []
          },
          "execution_count": 14
        }
      ]
    },
    {
      "cell_type": "code",
      "metadata": {
        "id": "IuWO3ohBHIQ8",
        "colab_type": "code",
        "colab": {}
      },
      "source": [
        "\n",
        "\n",
        "fav_shape = [Square(10), Circle(7), Rectangle(4,8)]\n",
        "\n"
      ],
      "execution_count": 15,
      "outputs": []
    },
    {
      "cell_type": "code",
      "metadata": {
        "id": "XvzvUIugxeuh",
        "colab_type": "code",
        "colab": {
          "base_uri": "https://localhost:8080/",
          "height": 68
        },
        "outputId": "b91c5f19-ff76-45cf-9a13-67a545c53be7"
      },
      "source": [
        "\n",
        "\n",
        "for shape in fav_shape:\n",
        "  print(f'the area of {shape} is {shape.area()}')\n",
        "\n",
        "  "
      ],
      "execution_count": 16,
      "outputs": [
        {
          "output_type": "stream",
          "text": [
            "the area of Square is 100\n",
            "the area of Circle is 153.93804002589985\n",
            "the area of Rectangle is 32\n"
          ],
          "name": "stdout"
        }
      ]
    },
    {
      "cell_type": "code",
      "metadata": {
        "id": "F5L7NsgJyaGw",
        "colab_type": "code",
        "colab": {
          "base_uri": "https://localhost:8080/",
          "height": 68
        },
        "outputId": "d6ebb638-0e4c-4e04-d819-6a4bbfd2367f"
      },
      "source": [
        "\n",
        "\n",
        "for shape in fav_shape:\n",
        "  print(f'the circumference of {shape} is {shape.circumference()}')\n",
        "\n",
        "  "
      ],
      "execution_count": 17,
      "outputs": [
        {
          "output_type": "stream",
          "text": [
            "the circumference of Square is 40\n",
            "the circumference of Circle is 43.982297150257104\n",
            "the circumference of Rectangle is 24\n"
          ],
          "name": "stdout"
        }
      ]
    }
  ]
}