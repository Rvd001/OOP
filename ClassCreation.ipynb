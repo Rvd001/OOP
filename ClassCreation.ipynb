{
  "nbformat": 4,
  "nbformat_minor": 0,
  "metadata": {
    "colab": {
      "name": "ClassCreation.ipynb",
      "provenance": [],
      "authorship_tag": "ABX9TyOZdprhOAwYugrSG5Iztelh",
      "include_colab_link": true
    },
    "kernelspec": {
      "name": "python3",
      "display_name": "Python 3"
    }
  },
  "cells": [
    {
      "cell_type": "markdown",
      "metadata": {
        "id": "view-in-github",
        "colab_type": "text"
      },
      "source": [
        "<a href=\"https://colab.research.google.com/github/Rvd001/OOP/blob/master/ClassCreation.ipynb\" target=\"_parent\"><img src=\"https://colab.research.google.com/assets/colab-badge.svg\" alt=\"Open In Colab\"/></a>"
      ]
    },
    {
      "cell_type": "code",
      "metadata": {
        "id": "ydBeM85KvIw_",
        "colab_type": "code",
        "colab": {}
      },
      "source": [
        "from enum import Enum"
      ],
      "execution_count": 1,
      "outputs": []
    },
    {
      "cell_type": "code",
      "metadata": {
        "id": "tN1B3YywvgUg",
        "colab_type": "code",
        "colab": {}
      },
      "source": [
        "class Condition(Enum):#enumerates some constant values \n",
        "  NEW = 1\n",
        "  GOOD = 0.8\n",
        "  OKAY = 0.5\n",
        "  BAD = 0.2\n",
        "\n",
        "class MethodNotAllowed(Exception): #creates a method that raise an exception error\n",
        "  pass\n",
        "\n",
        "class Car(object):\n",
        "  def __init__(self, description, condition, sale_price, cost = 0):\n",
        "    self.description = description\n",
        "    self.condition = condition\n",
        "    self.sale_price = sale_price\n",
        "    self.cost = cost\n",
        "\n",
        "    self.sold = False #sold is false by default\n",
        "\n",
        "  def update_sale_price(self, sale_price):\n",
        "    if self.sold: #if the car is sold already, raise an error, if not update the sales price with the price specified\n",
        "      raise MethodNotAllowed(\"The car has already been sold\")\n",
        "    self.sale_price = sale_price\n",
        "    return 'The new selling price is ' + str(sale_price)\n",
        "\n",
        "  def sell(self):\n",
        "    \"\"\"\n",
        "    Mark as sold and determine the profit received from selling the car\n",
        "    Use the lastest sales price\n",
        "    \"\"\"\n",
        "    self.sold = True #Updates the sold attribute to true once it is sold\n",
        "    profit = self.sale_price - self.cost \n",
        "    #finds the profit from the difference between the sales price specified when creating the Car class \n",
        "    #or the sales price when it was updated and the cost price of the car\n",
        "    return 'the proft made from selling this car is ' + \"$\" + str(profit)\n",
        "\n",
        "  def service(self, spent, sale_price = None, condition = None): #Notice the arguments were assigned towards the end, \n",
        "  #keyword arguments and positional arguments follow some basic rules\n",
        "    \"\"\"\n",
        "    service the bike and update the attribute\n",
        "\n",
        "    \"\"\"\n",
        "    \n",
        "    self.cost += spent #note it is +ve before equal to\n",
        "  #this is the same as self.cost = self.cost + spent\n",
        "  #this updates the cost price of the car after it was serviced\n",
        "    if sale_price: #since sales price can be none, if it is specified, it means a new sales price\n",
        "  #has been chosen because of the service cost\n",
        "      self.update_sale_price(sale_price)\n",
        "    if self.condition: #if a condition was specified, update the condition \n",
        "      self.condition = condition\n",
        "    #cost = self.cost\n",
        "    #return 'The new cost price is ' + str(cost)\n",
        "  \n",
        "  \n"
      ],
      "execution_count": 2,
      "outputs": []
    },
    {
      "cell_type": "markdown",
      "metadata": {
        "id": "8N5KH7v9EJN1",
        "colab_type": "text"
      },
      "source": [
        "## **Using the class**"
      ]
    },
    {
      "cell_type": "markdown",
      "metadata": {
        "id": "Y9hu-uwmEMxt",
        "colab_type": "text"
      },
      "source": [
        "Usning the class means creating an object"
      ]
    },
    {
      "cell_type": "code",
      "metadata": {
        "id": "vMjr02eiD5Bm",
        "colab_type": "code",
        "colab": {
          "base_uri": "https://localhost:8080/",
          "height": 34
        },
        "outputId": "be000c0a-e9ae-4468-a471-7255d5cc21e3"
      },
      "source": [
        "Ferari = Car(description = 'Blue Ferari', condition =Condition.NEW, sale_price = 500, cost = 120)\n",
        "Ferari"
      ],
      "execution_count": 3,
      "outputs": [
        {
          "output_type": "execute_result",
          "data": {
            "text/plain": [
              "<__main__.Car at 0x7f78a70fbd68>"
            ]
          },
          "metadata": {
            "tags": []
          },
          "execution_count": 3
        }
      ]
    },
    {
      "cell_type": "code",
      "metadata": {
        "id": "FJVi_hJCFls0",
        "colab_type": "code",
        "colab": {
          "base_uri": "https://localhost:8080/",
          "height": 35
        },
        "outputId": "e329d7c8-9e8a-4450-9c95-a5c6f1e39f12"
      },
      "source": [
        "Ferari.sell()"
      ],
      "execution_count": 4,
      "outputs": [
        {
          "output_type": "execute_result",
          "data": {
            "application/vnd.google.colaboratory.intrinsic+json": {
              "type": "string"
            },
            "text/plain": [
              "'the proft made from selling this car is $380'"
            ]
          },
          "metadata": {
            "tags": []
          },
          "execution_count": 4
        }
      ]
    },
    {
      "cell_type": "code",
      "metadata": {
        "id": "k75Z2_VeGmfk",
        "colab_type": "code",
        "colab": {}
      },
      "source": [
        "Ferari.service(50) #$50 was spent in servicing the car"
      ],
      "execution_count": 5,
      "outputs": []
    },
    {
      "cell_type": "code",
      "metadata": {
        "id": "2O2ktBQ_IxqA",
        "colab_type": "code",
        "colab": {
          "base_uri": "https://localhost:8080/",
          "height": 35
        },
        "outputId": "bbce50c1-4471-416c-ae39-fc0b25826f31"
      },
      "source": [
        "Ferari.sell()"
      ],
      "execution_count": 6,
      "outputs": [
        {
          "output_type": "execute_result",
          "data": {
            "application/vnd.google.colaboratory.intrinsic+json": {
              "type": "string"
            },
            "text/plain": [
              "'the proft made from selling this car is $330'"
            ]
          },
          "metadata": {
            "tags": []
          },
          "execution_count": 6
        }
      ]
    },
    {
      "cell_type": "code",
      "metadata": {
        "id": "jyUgo_HAKqSZ",
        "colab_type": "code",
        "colab": {}
      },
      "source": [
        "#Ferari.service(spent = 35, sale_price = 710) #This will throw an exception error because the car has been sold"
      ],
      "execution_count": 7,
      "outputs": []
    },
    {
      "cell_type": "code",
      "metadata": {
        "id": "yk64celtMx-A",
        "colab_type": "code",
        "colab": {
          "base_uri": "https://localhost:8080/",
          "height": 34
        },
        "outputId": "76b02848-e75d-4381-d074-853b06e91c0d"
      },
      "source": [
        "Benz = Car(description = 'Red CLA', condition =Condition.GOOD, sale_price = 650, cost = 160)\n",
        "Benz"
      ],
      "execution_count": 8,
      "outputs": [
        {
          "output_type": "execute_result",
          "data": {
            "text/plain": [
              "<__main__.Car at 0x7f78a43e1a58>"
            ]
          },
          "metadata": {
            "tags": []
          },
          "execution_count": 8
        }
      ]
    },
    {
      "cell_type": "code",
      "metadata": {
        "id": "AKWCC5FUSwn2",
        "colab_type": "code",
        "colab": {
          "base_uri": "https://localhost:8080/",
          "height": 34
        },
        "outputId": "87c6f21d-86c6-4c9d-fab7-41cbeef90825"
      },
      "source": [
        "Benz.cost"
      ],
      "execution_count": 9,
      "outputs": [
        {
          "output_type": "execute_result",
          "data": {
            "text/plain": [
              "160"
            ]
          },
          "metadata": {
            "tags": []
          },
          "execution_count": 9
        }
      ]
    },
    {
      "cell_type": "code",
      "metadata": {
        "id": "foPEGqXgSzNO",
        "colab_type": "code",
        "colab": {
          "base_uri": "https://localhost:8080/",
          "height": 34
        },
        "outputId": "63d2ac49-1055-468d-b4c5-f98a8ed6300a"
      },
      "source": [
        "Benz.sale_price"
      ],
      "execution_count": 10,
      "outputs": [
        {
          "output_type": "execute_result",
          "data": {
            "text/plain": [
              "650"
            ]
          },
          "metadata": {
            "tags": []
          },
          "execution_count": 10
        }
      ]
    },
    {
      "cell_type": "code",
      "metadata": {
        "id": "aiWoCSXtNJ7X",
        "colab_type": "code",
        "colab": {}
      },
      "source": [
        "#Benz.sell() #if this is called it gives $490"
      ],
      "execution_count": 11,
      "outputs": []
    },
    {
      "cell_type": "code",
      "metadata": {
        "id": "hcWlBXZUNOGi",
        "colab_type": "code",
        "colab": {}
      },
      "source": [
        "Benz.service(spent = 70, sale_price = 1050)"
      ],
      "execution_count": 12,
      "outputs": []
    },
    {
      "cell_type": "code",
      "metadata": {
        "id": "_LwMCfIrSqKH",
        "colab_type": "code",
        "colab": {
          "base_uri": "https://localhost:8080/",
          "height": 34
        },
        "outputId": "39aca729-06f7-440e-db92-11405e7da57e"
      },
      "source": [
        "Benz.cost"
      ],
      "execution_count": 13,
      "outputs": [
        {
          "output_type": "execute_result",
          "data": {
            "text/plain": [
              "230"
            ]
          },
          "metadata": {
            "tags": []
          },
          "execution_count": 13
        }
      ]
    },
    {
      "cell_type": "code",
      "metadata": {
        "id": "EehaeL96S7dT",
        "colab_type": "code",
        "colab": {
          "base_uri": "https://localhost:8080/",
          "height": 34
        },
        "outputId": "248e688b-2623-43a9-c4ab-387a41c88c4f"
      },
      "source": [
        "Benz.sale_price"
      ],
      "execution_count": 14,
      "outputs": [
        {
          "output_type": "execute_result",
          "data": {
            "text/plain": [
              "1050"
            ]
          },
          "metadata": {
            "tags": []
          },
          "execution_count": 14
        }
      ]
    },
    {
      "cell_type": "code",
      "metadata": {
        "id": "i_h0UnN4Neif",
        "colab_type": "code",
        "colab": {
          "base_uri": "https://localhost:8080/",
          "height": 35
        },
        "outputId": "fa5f5ffa-2b55-4f07-a2df-8b44c74440c9"
      },
      "source": [
        "Benz.sell() #This means the cost price update to 160 + 70, which is $230 and the selling price updated to $1050"
      ],
      "execution_count": 15,
      "outputs": [
        {
          "output_type": "execute_result",
          "data": {
            "application/vnd.google.colaboratory.intrinsic+json": {
              "type": "string"
            },
            "text/plain": [
              "'the proft made from selling this car is $820'"
            ]
          },
          "metadata": {
            "tags": []
          },
          "execution_count": 15
        }
      ]
    },
    {
      "cell_type": "code",
      "metadata": {
        "id": "VOsPEAloOSCI",
        "colab_type": "code",
        "colab": {}
      },
      "source": [
        "Benz.service(60) #$60 has been spent and the cost increased by $60 because of this expenses"
      ],
      "execution_count": 16,
      "outputs": []
    },
    {
      "cell_type": "code",
      "metadata": {
        "id": "P91p2vmtTG9G",
        "colab_type": "code",
        "colab": {
          "base_uri": "https://localhost:8080/",
          "height": 34
        },
        "outputId": "ae99250a-5255-4120-9c35-2e7c92e47316"
      },
      "source": [
        "Benz.cost"
      ],
      "execution_count": 17,
      "outputs": [
        {
          "output_type": "execute_result",
          "data": {
            "text/plain": [
              "290"
            ]
          },
          "metadata": {
            "tags": []
          },
          "execution_count": 17
        }
      ]
    },
    {
      "cell_type": "code",
      "metadata": {
        "id": "ZF7sfH1oTMPo",
        "colab_type": "code",
        "colab": {
          "base_uri": "https://localhost:8080/",
          "height": 34
        },
        "outputId": "7881b6a6-6163-484d-c7fd-9e3e11b27524"
      },
      "source": [
        "Benz.sale_price"
      ],
      "execution_count": 18,
      "outputs": [
        {
          "output_type": "execute_result",
          "data": {
            "text/plain": [
              "1050"
            ]
          },
          "metadata": {
            "tags": []
          },
          "execution_count": 18
        }
      ]
    },
    {
      "cell_type": "code",
      "metadata": {
        "id": "rlFSiyTCSXGN",
        "colab_type": "code",
        "colab": {
          "base_uri": "https://localhost:8080/",
          "height": 35
        },
        "outputId": "0c112a77-4dfa-4410-9d0c-27233509d3d1"
      },
      "source": [
        "Benz.sell()"
      ],
      "execution_count": 19,
      "outputs": [
        {
          "output_type": "execute_result",
          "data": {
            "application/vnd.google.colaboratory.intrinsic+json": {
              "type": "string"
            },
            "text/plain": [
              "'the proft made from selling this car is $760'"
            ]
          },
          "metadata": {
            "tags": []
          },
          "execution_count": 19
        }
      ]
    },
    {
      "cell_type": "markdown",
      "metadata": {
        "id": "_zQUBdp7PSbB",
        "colab_type": "text"
      },
      "source": [
        "Checking the current cost of Benz"
      ]
    },
    {
      "cell_type": "code",
      "metadata": {
        "id": "4bWfNnGlPDkP",
        "colab_type": "code",
        "colab": {
          "base_uri": "https://localhost:8080/",
          "height": 34
        },
        "outputId": "5891470e-14b2-4806-ffc5-60a4f4053bf6"
      },
      "source": [
        "Benz.cost"
      ],
      "execution_count": 20,
      "outputs": [
        {
          "output_type": "execute_result",
          "data": {
            "text/plain": [
              "290"
            ]
          },
          "metadata": {
            "tags": []
          },
          "execution_count": 20
        }
      ]
    },
    {
      "cell_type": "markdown",
      "metadata": {
        "id": "zqouOnRsPnJ1",
        "colab_type": "text"
      },
      "source": [
        "Checking the current selling price of Benz"
      ]
    },
    {
      "cell_type": "code",
      "metadata": {
        "id": "URd5Q41sPO6G",
        "colab_type": "code",
        "colab": {
          "base_uri": "https://localhost:8080/",
          "height": 34
        },
        "outputId": "0a7b2f40-4ba0-4750-f064-4a582083a190"
      },
      "source": [
        "Benz.sale_price"
      ],
      "execution_count": 21,
      "outputs": [
        {
          "output_type": "execute_result",
          "data": {
            "text/plain": [
              "1050"
            ]
          },
          "metadata": {
            "tags": []
          },
          "execution_count": 21
        }
      ]
    },
    {
      "cell_type": "markdown",
      "metadata": {
        "id": "TcZfKEJjPwrc",
        "colab_type": "text"
      },
      "source": [
        "Checking the current condition of Benz"
      ]
    },
    {
      "cell_type": "code",
      "metadata": {
        "id": "7hGR3yeoPb5K",
        "colab_type": "code",
        "colab": {}
      },
      "source": [
        "Benz.condition"
      ],
      "execution_count": 22,
      "outputs": []
    },
    {
      "cell_type": "markdown",
      "metadata": {
        "id": "mpQ2Kj-_P0ux",
        "colab_type": "text"
      },
      "source": [
        "Checking the description of Benz"
      ]
    },
    {
      "cell_type": "code",
      "metadata": {
        "id": "JFg2AnymPgOW",
        "colab_type": "code",
        "colab": {
          "base_uri": "https://localhost:8080/",
          "height": 35
        },
        "outputId": "a83e014a-1213-4700-ef4f-160c76ed82a7"
      },
      "source": [
        "Benz.description"
      ],
      "execution_count": 23,
      "outputs": [
        {
          "output_type": "execute_result",
          "data": {
            "application/vnd.google.colaboratory.intrinsic+json": {
              "type": "string"
            },
            "text/plain": [
              "'Red CLA'"
            ]
          },
          "metadata": {
            "tags": []
          },
          "execution_count": 23
        }
      ]
    },
    {
      "cell_type": "code",
      "metadata": {
        "id": "CQq2P-paPjrP",
        "colab_type": "code",
        "colab": {
          "base_uri": "https://localhost:8080/",
          "height": 34
        },
        "outputId": "57e92765-d087-4561-bb64-d467e566a6f1"
      },
      "source": [
        "BMW = Car(description = 'Whine BMW', condition =Condition.OKAY, sale_price = 720, cost = 105)\n",
        "BMW"
      ],
      "execution_count": 24,
      "outputs": [
        {
          "output_type": "execute_result",
          "data": {
            "text/plain": [
              "<__main__.Car at 0x7f78a43df198>"
            ]
          },
          "metadata": {
            "tags": []
          },
          "execution_count": 24
        }
      ]
    },
    {
      "cell_type": "code",
      "metadata": {
        "id": "2lmBXiGqTjp4",
        "colab_type": "code",
        "colab": {
          "base_uri": "https://localhost:8080/",
          "height": 34
        },
        "outputId": "b4bb0c77-73ac-4299-cf94-c6d2f85e2017"
      },
      "source": [
        "id(BMW) #checking where this is save temporarily in the memory it returns a decimal value"
      ],
      "execution_count": 25,
      "outputs": [
        {
          "output_type": "execute_result",
          "data": {
            "text/plain": [
              "140156128326040"
            ]
          },
          "metadata": {
            "tags": []
          },
          "execution_count": 25
        }
      ]
    },
    {
      "cell_type": "code",
      "metadata": {
        "id": "9izf8t4jVf3S",
        "colab_type": "code",
        "colab": {
          "base_uri": "https://localhost:8080/",
          "height": 51
        },
        "outputId": "57bac711-1b75-404a-f15c-fca171d28a36"
      },
      "source": [
        "print('The Current Selling price is', BMW.sale_price)\n",
        "print('The current Cost Price is',BMW.cost)"
      ],
      "execution_count": 26,
      "outputs": [
        {
          "output_type": "stream",
          "text": [
            "The Current Selling price is 720\n",
            "The current Cost Price is 105\n"
          ],
          "name": "stdout"
        }
      ]
    },
    {
      "cell_type": "code",
      "metadata": {
        "id": "jWS99q0-TvQr",
        "colab_type": "code",
        "colab": {
          "base_uri": "https://localhost:8080/",
          "height": 35
        },
        "outputId": "9e4c0958-ee65-47ad-958d-e91d7d47c8f2"
      },
      "source": [
        "BMW.update_sale_price(780)"
      ],
      "execution_count": 27,
      "outputs": [
        {
          "output_type": "execute_result",
          "data": {
            "application/vnd.google.colaboratory.intrinsic+json": {
              "type": "string"
            },
            "text/plain": [
              "'The new selling price is 780'"
            ]
          },
          "metadata": {
            "tags": []
          },
          "execution_count": 27
        }
      ]
    },
    {
      "cell_type": "code",
      "metadata": {
        "id": "bOWlyAryVmUh",
        "colab_type": "code",
        "colab": {
          "base_uri": "https://localhost:8080/",
          "height": 51
        },
        "outputId": "e0810479-b47e-4752-c78d-b169d5417c2c"
      },
      "source": [
        "print('The Current Selling price is', BMW.sale_price)\n",
        "print('The current Cost Price is',BMW.cost)"
      ],
      "execution_count": 28,
      "outputs": [
        {
          "output_type": "stream",
          "text": [
            "The Current Selling price is 780\n",
            "The current Cost Price is 105\n"
          ],
          "name": "stdout"
        }
      ]
    },
    {
      "cell_type": "code",
      "metadata": {
        "id": "H_ESPPKSV5Wm",
        "colab_type": "code",
        "colab": {
          "base_uri": "https://localhost:8080/",
          "height": 35
        },
        "outputId": "84248095-9b96-417f-e050-34c1d26c83ac"
      },
      "source": [
        "BMW.sell()"
      ],
      "execution_count": 29,
      "outputs": [
        {
          "output_type": "execute_result",
          "data": {
            "application/vnd.google.colaboratory.intrinsic+json": {
              "type": "string"
            },
            "text/plain": [
              "'the proft made from selling this car is $675'"
            ]
          },
          "metadata": {
            "tags": []
          },
          "execution_count": 29
        }
      ]
    },
    {
      "cell_type": "code",
      "metadata": {
        "id": "Ujqoci5xWG1w",
        "colab_type": "code",
        "colab": {
          "base_uri": "https://localhost:8080/",
          "height": 51
        },
        "outputId": "a276f209-70b2-4017-955d-e8db9979aec7"
      },
      "source": [
        "print('The Current Selling price is', BMW.sale_price)\n",
        "print('The current Cost Price is',BMW.cost)"
      ],
      "execution_count": 30,
      "outputs": [
        {
          "output_type": "stream",
          "text": [
            "The Current Selling price is 780\n",
            "The current Cost Price is 105\n"
          ],
          "name": "stdout"
        }
      ]
    },
    {
      "cell_type": "code",
      "metadata": {
        "id": "bJoPKV60WJpz",
        "colab_type": "code",
        "colab": {}
      },
      "source": [
        "BMW.service(230)"
      ],
      "execution_count": 31,
      "outputs": []
    },
    {
      "cell_type": "code",
      "metadata": {
        "id": "XYvjdVUIWORQ",
        "colab_type": "code",
        "colab": {
          "base_uri": "https://localhost:8080/",
          "height": 51
        },
        "outputId": "f6f984b5-7ae7-4a83-ef67-392d69c92c0d"
      },
      "source": [
        "print('The Current Selling price is', BMW.sale_price)\n",
        "print('The current Cost Price is',BMW.cost)"
      ],
      "execution_count": 32,
      "outputs": [
        {
          "output_type": "stream",
          "text": [
            "The Current Selling price is 780\n",
            "The current Cost Price is 335\n"
          ],
          "name": "stdout"
        }
      ]
    },
    {
      "cell_type": "code",
      "metadata": {
        "id": "1Cl-NxY-WPP5",
        "colab_type": "code",
        "colab": {
          "base_uri": "https://localhost:8080/",
          "height": 35
        },
        "outputId": "9b4aa648-914a-44d9-c785-e4d8d5f375df"
      },
      "source": [
        "BMW.sell()"
      ],
      "execution_count": 33,
      "outputs": [
        {
          "output_type": "execute_result",
          "data": {
            "application/vnd.google.colaboratory.intrinsic+json": {
              "type": "string"
            },
            "text/plain": [
              "'the proft made from selling this car is $445'"
            ]
          },
          "metadata": {
            "tags": []
          },
          "execution_count": 33
        }
      ]
    },
    {
      "cell_type": "code",
      "metadata": {
        "id": "igoTF8GoWSRx",
        "colab_type": "code",
        "colab": {}
      },
      "source": [
        ""
      ],
      "execution_count": 33,
      "outputs": []
    }
  ]
}