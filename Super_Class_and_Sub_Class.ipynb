{
  "nbformat": 4,
  "nbformat_minor": 0,
  "metadata": {
    "colab": {
      "name": "Super Class and Sub Class.ipynb",
      "provenance": [],
      "authorship_tag": "ABX9TyOq4T5flQ6yQhCMt2z2cz5H",
      "include_colab_link": true
    },
    "kernelspec": {
      "name": "python3",
      "display_name": "Python 3"
    }
  },
  "cells": [
    {
      "cell_type": "markdown",
      "metadata": {
        "id": "view-in-github",
        "colab_type": "text"
      },
      "source": [
        "<a href=\"https://colab.research.google.com/github/Rvd001/OOP/blob/master/Super_Class_and_Sub_Class.ipynb\" target=\"_parent\"><img src=\"https://colab.research.google.com/assets/colab-badge.svg\" alt=\"Open In Colab\"/></a>"
      ]
    },
    {
      "cell_type": "code",
      "metadata": {
        "id": "ETiwF6pCkrWZ",
        "colab_type": "code",
        "colab": {}
      },
      "source": [
        "from enum import Enum"
      ],
      "execution_count": 1,
      "outputs": []
    },
    {
      "cell_type": "code",
      "metadata": {
        "id": "O8PUcpr-lDyi",
        "colab_type": "code",
        "colab": {}
      },
      "source": [
        "class Condition(Enum):\n",
        "  NEW = 1\n",
        "  GOOD = 0.8\n",
        "  OKAY = 0.5\n",
        "  BAD = 0.2\n",
        "\n",
        "\n",
        "\n",
        "class MethodNotAllowed(Exception): \n",
        "  pass\n",
        "\n",
        "\n",
        "\n",
        "class Car(object):\n",
        "  def __init__(self, description, condition, sale_price, cost = 0):\n",
        "    self.description = description\n",
        "    self.condition = condition\n",
        "    self.sale_price = sale_price\n",
        "    self.cost = cost\n",
        "\n",
        "    self.sold = False \n",
        "\n",
        "\n",
        "\n",
        "  def update_sale_price(self, sale_price):\n",
        "    if self.sold: \n",
        "      raise MethodNotAllowed(\"The car has already been sold\")\n",
        "    self.sale_price = sale_price\n",
        "    return 'The new selling price is ' + str(sale_price)\n",
        "\n",
        "\n",
        "\n",
        "  def sell(self):\n",
        "    \"\"\"\n",
        "    Mark as sold and determine the profit received from selling the car\n",
        "    Use the lastest sales price\n",
        "    \"\"\"\n",
        "    self.sold = True \n",
        "    profit = self.sale_price - self.cost \n",
        "    return 'the proft made from selling this car is ' + \"$\" + str(profit)\n",
        "\n",
        "\n",
        "\n",
        "  def service(self, spent, sale_price = None, condition = None):\n",
        "    \"\"\"\n",
        "    service the bike and update the attribute\n",
        "    \"\"\"\n",
        "    self.cost += spent\n",
        "    if sale_price:\n",
        "      self.update_sale_price(sale_price)\n",
        "    if self.condition:\n",
        "      self.condition = condition\n"
      ],
      "execution_count": 2,
      "outputs": []
    },
    {
      "cell_type": "markdown",
      "metadata": {
        "id": "7A_ibvyclt6O",
        "colab_type": "text"
      },
      "source": [
        "## **Creating a subclass of the Car class**"
      ]
    },
    {
      "cell_type": "code",
      "metadata": {
        "id": "Tyvyrse7lHe7",
        "colab_type": "code",
        "colab": {}
      },
      "source": [
        "class BMW(Car):\n",
        "  def __init__(self, horsepower, mileage = 0 ):\n",
        "    self.hp = horsepower\n",
        "    self.distsofar = mileage\n",
        "\n",
        "\n",
        "  def depreciation(self):\n",
        "    return f'The depreciation is {self.hp * self.distsofar}'\n",
        "\n",
        "\n",
        "class Ferari(BMW):\n",
        "  def __init__(self, horsepower, mileage, energyboost):\n",
        "    self.boost = energyboost\n",
        "    #return self.boost\n",
        "    super().__init__(horsepower, mileage)\n",
        "    \n"
      ],
      "execution_count": 3,
      "outputs": []
    },
    {
      "cell_type": "code",
      "metadata": {
        "id": "2J55lGiooa8G",
        "colab_type": "code",
        "colab": {
          "base_uri": "https://localhost:8080/",
          "height": 35
        },
        "outputId": "93516932-8737-465e-f793-d6fdcdc6fa14"
      },
      "source": [
        "my_car = BMW(20,4)\n",
        "my_car.depreciation()"
      ],
      "execution_count": 4,
      "outputs": [
        {
          "output_type": "execute_result",
          "data": {
            "application/vnd.google.colaboratory.intrinsic+json": {
              "type": "string"
            },
            "text/plain": [
              "'The depreciation is 80'"
            ]
          },
          "metadata": {
            "tags": []
          },
          "execution_count": 4
        }
      ]
    },
    {
      "cell_type": "code",
      "metadata": {
        "id": "yUYXjfQuokhe",
        "colab_type": "code",
        "colab": {}
      },
      "source": [
        "my_new_car = Ferari(30,7,3)"
      ],
      "execution_count": 5,
      "outputs": []
    },
    {
      "cell_type": "code",
      "metadata": {
        "id": "9P6tz5P3o18L",
        "colab_type": "code",
        "colab": {
          "base_uri": "https://localhost:8080/",
          "height": 35
        },
        "outputId": "3b8d0bb5-ef79-4f1e-fdc0-53c0a9fceaf1"
      },
      "source": [
        "my_new_car.depreciation()"
      ],
      "execution_count": 6,
      "outputs": [
        {
          "output_type": "execute_result",
          "data": {
            "application/vnd.google.colaboratory.intrinsic+json": {
              "type": "string"
            },
            "text/plain": [
              "'The depreciation is 210'"
            ]
          },
          "metadata": {
            "tags": []
          },
          "execution_count": 6
        }
      ]
    },
    {
      "cell_type": "code",
      "metadata": {
        "id": "oGFIqLF8rwx1",
        "colab_type": "code",
        "colab": {}
      },
      "source": [
        ""
      ],
      "execution_count": 6,
      "outputs": []
    }
  ]
}