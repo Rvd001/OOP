{
  "nbformat": 4,
  "nbformat_minor": 0,
  "metadata": {
    "colab": {
      "name": "Super Class and Sub Class.ipynb",
      "provenance": [],
      "authorship_tag": "ABX9TyMI9MNmoZ3NCw7uTq2ay5QS",
      "include_colab_link": true
    },
    "kernelspec": {
      "name": "python3",
      "display_name": "Python 3"
    }
  },
  "cells": [
    {
      "cell_type": "markdown",
      "metadata": {
        "id": "view-in-github",
        "colab_type": "text"
      },
      "source": [
        "<a href=\"https://colab.research.google.com/github/Rvd001/OOP/blob/master/Super_Class_and_Sub_Class.ipynb\" target=\"_parent\"><img src=\"https://colab.research.google.com/assets/colab-badge.svg\" alt=\"Open In Colab\"/></a>"
      ]
    },
    {
      "cell_type": "code",
      "metadata": {
        "id": "ETiwF6pCkrWZ",
        "colab_type": "code",
        "colab": {}
      },
      "source": [
        "from enum import Enum"
      ],
      "execution_count": 1,
      "outputs": []
    },
    {
      "cell_type": "code",
      "metadata": {
        "id": "O8PUcpr-lDyi",
        "colab_type": "code",
        "colab": {}
      },
      "source": [
        "class Condition(Enum):\n",
        "  NEW = 1\n",
        "  GOOD = 0.8\n",
        "  OKAY = 0.5\n",
        "  BAD = 0.2\n",
        "\n",
        "\n",
        "\n",
        "class MethodNotAllowed(Exception): \n",
        "  pass\n",
        "\n",
        "\n",
        "\n",
        "class Car(object):\n",
        "  def __init__(self, description, condition, sale_price, cost = 0):\n",
        "    self.description = description\n",
        "    self.condition = condition\n",
        "    self.sale_price = sale_price\n",
        "    self.cost = cost\n",
        "\n",
        "    self.sold = False \n",
        "\n",
        "\n",
        "\n",
        "  def update_sale_price(self, sale_price):\n",
        "    if self.sold: \n",
        "      raise MethodNotAllowed(\"The car has already been sold\")\n",
        "    self.sale_price = sale_price\n",
        "    return 'The new selling price is ' + str(sale_price)\n",
        "\n",
        "\n",
        "\n",
        "  def sell(self):\n",
        "    \"\"\"\n",
        "    Mark as sold and determine the profit received from selling the car\n",
        "    Use the lastest sales price\n",
        "    \"\"\"\n",
        "    self.sold = True \n",
        "    profit = self.sale_price - self.cost \n",
        "    return 'the proft made from selling this car is ' + \"$\" + str(profit)\n",
        "\n",
        "\n",
        "\n",
        "  def service(self, spent, sale_price = None, condition = None):\n",
        "    \"\"\"\n",
        "    service the bike and update the attribute\n",
        "    \"\"\"\n",
        "    self.cost += spent\n",
        "    if sale_price:\n",
        "      self.update_sale_price(sale_price)\n",
        "    if self.condition:\n",
        "      self.condition = condition\n"
      ],
      "execution_count": 2,
      "outputs": []
    },
    {
      "cell_type": "markdown",
      "metadata": {
        "id": "7A_ibvyclt6O",
        "colab_type": "text"
      },
      "source": [
        "## **Creating a subclass of the Car class**"
      ]
    },
    {
      "cell_type": "code",
      "metadata": {
        "id": "Tyvyrse7lHe7",
        "colab_type": "code",
        "colab": {}
      },
      "source": [
        "class BMW(Car):\n",
        "  def __init__(self, horsepower, mileage = 0 ):\n",
        "    self.hp = horsepower\n",
        "    self.distsofar = mileage\n",
        "    super().__init__('blue', Condition.BAD, sale_price = 550, cost = 80)\n",
        "\n",
        "\n",
        "  def depreciation(self):\n",
        "    return f'The depreciation is {self.hp * self.distsofar}'\n",
        "\n",
        "\n",
        "class Ferari(BMW):\n",
        "  def __init__(self, horsepower, mileage, energyboost):\n",
        "    self.boost = energyboost\n",
        "    super().__init__(horsepower, mileage)\n",
        "    \n"
      ],
      "execution_count": 3,
      "outputs": []
    },
    {
      "cell_type": "markdown",
      "metadata": {
        "id": "ccmKzT697NYv",
        "colab_type": "text"
      },
      "source": [
        "## **BMW**"
      ]
    },
    {
      "cell_type": "code",
      "metadata": {
        "id": "2J55lGiooa8G",
        "colab_type": "code",
        "colab": {
          "base_uri": "https://localhost:8080/",
          "height": 35
        },
        "outputId": "d26f247f-5a7e-4642-b0d9-846dcfe2eecd"
      },
      "source": [
        "my_car = BMW(20,4)\n",
        "my_car.depreciation()"
      ],
      "execution_count": 4,
      "outputs": [
        {
          "output_type": "execute_result",
          "data": {
            "application/vnd.google.colaboratory.intrinsic+json": {
              "type": "string"
            },
            "text/plain": [
              "'The depreciation is 80'"
            ]
          },
          "metadata": {
            "tags": []
          },
          "execution_count": 4
        }
      ]
    },
    {
      "cell_type": "code",
      "metadata": {
        "id": "NOeJb3YO4Sqf",
        "colab_type": "code",
        "colab": {
          "base_uri": "https://localhost:8080/",
          "height": 68
        },
        "outputId": "9acd551d-8128-46be-90f7-504126cf9855"
      },
      "source": [
        "print(f\"The cost price is {my_car.cost}\")\n",
        "print(f\"The selling price is {my_car.sale_price}\")\n",
        "print(f\"The condition of my car is {my_car.condition}\")"
      ],
      "execution_count": 5,
      "outputs": [
        {
          "output_type": "stream",
          "text": [
            "The cost price is 80\n",
            "The selling price is 550\n",
            "The condition of my car is Condition.BAD\n"
          ],
          "name": "stdout"
        }
      ]
    },
    {
      "cell_type": "code",
      "metadata": {
        "id": "_8AcGNboyBun",
        "colab_type": "code",
        "colab": {
          "base_uri": "https://localhost:8080/",
          "height": 35
        },
        "outputId": "8a770786-a9c4-44f9-87ac-22ec7568bdab"
      },
      "source": [
        "my_car.sell()"
      ],
      "execution_count": 6,
      "outputs": [
        {
          "output_type": "execute_result",
          "data": {
            "application/vnd.google.colaboratory.intrinsic+json": {
              "type": "string"
            },
            "text/plain": [
              "'the proft made from selling this car is $470'"
            ]
          },
          "metadata": {
            "tags": []
          },
          "execution_count": 6
        }
      ]
    },
    {
      "cell_type": "code",
      "metadata": {
        "id": "PsehXeoB0o3L",
        "colab_type": "code",
        "colab": {}
      },
      "source": [
        "my_car.service(spent = 45)"
      ],
      "execution_count": 7,
      "outputs": []
    },
    {
      "cell_type": "code",
      "metadata": {
        "id": "ohczNrsv0o0F",
        "colab_type": "code",
        "colab": {
          "base_uri": "https://localhost:8080/",
          "height": 68
        },
        "outputId": "016c1314-c276-465d-c2de-7d63d3a6df88"
      },
      "source": [
        "print(f\"The cost price is {my_car.cost}\")\n",
        "print(f\"The selling price is {my_car.sale_price}\")\n",
        "print(f\"The condition of my car is {my_car.condition}\")"
      ],
      "execution_count": 8,
      "outputs": [
        {
          "output_type": "stream",
          "text": [
            "The cost price is 125\n",
            "The selling price is 550\n",
            "The condition of my car is None\n"
          ],
          "name": "stdout"
        }
      ]
    },
    {
      "cell_type": "code",
      "metadata": {
        "id": "Vf1bJptU5Kct",
        "colab_type": "code",
        "colab": {}
      },
      "source": [
        "#my_car.service(spent = 45, sale_price = 1455, condition = Condition.NEW)\n",
        "\n",
        "\n",
        "\n",
        "#It should return the car has already been sold"
      ],
      "execution_count": 9,
      "outputs": []
    },
    {
      "cell_type": "code",
      "metadata": {
        "id": "5AT2D7Wo6853",
        "colab_type": "code",
        "colab": {
          "base_uri": "https://localhost:8080/",
          "height": 35
        },
        "outputId": "0bceab7a-9e17-4c77-a7d1-ab6cae05ec18"
      },
      "source": [
        "my_car.sell()"
      ],
      "execution_count": 10,
      "outputs": [
        {
          "output_type": "execute_result",
          "data": {
            "application/vnd.google.colaboratory.intrinsic+json": {
              "type": "string"
            },
            "text/plain": [
              "'the proft made from selling this car is $425'"
            ]
          },
          "metadata": {
            "tags": []
          },
          "execution_count": 10
        }
      ]
    },
    {
      "cell_type": "markdown",
      "metadata": {
        "id": "UrUuGwXq7xKs",
        "colab_type": "text"
      },
      "source": [
        "## **Ferari**"
      ]
    },
    {
      "cell_type": "code",
      "metadata": {
        "id": "a7pMa5cs7RNa",
        "colab_type": "code",
        "colab": {}
      },
      "source": [
        "my_new_car = Ferari(30,7,3)"
      ],
      "execution_count": 11,
      "outputs": []
    },
    {
      "cell_type": "code",
      "metadata": {
        "id": "fQ17SzNs7RMF",
        "colab_type": "code",
        "colab": {
          "base_uri": "https://localhost:8080/",
          "height": 35
        },
        "outputId": "3fdeff9d-a44c-409e-fd0e-f34ad2a7ffb8"
      },
      "source": [
        "my_new_car.depreciation()"
      ],
      "execution_count": 12,
      "outputs": [
        {
          "output_type": "execute_result",
          "data": {
            "application/vnd.google.colaboratory.intrinsic+json": {
              "type": "string"
            },
            "text/plain": [
              "'The depreciation is 210'"
            ]
          },
          "metadata": {
            "tags": []
          },
          "execution_count": 12
        }
      ]
    },
    {
      "cell_type": "code",
      "metadata": {
        "id": "E6ACtvAJ9hXH",
        "colab_type": "code",
        "colab": {
          "base_uri": "https://localhost:8080/",
          "height": 68
        },
        "outputId": "129f3aa2-310a-4cb7-ab09-a901ca8db67a"
      },
      "source": [
        "print(f\"The cost price is {my_new_car.cost}\")\n",
        "print(f\"The selling price is {my_new_car.sale_price}\")\n",
        "print(f\"The condition of my car is {my_new_car.condition}\")"
      ],
      "execution_count": 13,
      "outputs": [
        {
          "output_type": "stream",
          "text": [
            "The cost price is 80\n",
            "The selling price is 550\n",
            "The condition of my car is Condition.BAD\n"
          ],
          "name": "stdout"
        }
      ]
    },
    {
      "cell_type": "code",
      "metadata": {
        "id": "tx6oH9m28fQF",
        "colab_type": "code",
        "colab": {
          "base_uri": "https://localhost:8080/",
          "height": 35
        },
        "outputId": "bfd15a68-fd5d-4f60-f1d2-ba7453e052ad"
      },
      "source": [
        "my_new_car.update_sale_price(940)"
      ],
      "execution_count": 14,
      "outputs": [
        {
          "output_type": "execute_result",
          "data": {
            "application/vnd.google.colaboratory.intrinsic+json": {
              "type": "string"
            },
            "text/plain": [
              "'The new selling price is 940'"
            ]
          },
          "metadata": {
            "tags": []
          },
          "execution_count": 14
        }
      ]
    },
    {
      "cell_type": "code",
      "metadata": {
        "id": "y8GZPN_H9Z8Q",
        "colab_type": "code",
        "colab": {
          "base_uri": "https://localhost:8080/",
          "height": 68
        },
        "outputId": "349be353-5421-4448-ffeb-041651fe104f"
      },
      "source": [
        "print(f\"The cost price is {my_new_car.cost}\")\n",
        "print(f\"The selling price is {my_new_car.sale_price}\")\n",
        "print(f\"The condition of my car is {my_new_car.condition}\")"
      ],
      "execution_count": 15,
      "outputs": [
        {
          "output_type": "stream",
          "text": [
            "The cost price is 80\n",
            "The selling price is 940\n",
            "The condition of my car is Condition.BAD\n"
          ],
          "name": "stdout"
        }
      ]
    },
    {
      "cell_type": "code",
      "metadata": {
        "id": "-8_PIr7B9qxT",
        "colab_type": "code",
        "colab": {}
      },
      "source": [
        "my_new_car.service(130, 1250, Condition.OKAY)"
      ],
      "execution_count": 16,
      "outputs": []
    },
    {
      "cell_type": "code",
      "metadata": {
        "id": "izO7-ehk-XDY",
        "colab_type": "code",
        "colab": {
          "base_uri": "https://localhost:8080/",
          "height": 68
        },
        "outputId": "74f8556a-6ded-4f3c-d00d-b8e885e2dac8"
      },
      "source": [
        "print(f\"The cost price is {my_new_car.cost}\")\n",
        "print(f\"The selling price is {my_new_car.sale_price}\")\n",
        "print(f\"The condition of my car is {my_new_car.condition}\")"
      ],
      "execution_count": 17,
      "outputs": [
        {
          "output_type": "stream",
          "text": [
            "The cost price is 210\n",
            "The selling price is 1250\n",
            "The condition of my car is Condition.OKAY\n"
          ],
          "name": "stdout"
        }
      ]
    },
    {
      "cell_type": "code",
      "metadata": {
        "id": "ChTF4Kxu-ZGc",
        "colab_type": "code",
        "colab": {
          "base_uri": "https://localhost:8080/",
          "height": 35
        },
        "outputId": "9f8f0a42-e204-492f-b6c5-a6a26c18a41f"
      },
      "source": [
        "my_new_car.sell()"
      ],
      "execution_count": 18,
      "outputs": [
        {
          "output_type": "execute_result",
          "data": {
            "application/vnd.google.colaboratory.intrinsic+json": {
              "type": "string"
            },
            "text/plain": [
              "'the proft made from selling this car is $1040'"
            ]
          },
          "metadata": {
            "tags": []
          },
          "execution_count": 18
        }
      ]
    },
    {
      "cell_type": "code",
      "metadata": {
        "id": "wpK4tFH2_hih",
        "colab_type": "code",
        "colab": {}
      },
      "source": [
        "\n",
        "class Car(object):\n",
        "  def __init__(self, description, condition, sale_price, cost = 0):\n",
        "    self.description = description\n",
        "    self.condition = condition\n",
        "    self.sale_price = sale_price\n",
        "    self.cost = cost\n",
        "\n",
        "    self.sold = False \n",
        "\n",
        "\n",
        "\n",
        "  def update_sale_price(self, sale_price):\n",
        "    if self.sold: \n",
        "      raise MethodNotAllowed(\"The car has already been sold\")\n",
        "    self.sale_price = sale_price\n",
        "    return 'The new selling price is ' + str(sale_price)\n",
        "\n",
        "\n",
        "\n",
        "  def sell(self):\n",
        "    \"\"\"\n",
        "    Mark as sold and determine the profit received from selling the car\n",
        "    Use the lastest sales price\n",
        "    \"\"\"\n",
        "    self.sold = True \n",
        "    profit = self.sale_price - self.cost \n",
        "    return 'the proft made from selling this car is ' + \"$\" + str(profit)\n",
        "\n",
        "\n",
        "\n",
        "  def service(self, spent, sale_price = None, condition = None):\n",
        "    \"\"\"\n",
        "    service the bike and update the attribute\n",
        "    \"\"\"\n",
        "    self.cost += spent\n",
        "    if sale_price:\n",
        "      self.update_sale_price(sale_price)\n",
        "    if self.condition:\n",
        "      self.condition = condition\n"
      ],
      "execution_count": 19,
      "outputs": []
    },
    {
      "cell_type": "code",
      "metadata": {
        "id": "UnskDRqX-dfY",
        "colab_type": "code",
        "colab": {}
      },
      "source": [
        "class Benz(BMW):\n",
        "  def __init__(self, horsepower, mileage, energyboost):\n",
        "    self.boost = energyboost\n",
        "    super().__init__(horsepower, mileage)\n",
        "\n",
        "#Original\n",
        "  #def update_sale_price(self, sale_price):\n",
        "   # if self.sold: \n",
        "    #  raise MethodNotAllowed(\"The car has already been sold\")\n",
        "    #self.sale_price = sale_price\n",
        "    #return 'The new selling price is ' + str(sale_price)\n",
        "\n",
        "\n",
        "#Overidding\n",
        "  def update_sale_price(self, sale_price):\n",
        "    if self.sold: \n",
        "      raise MethodNotAllowed(\"The car has already been sold\")\n",
        "    self.sale_price = sale_price\n",
        "    self.cost += 20\n",
        "    #return  ('The new selling price is ' + str(sale_price) , 'The new cost price is ' + str(self.cost))\n",
        "    return  {\"Selling Price\": 'The new selling price is ' + str(sale_price) , \n",
        "             \"Cost Price\": 'The new cost price is ' + str(self.cost)}"
      ],
      "execution_count": 20,
      "outputs": []
    },
    {
      "cell_type": "code",
      "metadata": {
        "id": "zFJPM1rkIMU6",
        "colab_type": "code",
        "colab": {}
      },
      "source": [
        "my_dream_car = Benz(80, 25, 6)"
      ],
      "execution_count": 21,
      "outputs": []
    },
    {
      "cell_type": "code",
      "metadata": {
        "id": "wR3zTYsSJ6HM",
        "colab_type": "code",
        "colab": {
          "base_uri": "https://localhost:8080/",
          "height": 120
        },
        "outputId": "b0e5e28a-e7a2-4346-8dc0-ed90e3cce433"
      },
      "source": [
        "print(f\"The selling price is {my_dream_car.sale_price}\")\n",
        "print(f\"The cost price is {my_dream_car.cost}\")\n",
        "print(f\"The Decription of the car is {my_dream_car.description}\")\n",
        "print(f\" The mileage of the car is {my_dream_car.distsofar}\")\n",
        "print(f\"The condition of the car is {my_dream_car.condition}\")\n",
        "print(f\"The Horsepower of the car is {my_dream_car.hp}\")"
      ],
      "execution_count": 22,
      "outputs": [
        {
          "output_type": "stream",
          "text": [
            "The selling price is 550\n",
            "The cost price is 80\n",
            "The Decription of the car is blue\n",
            " The mileage of the car is 25\n",
            "The condition of the car is Condition.BAD\n",
            "The Horsepower of the car is 80\n"
          ],
          "name": "stdout"
        }
      ]
    },
    {
      "cell_type": "code",
      "metadata": {
        "id": "bji7EwMmJ6ar",
        "colab_type": "code",
        "colab": {
          "base_uri": "https://localhost:8080/",
          "height": 51
        },
        "outputId": "24d23d9f-6cbd-4784-b6e3-549c4c0b5bc9"
      },
      "source": [
        "my_dream_car.update_sale_price(700)"
      ],
      "execution_count": 23,
      "outputs": [
        {
          "output_type": "execute_result",
          "data": {
            "text/plain": [
              "{'Cost Price': 'The new cost price is 100',\n",
              " 'Selling Price': 'The new selling price is 700'}"
            ]
          },
          "metadata": {
            "tags": []
          },
          "execution_count": 23
        }
      ]
    },
    {
      "cell_type": "code",
      "metadata": {
        "id": "q84ZMpPbJ6Xa",
        "colab_type": "code",
        "colab": {}
      },
      "source": [
        "class S_and_C():\n",
        "  def __init__(self,costprice, sellingprice):\n",
        "    self.cost = costprice\n",
        "    self.sale_price = sellingprice"
      ],
      "execution_count": 24,
      "outputs": []
    },
    {
      "cell_type": "code",
      "metadata": {
        "id": "5eC0b9kp72iG",
        "colab_type": "code",
        "colab": {}
      },
      "source": [
        "new = Benz(70,5,4)"
      ],
      "execution_count": 25,
      "outputs": []
    },
    {
      "cell_type": "code",
      "metadata": {
        "id": "HR8WMLTv8r2D",
        "colab_type": "code",
        "colab": {
          "base_uri": "https://localhost:8080/",
          "height": 51
        },
        "outputId": "aa819653-5652-452d-e0bb-2e81c6390b26"
      },
      "source": [
        "print(new.sale_price)\n",
        "print(new.cost)"
      ],
      "execution_count": 26,
      "outputs": [
        {
          "output_type": "stream",
          "text": [
            "550\n",
            "80\n"
          ],
          "name": "stdout"
        }
      ]
    },
    {
      "cell_type": "code",
      "metadata": {
        "id": "N1WpIIvO9SPz",
        "colab_type": "code",
        "colab": {
          "base_uri": "https://localhost:8080/",
          "height": 51
        },
        "outputId": "84471902-ece9-4769-c9f9-fa4cbc046708"
      },
      "source": [
        "new.update_sale_price(780)"
      ],
      "execution_count": 27,
      "outputs": [
        {
          "output_type": "execute_result",
          "data": {
            "text/plain": [
              "{'Cost Price': 'The new cost price is 100',\n",
              " 'Selling Price': 'The new selling price is 780'}"
            ]
          },
          "metadata": {
            "tags": []
          },
          "execution_count": 27
        }
      ]
    },
    {
      "cell_type": "code",
      "metadata": {
        "id": "cGz99l70_CYG",
        "colab_type": "code",
        "colab": {}
      },
      "source": [
        "class Benz(BMW):\n",
        "  def __init__(self, horsepower, mileage, energyboost):\n",
        "    self.boost = energyboost\n",
        "    super().__init__(horsepower, mileage)\n",
        "\n",
        "  def update_sale_price(self, sale_price):\n",
        "    if self.sold: \n",
        "      raise MethodNotAllowed(\"The car has already been sold\")\n",
        "    self.sale_price = sale_price\n",
        "    self.cost += 20\n",
        "    #return  ('The new selling price is ' + str(sale_price) , 'The new cost price is ' + str(self.cost))\n",
        "\n",
        "\n",
        "    class S_and_C():\n",
        "      def __init__(self,costprice, sellingprice):\n",
        "        self.cost = costprice\n",
        "        self.sale_price = sellingprice\n",
        "\n",
        "    new_obj = S_and_C(self.sale_price, self.cost )\n",
        "    return new_obj"
      ],
      "execution_count": 28,
      "outputs": []
    },
    {
      "cell_type": "code",
      "metadata": {
        "id": "ZhvVqlrSBA7W",
        "colab_type": "code",
        "colab": {}
      },
      "source": [
        "Dot = Benz(50,16, 4)"
      ],
      "execution_count": 29,
      "outputs": []
    },
    {
      "cell_type": "code",
      "metadata": {
        "id": "VcdrKpm6BImi",
        "colab_type": "code",
        "colab": {
          "base_uri": "https://localhost:8080/",
          "height": 34
        },
        "outputId": "531c9f44-477b-4a18-b2ac-9eb6c4a20d46"
      },
      "source": [
        "Dot.sale_price"
      ],
      "execution_count": 30,
      "outputs": [
        {
          "output_type": "execute_result",
          "data": {
            "text/plain": [
              "550"
            ]
          },
          "metadata": {
            "tags": []
          },
          "execution_count": 30
        }
      ]
    },
    {
      "cell_type": "code",
      "metadata": {
        "id": "Ol4KL2BMBrA5",
        "colab_type": "code",
        "colab": {
          "base_uri": "https://localhost:8080/",
          "height": 34
        },
        "outputId": "7fc3d2e6-a9ec-44a1-a7f2-1bb4f0334cc6"
      },
      "source": [
        "Dot.cost"
      ],
      "execution_count": 31,
      "outputs": [
        {
          "output_type": "execute_result",
          "data": {
            "text/plain": [
              "80"
            ]
          },
          "metadata": {
            "tags": []
          },
          "execution_count": 31
        }
      ]
    },
    {
      "cell_type": "code",
      "metadata": {
        "id": "xwGrYajaBFPj",
        "colab_type": "code",
        "colab": {
          "base_uri": "https://localhost:8080/",
          "height": 34
        },
        "outputId": "7ffc077e-f5a5-4431-fefb-cd3ee0a900c3"
      },
      "source": [
        "Dot.update_sale_price(750)"
      ],
      "execution_count": 32,
      "outputs": [
        {
          "output_type": "execute_result",
          "data": {
            "text/plain": [
              "<__main__.Benz.update_sale_price.<locals>.S_and_C at 0x7f70fbc5cdd8>"
            ]
          },
          "metadata": {
            "tags": []
          },
          "execution_count": 32
        }
      ]
    },
    {
      "cell_type": "code",
      "metadata": {
        "id": "sACR2EdJBNVh",
        "colab_type": "code",
        "colab": {
          "base_uri": "https://localhost:8080/",
          "height": 34
        },
        "outputId": "cd7b7dd6-83b8-4960-fdc0-a19bc55365c8"
      },
      "source": [
        "Dot.sale_price"
      ],
      "execution_count": 33,
      "outputs": [
        {
          "output_type": "execute_result",
          "data": {
            "text/plain": [
              "750"
            ]
          },
          "metadata": {
            "tags": []
          },
          "execution_count": 33
        }
      ]
    },
    {
      "cell_type": "code",
      "metadata": {
        "id": "5dTDWmd6Bu7s",
        "colab_type": "code",
        "colab": {
          "base_uri": "https://localhost:8080/",
          "height": 34
        },
        "outputId": "4576475f-7903-495d-a35e-5d5887f2c92d"
      },
      "source": [
        "Dot.cost"
      ],
      "execution_count": 34,
      "outputs": [
        {
          "output_type": "execute_result",
          "data": {
            "text/plain": [
              "100"
            ]
          },
          "metadata": {
            "tags": []
          },
          "execution_count": 34
        }
      ]
    },
    {
      "cell_type": "code",
      "metadata": {
        "id": "BqO159PNBrtK",
        "colab_type": "code",
        "colab": {}
      },
      "source": [
        "my_dream_car = Benz(80, 25, 6)"
      ],
      "execution_count": 35,
      "outputs": []
    },
    {
      "cell_type": "code",
      "metadata": {
        "id": "6eO8AaKjB7iF",
        "colab_type": "code",
        "colab": {
          "base_uri": "https://localhost:8080/",
          "height": 35
        },
        "outputId": "408a276e-3cf9-4c29-917c-c0dc7499afbf"
      },
      "source": [
        "my_dream_car.description"
      ],
      "execution_count": 36,
      "outputs": [
        {
          "output_type": "execute_result",
          "data": {
            "application/vnd.google.colaboratory.intrinsic+json": {
              "type": "string"
            },
            "text/plain": [
              "'blue'"
            ]
          },
          "metadata": {
            "tags": []
          },
          "execution_count": 36
        }
      ]
    },
    {
      "cell_type": "code",
      "metadata": {
        "id": "mc6fbRUHCB7i",
        "colab_type": "code",
        "colab": {}
      },
      "source": [
        ""
      ],
      "execution_count": 36,
      "outputs": []
    }
  ]
}