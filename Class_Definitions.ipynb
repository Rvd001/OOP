{
  "nbformat": 4,
  "nbformat_minor": 0,
  "metadata": {
    "colab": {
      "name": "Class Definitions.ipynb",
      "provenance": [],
      "authorship_tag": "ABX9TyOFPaGnkQvBG733poRP1U44",
      "include_colab_link": true
    },
    "kernelspec": {
      "name": "python3",
      "display_name": "Python 3"
    }
  },
  "cells": [
    {
      "cell_type": "markdown",
      "metadata": {
        "id": "view-in-github",
        "colab_type": "text"
      },
      "source": [
        "<a href=\"https://colab.research.google.com/github/Rvd001/OOP/blob/master/Class_Definitions.ipynb\" target=\"_parent\"><img src=\"https://colab.research.google.com/assets/colab-badge.svg\" alt=\"Open In Colab\"/></a>"
      ]
    },
    {
      "cell_type": "code",
      "metadata": {
        "id": "aEqtRAHXKG8S",
        "colab_type": "code",
        "colab": {}
      },
      "source": [
        "class Photography:\n",
        "  \"\"\"This is a Photography class\"\"\"\n",
        "  def __init__(self):\n",
        "    self.name = 'Alhaji Dot'\n",
        "    self.height = 5.8\n",
        "    self.camera = 'Nikon'\n",
        " #The above is called a constructor\n",
        " #self.name, self.height and self.camera are called instance variables\n",
        "\n",
        "\n",
        "\n",
        "  def __str__(self):\n",
        "    return 'This is all about Photography'"
      ],
      "execution_count": 1,
      "outputs": []
    },
    {
      "cell_type": "code",
      "metadata": {
        "id": "CPNm8ZVjLLs7",
        "colab_type": "code",
        "colab": {
          "base_uri": "https://localhost:8080/",
          "height": 34
        },
        "outputId": "4c68c282-0dc6-47a1-c274-e3686b2db294"
      },
      "source": [
        "Dot_Digitals = Photography()\n",
        "Dot_Digitals"
      ],
      "execution_count": 2,
      "outputs": [
        {
          "output_type": "execute_result",
          "data": {
            "text/plain": [
              "<__main__.Photography at 0x7fd5df891668>"
            ]
          },
          "metadata": {
            "tags": []
          },
          "execution_count": 2
        }
      ]
    },
    {
      "cell_type": "code",
      "metadata": {
        "id": "ZRvYHi61LxtY",
        "colab_type": "code",
        "colab": {
          "base_uri": "https://localhost:8080/",
          "height": 68
        },
        "outputId": "85c512ec-cff6-4287-93b7-03f836d554ec"
      },
      "source": [
        "print(Dot_Digitals.name)\n",
        "print(Dot_Digitals.height)\n",
        "print(Dot_Digitals.camera)"
      ],
      "execution_count": 3,
      "outputs": [
        {
          "output_type": "stream",
          "text": [
            "Alhaji Dot\n",
            "5.8\n",
            "Nikon\n"
          ],
          "name": "stdout"
        }
      ]
    },
    {
      "cell_type": "code",
      "metadata": {
        "id": "CNtp3wkQMBAH",
        "colab_type": "code",
        "colab": {
          "base_uri": "https://localhost:8080/",
          "height": 35
        },
        "outputId": "75967ab2-ebd5-45bc-f22f-d1dfcea9f0fa"
      },
      "source": [
        "Dot_Digitals.__doc__"
      ],
      "execution_count": 4,
      "outputs": [
        {
          "output_type": "execute_result",
          "data": {
            "application/vnd.google.colaboratory.intrinsic+json": {
              "type": "string"
            },
            "text/plain": [
              "'This is a Photography class'"
            ]
          },
          "metadata": {
            "tags": []
          },
          "execution_count": 4
        }
      ]
    },
    {
      "cell_type": "code",
      "metadata": {
        "id": "dUmGXFVLOrJh",
        "colab_type": "code",
        "colab": {
          "base_uri": "https://localhost:8080/",
          "height": 34
        },
        "outputId": "3fc20c0c-638a-4ed0-fd3c-a8fd79c5d822"
      },
      "source": [
        "Dot_Digitals.__str__"
      ],
      "execution_count": 5,
      "outputs": [
        {
          "output_type": "execute_result",
          "data": {
            "text/plain": [
              "<bound method Photography.__str__ of <__main__.Photography object at 0x7fd5df891668>>"
            ]
          },
          "metadata": {
            "tags": []
          },
          "execution_count": 5
        }
      ]
    },
    {
      "cell_type": "code",
      "metadata": {
        "id": "hBBGVa-1Ovq9",
        "colab_type": "code",
        "colab": {
          "base_uri": "https://localhost:8080/",
          "height": 34
        },
        "outputId": "7fbd85d0-de1b-45d2-98a5-8407f2589cb7"
      },
      "source": [
        "print(Dot_Digitals)"
      ],
      "execution_count": 6,
      "outputs": [
        {
          "output_type": "stream",
          "text": [
            "This is all about Photography\n"
          ],
          "name": "stdout"
        }
      ]
    },
    {
      "cell_type": "code",
      "metadata": {
        "id": "IXXCKGAbPP4k",
        "colab_type": "code",
        "colab": {}
      },
      "source": [
        "class Photography:\n",
        "  \"\"\"This is a Photography class\"\"\"\n",
        "  def __init__(self):\n",
        "    self.name = 'Alhaji Dot'\n",
        "    self.height = 5.8\n",
        "    self.camera = 'Nikon'\n",
        " #The above is called a constructor\n",
        " #self.name, self.height and self.camera are called instance variables\n",
        " #the instance variables are static here\n",
        "\n",
        "\n",
        "  def __str__(self):\n",
        "    return 'This is all about Photography'\n",
        "\n",
        "\n",
        "  def details(self):\n",
        "    #this is an instance method\n",
        "    print('Brand Owner: ', self.name)\n",
        "    print('Height: ', self.height)\n",
        "    print('Camera type: ', self.camera)"
      ],
      "execution_count": 7,
      "outputs": []
    },
    {
      "cell_type": "code",
      "metadata": {
        "id": "nSiP_1SDRwzE",
        "colab_type": "code",
        "colab": {}
      },
      "source": [
        "Dot = Photography()"
      ],
      "execution_count": 8,
      "outputs": []
    },
    {
      "cell_type": "code",
      "metadata": {
        "id": "-7dXKRchR7Ta",
        "colab_type": "code",
        "colab": {
          "base_uri": "https://localhost:8080/",
          "height": 68
        },
        "outputId": "bc9f6e36-14b8-4a97-b586-84626cae4ac6"
      },
      "source": [
        "Dot.details()"
      ],
      "execution_count": 9,
      "outputs": [
        {
          "output_type": "stream",
          "text": [
            "Brand Owner:  Alhaji Dot\n",
            "Height:  5.8\n",
            "Camera type:  Nikon\n"
          ],
          "name": "stdout"
        }
      ]
    },
    {
      "cell_type": "code",
      "metadata": {
        "id": "ipatSYx2R-ZM",
        "colab_type": "code",
        "colab": {}
      },
      "source": [
        "class Photography:\n",
        "  \"\"\"This is a Photography class\"\"\"\n",
        "  def __init__(self, name, height, camera):\n",
        "    self.name = name\n",
        "    self.height = height\n",
        "    self.camera = camera\n",
        " #The above is called a constructor\n",
        " #self.name, self.height and self.camera are called instance variables\n",
        " #the instance variables are dynamic here\n",
        "\n",
        "\n",
        "  def __str__(self):\n",
        "    return 'This is all about Photography'\n",
        "\n",
        "\n",
        "  def details(self):\n",
        "    #this is an instance method\n",
        "    print('Brand Owner: ', self.name)\n",
        "    print('Height: ', self.height)\n",
        "    print('Camera type: ', self.camera)"
      ],
      "execution_count": 10,
      "outputs": []
    },
    {
      "cell_type": "code",
      "metadata": {
        "id": "HFzoVANzS77n",
        "colab_type": "code",
        "colab": {}
      },
      "source": [
        "Dot = Photography('Alhaji Dot', 5.8, 'Nikon')"
      ],
      "execution_count": 11,
      "outputs": []
    },
    {
      "cell_type": "code",
      "metadata": {
        "id": "RnyIIWlkTGzC",
        "colab_type": "code",
        "colab": {
          "base_uri": "https://localhost:8080/",
          "height": 68
        },
        "outputId": "36ace9a2-2b47-48cf-c8ae-7cbd419f2363"
      },
      "source": [
        "Dot.details()"
      ],
      "execution_count": 12,
      "outputs": [
        {
          "output_type": "stream",
          "text": [
            "Brand Owner:  Alhaji Dot\n",
            "Height:  5.8\n",
            "Camera type:  Nikon\n"
          ],
          "name": "stdout"
        }
      ]
    },
    {
      "cell_type": "code",
      "metadata": {
        "id": "3EcUIXYCTJM2",
        "colab_type": "code",
        "colab": {
          "base_uri": "https://localhost:8080/",
          "height": 68
        },
        "outputId": "5377b69e-cf3f-45b1-bbe4-233c745fde1a"
      },
      "source": [
        "Zaviano = Photography('Victor Zaviano', 5.7, 'Sony')\n",
        "Zaviano.details()"
      ],
      "execution_count": 13,
      "outputs": [
        {
          "output_type": "stream",
          "text": [
            "Brand Owner:  Victor Zaviano\n",
            "Height:  5.7\n",
            "Camera type:  Sony\n"
          ],
          "name": "stdout"
        }
      ]
    },
    {
      "cell_type": "code",
      "metadata": {
        "id": "xQ3YKA52Xjqa",
        "colab_type": "code",
        "colab": {
          "base_uri": "https://localhost:8080/",
          "height": 68
        },
        "outputId": "6b0f02b2-7ac8-4c74-a328-2da0b7eb0137"
      },
      "source": [
        "Kash = Photography('Kashope', 5.8, 'Canon')\n",
        "Kash.details()"
      ],
      "execution_count": 14,
      "outputs": [
        {
          "output_type": "stream",
          "text": [
            "Brand Owner:  Kashope\n",
            "Height:  5.8\n",
            "Camera type:  Canon\n"
          ],
          "name": "stdout"
        }
      ]
    },
    {
      "cell_type": "code",
      "metadata": {
        "id": "OMljIlZFZW7J",
        "colab_type": "code",
        "colab": {
          "base_uri": "https://localhost:8080/",
          "height": 223
        },
        "outputId": "ecec8d35-36c8-4974-e8ac-857c50cf0323"
      },
      "source": [
        "Photographers = [Photography('Alhaji Dot', 5.8, 'Nikon'), \n",
        "                 Photography('Victor Zaviano', 5.7, 'Sony'),\n",
        "                 Photography('Kashope', 5.8, 'Canon') ]\n",
        "\n",
        "for i in Photographers:\n",
        "  print(i.details())"
      ],
      "execution_count": 15,
      "outputs": [
        {
          "output_type": "stream",
          "text": [
            "Brand Owner:  Alhaji Dot\n",
            "Height:  5.8\n",
            "Camera type:  Nikon\n",
            "None\n",
            "Brand Owner:  Victor Zaviano\n",
            "Height:  5.7\n",
            "Camera type:  Sony\n",
            "None\n",
            "Brand Owner:  Kashope\n",
            "Height:  5.8\n",
            "Camera type:  Canon\n",
            "None\n"
          ],
          "name": "stdout"
        }
      ]
    },
    {
      "cell_type": "code",
      "metadata": {
        "id": "GlN3_-okZr7h",
        "colab_type": "code",
        "colab": {}
      },
      "source": [
        "class Photography:\n",
        "  \"\"\"This is a Photography class\"\"\"\n",
        "  def __init__(self):\n",
        "    self.name = 'Alhaji Dot'\n",
        "    self.height = 5.8\n",
        "    self.camera = 'Nikon'\n",
        "    print('This industry is all about creativity')\n",
        " #The above is called a constructor\n",
        " #self.name, self.height and self.camera are called instance variables\n",
        " #the instance variables are static here\n",
        "\n",
        "\n",
        "  def __str__(self):\n",
        "    return 'This is all about Photography'\n",
        "\n",
        "\n",
        "  def details(self):\n",
        "    #this is an instance method\n",
        "    print('Brand Owner: ', self.name)\n",
        "    print('Height: ', self.height)\n",
        "    print('Camera type: ', self.camera)"
      ],
      "execution_count": 16,
      "outputs": []
    },
    {
      "cell_type": "markdown",
      "metadata": {
        "id": "gsdwwmbYbMzu",
        "colab_type": "text"
      },
      "source": [
        "## **Implicitly calling a constructor**"
      ]
    },
    {
      "cell_type": "code",
      "metadata": {
        "id": "vpg3Rj-eai5j",
        "colab_type": "code",
        "colab": {
          "base_uri": "https://localhost:8080/",
          "height": 0
        },
        "outputId": "1fb35e6d-a1a8-4db2-b63a-19b56f89c778"
      },
      "source": [
        "name = Photography()\n",
        "\n",
        "\n",
        "#this means when we create an object for a class the init method is implicitly called"
      ],
      "execution_count": 17,
      "outputs": [
        {
          "output_type": "stream",
          "text": [
            "This industry is all about creativity\n"
          ],
          "name": "stdout"
        }
      ]
    },
    {
      "cell_type": "markdown",
      "metadata": {
        "id": "90-_kSZYbSuR",
        "colab_type": "text"
      },
      "source": [
        "## **Explicitly calling a constructor**"
      ]
    },
    {
      "cell_type": "code",
      "metadata": {
        "id": "c3Qa-xwhan1I",
        "colab_type": "code",
        "colab": {
          "base_uri": "https://localhost:8080/",
          "height": 0
        },
        "outputId": "9644de0c-b4a9-4624-8a08-cf1bd29997c8"
      },
      "source": [
        "name.__init__()"
      ],
      "execution_count": 18,
      "outputs": [
        {
          "output_type": "stream",
          "text": [
            "This industry is all about creativity\n"
          ],
          "name": "stdout"
        }
      ]
    },
    {
      "cell_type": "markdown",
      "metadata": {
        "id": "WktKbBPxcX7z",
        "colab_type": "text"
      },
      "source": [
        "## **Initialzing Instance variable without __init__**"
      ]
    },
    {
      "cell_type": "code",
      "metadata": {
        "id": "2hQ2CQWfb_ft",
        "colab_type": "code",
        "colab": {}
      },
      "source": [
        "  class Details():\n",
        "    def details(self):\n",
        "    #this is an instance method\n",
        "      print('Brand Owner: ', self.name)\n",
        "      print('Height: ', self.height)\n",
        "      print('Camera type: ', self.camera)"
      ],
      "execution_count": 19,
      "outputs": []
    },
    {
      "cell_type": "code",
      "metadata": {
        "id": "efIw9mDrdWug",
        "colab_type": "code",
        "colab": {}
      },
      "source": [
        "brand_owner = Details()"
      ],
      "execution_count": 20,
      "outputs": []
    },
    {
      "cell_type": "code",
      "metadata": {
        "id": "h7DRd_RAdbtW",
        "colab_type": "code",
        "colab": {}
      },
      "source": [
        "#brand_owner.details()\n",
        "\n",
        "\n",
        "#This will return an error because the instance variables were not initialized"
      ],
      "execution_count": 21,
      "outputs": []
    },
    {
      "cell_type": "code",
      "metadata": {
        "id": "ehy4V-hQdeZF",
        "colab_type": "code",
        "colab": {
          "base_uri": "https://localhost:8080/",
          "height": 0
        },
        "outputId": "7590ab68-041a-4810-b9a8-2ffad16fdd65"
      },
      "source": [
        "brand_owner.name = 'Emmanuel King'\n",
        "brand_owner.height = 4.7\n",
        "brand_owner.camera = 'Canon'\n",
        "\n",
        "brand_owner.details()"
      ],
      "execution_count": 22,
      "outputs": [
        {
          "output_type": "stream",
          "text": [
            "Brand Owner:  Emmanuel King\n",
            "Height:  4.7\n",
            "Camera type:  Canon\n"
          ],
          "name": "stdout"
        }
      ]
    },
    {
      "cell_type": "markdown",
      "metadata": {
        "id": "FfCxwHK_rYfj",
        "colab_type": "text"
      },
      "source": [
        "## **Instance Method**"
      ]
    },
    {
      "cell_type": "code",
      "metadata": {
        "id": "1QhwBCFFqG9N",
        "colab_type": "code",
        "colab": {}
      },
      "source": [
        "class Photography:\n",
        "  \"\"\"This is a Photography class\"\"\"\n",
        "  def init(self, name, height, camera): #note this is not the special class name  __init__\n",
        "    self.name = name\n",
        "    self.height = height\n",
        "    self.camera = camera\n",
        "  #the above does not have a constructor, the constructor is __init__\n",
        "\n",
        " #The above is called a constructor\n",
        " #self.name, self.height and self.camera are called instance variables\n",
        " #the instance variables are dynamic here\n",
        "\n",
        "\n",
        "  def __str__(self):\n",
        "    return 'This is all about Photography'\n",
        "\n",
        "\n",
        "  def details(self):\n",
        "    #this is an instance method\n",
        "    print('Brand Owner: ', self.name)\n",
        "    print('Height: ', self.height)\n",
        "    print('Camera type: ', self.camera)"
      ],
      "execution_count": 23,
      "outputs": []
    },
    {
      "cell_type": "code",
      "metadata": {
        "id": "5iaM4vFKr3AB",
        "colab_type": "code",
        "colab": {}
      },
      "source": [
        "#upcoming = Photography('Jotography', 5.4, 'Nikon')\n",
        "\n",
        "#this will return an error because it was not initialized to take parameters\n",
        "#__init__ is different from init"
      ],
      "execution_count": 24,
      "outputs": []
    },
    {
      "cell_type": "code",
      "metadata": {
        "id": "Y46bRuDdsDYs",
        "colab_type": "code",
        "colab": {}
      },
      "source": [
        "upcoming = Photography()"
      ],
      "execution_count": 25,
      "outputs": []
    },
    {
      "cell_type": "code",
      "metadata": {
        "id": "P4yheN9ks8cL",
        "colab_type": "code",
        "colab": {}
      },
      "source": [
        "#upcoming.details()\n",
        "\n",
        "#This is going to return an error because the instance variables have not been initialized "
      ],
      "execution_count": 26,
      "outputs": []
    },
    {
      "cell_type": "code",
      "metadata": {
        "id": "5xt6iT1Ksyp2",
        "colab_type": "code",
        "colab": {}
      },
      "source": [
        "upcoming.init('Jotography', 5.4, 'Nikon')\n",
        "\n",
        "\n",
        "#initializing the instance variable"
      ],
      "execution_count": 27,
      "outputs": []
    },
    {
      "cell_type": "code",
      "metadata": {
        "id": "mAQkaEu0s5ML",
        "colab_type": "code",
        "colab": {
          "base_uri": "https://localhost:8080/",
          "height": 0
        },
        "outputId": "9ab47590-ad45-4170-ba75-f65a64d17770"
      },
      "source": [
        "upcoming.details()"
      ],
      "execution_count": 28,
      "outputs": [
        {
          "output_type": "stream",
          "text": [
            "Brand Owner:  Jotography\n",
            "Height:  5.4\n",
            "Camera type:  Nikon\n"
          ],
          "name": "stdout"
        }
      ]
    },
    {
      "cell_type": "markdown",
      "metadata": {
        "id": "oiIK0nLduMj3",
        "colab_type": "text"
      },
      "source": [
        "## **self is not a must, another name can be used. It is just a convention**"
      ]
    },
    {
      "cell_type": "code",
      "metadata": {
        "id": "PHbHP0pEtrYn",
        "colab_type": "code",
        "colab": {}
      },
      "source": [
        "class Photography:\n",
        "  \"\"\"This is a Photography class\"\"\"\n",
        "  def __init__(myself, name, height, camera):\n",
        "    myself.name = name\n",
        "    myself.height = height\n",
        "    myself.camera = camera\n",
        "\n",
        "\n",
        "\n",
        " #The above is called a constructor\n",
        " #It is not a must to use self, any variable name can be used\n",
        " #self is used for convention purposes\n",
        " #the instance variables are dynamic here\n",
        "  #Whatever the first parameter is, it is treated internally as the current object reference\n",
        "\n",
        "\n",
        "  def __str__(myself):\n",
        "    return 'This is all about Photography'\n",
        "\n",
        "\n",
        "  def details(myself):\n",
        "    #this is an instance method\n",
        "    print('Brand Owner: ', myself.name)\n",
        "    print('Height: ', myself.height)\n",
        "    print('Camera type: ', myself.camera)"
      ],
      "execution_count": 29,
      "outputs": []
    },
    {
      "cell_type": "code",
      "metadata": {
        "id": "ZGvQJE_3udrb",
        "colab_type": "code",
        "colab": {}
      },
      "source": [
        "Best_Photographer = Photography('Alhaji Dot', 5.8, 'Nikon')"
      ],
      "execution_count": 30,
      "outputs": []
    },
    {
      "cell_type": "code",
      "metadata": {
        "id": "g7WyTDFIvqmh",
        "colab_type": "code",
        "colab": {
          "base_uri": "https://localhost:8080/",
          "height": 0
        },
        "outputId": "ab245a16-e033-4ba5-84c6-5e41d3270523"
      },
      "source": [
        "Best_Photographer.details()"
      ],
      "execution_count": 31,
      "outputs": [
        {
          "output_type": "stream",
          "text": [
            "Brand Owner:  Alhaji Dot\n",
            "Height:  5.8\n",
            "Camera type:  Nikon\n"
          ],
          "name": "stdout"
        }
      ]
    },
    {
      "cell_type": "markdown",
      "metadata": {
        "id": "lAdAfrSa8FLT",
        "colab_type": "text"
      },
      "source": [
        "## **Dict Attribute**"
      ]
    },
    {
      "cell_type": "code",
      "metadata": {
        "id": "ltIo0B0jwWkv",
        "colab_type": "code",
        "colab": {
          "base_uri": "https://localhost:8080/",
          "height": 0
        },
        "outputId": "88d81526-44af-43ec-acde-593c003f15cb"
      },
      "source": [
        "Best_Photographer.__dict__\n",
        "\n",
        "\n",
        "\n",
        "#This returns the refence variables as a dictionary"
      ],
      "execution_count": 32,
      "outputs": [
        {
          "output_type": "execute_result",
          "data": {
            "text/plain": [
              "{'camera': 'Nikon', 'height': 5.8, 'name': 'Alhaji Dot'}"
            ]
          },
          "metadata": {
            "tags": []
          },
          "execution_count": 32
        }
      ]
    },
    {
      "cell_type": "markdown",
      "metadata": {
        "id": "MmtoEE6J9wc4",
        "colab_type": "text"
      },
      "source": [
        "## **Changing the values of the values**"
      ]
    },
    {
      "cell_type": "code",
      "metadata": {
        "id": "eH-EBWNv8utE",
        "colab_type": "code",
        "colab": {
          "base_uri": "https://localhost:8080/",
          "height": 0
        },
        "outputId": "53b2fd0a-5fcb-4a8e-87dc-64a39f6e7e36"
      },
      "source": [
        "Best_Photographer.height"
      ],
      "execution_count": 33,
      "outputs": [
        {
          "output_type": "execute_result",
          "data": {
            "text/plain": [
              "5.8"
            ]
          },
          "metadata": {
            "tags": []
          },
          "execution_count": 33
        }
      ]
    },
    {
      "cell_type": "code",
      "metadata": {
        "id": "gEekJeIf98uX",
        "colab_type": "code",
        "colab": {}
      },
      "source": [
        "Best_Photographer.height = 6.0"
      ],
      "execution_count": 34,
      "outputs": []
    },
    {
      "cell_type": "code",
      "metadata": {
        "id": "cts7TDvK-A2S",
        "colab_type": "code",
        "colab": {
          "base_uri": "https://localhost:8080/",
          "height": 0
        },
        "outputId": "214f3e5c-2e86-44f1-d3c2-c66986484a14"
      },
      "source": [
        "Best_Photographer.__dict__"
      ],
      "execution_count": 35,
      "outputs": [
        {
          "output_type": "execute_result",
          "data": {
            "text/plain": [
              "{'camera': 'Nikon', 'height': 6.0, 'name': 'Alhaji Dot'}"
            ]
          },
          "metadata": {
            "tags": []
          },
          "execution_count": 35
        }
      ]
    },
    {
      "cell_type": "markdown",
      "metadata": {
        "id": "r9VFde2M-oVC",
        "colab_type": "text"
      },
      "source": [
        "## **Creating an instance Variable on the fly**"
      ]
    },
    {
      "cell_type": "code",
      "metadata": {
        "id": "jvOO9GN4-DP3",
        "colab_type": "code",
        "colab": {}
      },
      "source": [
        "Best_Photographer.Expertise = 'Portrait'"
      ],
      "execution_count": 36,
      "outputs": []
    },
    {
      "cell_type": "code",
      "metadata": {
        "id": "_g-6Dre_-WhM",
        "colab_type": "code",
        "colab": {
          "base_uri": "https://localhost:8080/",
          "height": 86
        },
        "outputId": "941422df-ab79-467b-e916-53bcd68c1b36"
      },
      "source": [
        "Best_Photographer.__dict__"
      ],
      "execution_count": 37,
      "outputs": [
        {
          "output_type": "execute_result",
          "data": {
            "text/plain": [
              "{'Expertise': 'Portrait',\n",
              " 'camera': 'Nikon',\n",
              " 'height': 6.0,\n",
              " 'name': 'Alhaji Dot'}"
            ]
          },
          "metadata": {
            "tags": []
          },
          "execution_count": 37
        }
      ]
    },
    {
      "cell_type": "code",
      "metadata": {
        "id": "TjZ0rRqa-YXh",
        "colab_type": "code",
        "colab": {}
      },
      "source": [
        "class Photography:\n",
        "  \"\"\"This is a Photography class\"\"\"\n",
        "  def __init__(self, name, height, camera):\n",
        "    self.name = name\n",
        "    self.height = height\n",
        "    self.camera = camera\n",
        "\n",
        "  def __str__(self):\n",
        "    return 'This is all about Photography'\n",
        "\n",
        "  def details(self):\n",
        "    print('Brand Owner: ', self.name)\n",
        "    print('Height: ', self.height)\n",
        "    print('Camera type: ', self.camera)\n",
        "\n",
        "  def profile(self, city, state = 'Texas'):\n",
        "    self.city = city\n",
        "    self.state = state"
      ],
      "execution_count": 38,
      "outputs": []
    },
    {
      "cell_type": "code",
      "metadata": {
        "id": "NDH4rso0A2vr",
        "colab_type": "code",
        "colab": {}
      },
      "source": [
        "Best_Photographer = Photography('Alhaji Dot', 7.1, 'FujiFilm')"
      ],
      "execution_count": 39,
      "outputs": []
    },
    {
      "cell_type": "code",
      "metadata": {
        "id": "2gqyHwlsBDpF",
        "colab_type": "code",
        "colab": {
          "base_uri": "https://localhost:8080/",
          "height": 34
        },
        "outputId": "18b98f55-afcc-4321-cea8-6a291edd64bf"
      },
      "source": [
        "Best_Photographer.__dict__"
      ],
      "execution_count": 40,
      "outputs": [
        {
          "output_type": "execute_result",
          "data": {
            "text/plain": [
              "{'camera': 'FujiFilm', 'height': 7.1, 'name': 'Alhaji Dot'}"
            ]
          },
          "metadata": {
            "tags": []
          },
          "execution_count": 40
        }
      ]
    },
    {
      "cell_type": "code",
      "metadata": {
        "id": "dllgKNaCBFyb",
        "colab_type": "code",
        "colab": {}
      },
      "source": [
        "Best_Photographer.profile('Houston')"
      ],
      "execution_count": 41,
      "outputs": []
    },
    {
      "cell_type": "code",
      "metadata": {
        "id": "pWz5ei3lBYzr",
        "colab_type": "code",
        "colab": {
          "base_uri": "https://localhost:8080/",
          "height": 103
        },
        "outputId": "d19c242a-7985-43f1-b5f2-133f96aac6d4"
      },
      "source": [
        "Best_Photographer.__dict__"
      ],
      "execution_count": 42,
      "outputs": [
        {
          "output_type": "execute_result",
          "data": {
            "text/plain": [
              "{'camera': 'FujiFilm',\n",
              " 'city': 'Houston',\n",
              " 'height': 7.1,\n",
              " 'name': 'Alhaji Dot',\n",
              " 'state': 'Texas'}"
            ]
          },
          "metadata": {
            "tags": []
          },
          "execution_count": 42
        }
      ]
    },
    {
      "cell_type": "markdown",
      "metadata": {
        "id": "C5pKdxtFB0cC",
        "colab_type": "text"
      },
      "source": [
        "## **Deleting an Instance**"
      ]
    },
    {
      "cell_type": "code",
      "metadata": {
        "id": "suWDiQLZBapk",
        "colab_type": "code",
        "colab": {}
      },
      "source": [
        "del Best_Photographer.height"
      ],
      "execution_count": 43,
      "outputs": []
    },
    {
      "cell_type": "code",
      "metadata": {
        "id": "gyDlQAAqB8Q0",
        "colab_type": "code",
        "colab": {
          "base_uri": "https://localhost:8080/",
          "height": 86
        },
        "outputId": "19f31b87-089a-424c-ba3f-a900eee1ec2c"
      },
      "source": [
        "Best_Photographer.__dict__"
      ],
      "execution_count": 44,
      "outputs": [
        {
          "output_type": "execute_result",
          "data": {
            "text/plain": [
              "{'camera': 'FujiFilm',\n",
              " 'city': 'Houston',\n",
              " 'name': 'Alhaji Dot',\n",
              " 'state': 'Texas'}"
            ]
          },
          "metadata": {
            "tags": []
          },
          "execution_count": 44
        }
      ]
    },
    {
      "cell_type": "code",
      "metadata": {
        "id": "de1-KCpaB96h",
        "colab_type": "code",
        "colab": {}
      },
      "source": [
        "Second_Best = Photography('Image Faculty', 7.4, 'Panasonic')"
      ],
      "execution_count": 45,
      "outputs": []
    },
    {
      "cell_type": "code",
      "metadata": {
        "id": "fMynZdfkCvA4",
        "colab_type": "code",
        "colab": {}
      },
      "source": [
        "Third_Best = Photography('David Martins', 7.0, 'Sony')"
      ],
      "execution_count": 46,
      "outputs": []
    },
    {
      "cell_type": "code",
      "metadata": {
        "id": "T2WxCTuaC6a9",
        "colab_type": "code",
        "colab": {
          "base_uri": "https://localhost:8080/",
          "height": 51
        },
        "outputId": "1fdbd3a3-92dd-4cfb-fb6a-1a103822ba68"
      },
      "source": [
        "print(Second_Best.__dict__)\n",
        "print(Third_Best.__dict__)"
      ],
      "execution_count": 47,
      "outputs": [
        {
          "output_type": "stream",
          "text": [
            "{'name': 'Image Faculty', 'height': 7.4, 'camera': 'Panasonic'}\n",
            "{'name': 'David Martins', 'height': 7.0, 'camera': 'Sony'}\n"
          ],
          "name": "stdout"
        }
      ]
    },
    {
      "cell_type": "code",
      "metadata": {
        "id": "MCbKh5HnDCaG",
        "colab_type": "code",
        "colab": {
          "base_uri": "https://localhost:8080/",
          "height": 34
        },
        "outputId": "b33e5518-b14a-4f9f-9831-d957bccce46a"
      },
      "source": [
        "Second_Best.height"
      ],
      "execution_count": 48,
      "outputs": [
        {
          "output_type": "execute_result",
          "data": {
            "text/plain": [
              "7.4"
            ]
          },
          "metadata": {
            "tags": []
          },
          "execution_count": 48
        }
      ]
    },
    {
      "cell_type": "code",
      "metadata": {
        "id": "i7ts3ENDDH7p",
        "colab_type": "code",
        "colab": {}
      },
      "source": [
        "del Second_Best.height"
      ],
      "execution_count": 49,
      "outputs": []
    },
    {
      "cell_type": "code",
      "metadata": {
        "id": "hCI5aHbXDLUN",
        "colab_type": "code",
        "colab": {
          "base_uri": "https://localhost:8080/",
          "height": 51
        },
        "outputId": "2da33750-9a28-4227-d887-92d83941c592"
      },
      "source": [
        "print(Second_Best.__dict__)\n",
        "print(Third_Best.__dict__)"
      ],
      "execution_count": 50,
      "outputs": [
        {
          "output_type": "stream",
          "text": [
            "{'name': 'Image Faculty', 'camera': 'Panasonic'}\n",
            "{'name': 'David Martins', 'height': 7.0, 'camera': 'Sony'}\n"
          ],
          "name": "stdout"
        }
      ]
    },
    {
      "cell_type": "markdown",
      "metadata": {
        "id": "UsxyK_gsIMM9",
        "colab_type": "text"
      },
      "source": [
        "## **Static Variable**"
      ]
    },
    {
      "cell_type": "markdown",
      "metadata": {
        "id": "fyrWJEzPMv_J",
        "colab_type": "text"
      },
      "source": [
        "Method 1"
      ]
    },
    {
      "cell_type": "markdown",
      "metadata": {
        "id": "ynsJyTApM4L6",
        "colab_type": "text"
      },
      "source": [
        "creating it outside the initializer"
      ]
    },
    {
      "cell_type": "code",
      "metadata": {
        "id": "SdEgTrHdDN09",
        "colab_type": "code",
        "colab": {}
      },
      "source": [
        "#Defining static variable can be out of the initializer\n",
        "\n",
        "\n",
        "\n",
        "class Photography:\n",
        "  \"\"\"This is a Photography class\"\"\"\n",
        "  vehicle = 'Benz'\n",
        "\n",
        "  #vehicle is a static variable, it is the same across every object that will e created\n",
        "  def __init__(self, name, height, camera):\n",
        "    self.name = name\n",
        "    self.height = height\n",
        "    self.camera = camera\n",
        "\n",
        "  def __str__(self):\n",
        "    return 'This is all about Photography'\n",
        "\n",
        "  def details(self):\n",
        "    print('Brand Owner: ', self.name)\n",
        "    print('Height: ', self.height)\n",
        "    print('Camera type: ', self.camera)\n",
        "    print('Type of car is: ', Photography.vehicle)\n",
        "\n",
        "  def profile(self, city, state = 'Texas'):\n",
        "    self.city = city\n",
        "    self.state = state"
      ],
      "execution_count": 51,
      "outputs": []
    },
    {
      "cell_type": "code",
      "metadata": {
        "id": "rHt-ZJ7gK4sv",
        "colab_type": "code",
        "colab": {}
      },
      "source": [
        "kay = Photography('Dot', 6, 'Samsung')\n",
        "muyi = Photography('Timmy', 5.4, 'Panasonic')"
      ],
      "execution_count": 52,
      "outputs": []
    },
    {
      "cell_type": "code",
      "metadata": {
        "id": "H7VDYRH2LPpA",
        "colab_type": "code",
        "colab": {
          "base_uri": "https://localhost:8080/",
          "height": 86
        },
        "outputId": "e4a4eac1-1f97-4919-a958-99f798a36765"
      },
      "source": [
        "kay.details()"
      ],
      "execution_count": 53,
      "outputs": [
        {
          "output_type": "stream",
          "text": [
            "Brand Owner:  Dot\n",
            "Height:  6\n",
            "Camera type:  Samsung\n",
            "Type of car is:  Benz\n"
          ],
          "name": "stdout"
        }
      ]
    },
    {
      "cell_type": "markdown",
      "metadata": {
        "id": "FEBe0m5vMNzt",
        "colab_type": "text"
      },
      "source": [
        "name, height and camera are instance variable, i.e they are at the object level, they change based on the parameters defined in a class when creating the object"
      ]
    },
    {
      "cell_type": "markdown",
      "metadata": {
        "id": "1GaTjEEXMhVs",
        "colab_type": "text"
      },
      "source": [
        "The type of car is the same for all objects, it is a static variable"
      ]
    },
    {
      "cell_type": "code",
      "metadata": {
        "id": "U2XuKaWoLSo3",
        "colab_type": "code",
        "colab": {
          "base_uri": "https://localhost:8080/",
          "height": 86
        },
        "outputId": "c2d4c860-405b-49fb-da5d-31f8434b4bdf"
      },
      "source": [
        "muyi.details()"
      ],
      "execution_count": 54,
      "outputs": [
        {
          "output_type": "stream",
          "text": [
            "Brand Owner:  Timmy\n",
            "Height:  5.4\n",
            "Camera type:  Panasonic\n",
            "Type of car is:  Benz\n"
          ],
          "name": "stdout"
        }
      ]
    },
    {
      "cell_type": "markdown",
      "metadata": {
        "id": "kEWbhtOHM9pU",
        "colab_type": "text"
      },
      "source": [
        "## **Method 2**"
      ]
    },
    {
      "cell_type": "markdown",
      "metadata": {
        "id": "j5AkCxJ5NAOT",
        "colab_type": "text"
      },
      "source": [
        "## **Creating the static variable inside the initializer**"
      ]
    },
    {
      "cell_type": "code",
      "metadata": {
        "id": "WV8KYkrlL8z5",
        "colab_type": "code",
        "colab": {}
      },
      "source": [
        "class Photography:\n",
        "  \"\"\"This is a Photography class\"\"\"\n",
        "\n",
        "  #vehicle is a static variable, it is the same across every object that will e created\n",
        "  def __init__(self, name, height, camera):\n",
        "    self.name = name\n",
        "    self.height = height\n",
        "    self.camera = camera\n",
        "    Photography.vehicle = 'Benz' #having class name before it makes it a static variable\n",
        "\n",
        "  def __str__(self):\n",
        "    return 'This is all about Photography'\n",
        "\n",
        "  def details(self):\n",
        "    print('Brand Owner: ', self.name)\n",
        "    print('Height: ', self.height)\n",
        "    print('Camera type: ', self.camera)\n",
        "    print('Type of car is: ', Photography.vehicle)\n",
        "\n",
        "  def profile(self, city, state = 'Texas'):\n",
        "    self.city = city\n",
        "    self.state = state"
      ],
      "execution_count": 55,
      "outputs": []
    },
    {
      "cell_type": "code",
      "metadata": {
        "id": "7q3jaPRAN40N",
        "colab_type": "code",
        "colab": {
          "base_uri": "https://localhost:8080/",
          "height": 188
        },
        "outputId": "d2e806d7-d63b-4ab4-d1cb-90bbfb3ffb91"
      },
      "source": [
        "ola = Photography('Olamide', 5.4, 'Pixel')\n",
        "Tola = Photography('Omotola', 5.3, 'Google Pixel')\n",
        "\n",
        "\n",
        "print(ola.details())\n",
        "print(Tola.details())"
      ],
      "execution_count": 56,
      "outputs": [
        {
          "output_type": "stream",
          "text": [
            "Brand Owner:  Olamide\n",
            "Height:  5.4\n",
            "Camera type:  Pixel\n",
            "Type of car is:  Benz\n",
            "None\n",
            "Brand Owner:  Omotola\n",
            "Height:  5.3\n",
            "Camera type:  Google Pixel\n",
            "Type of car is:  Benz\n",
            "None\n"
          ],
          "name": "stdout"
        }
      ]
    },
    {
      "cell_type": "markdown",
      "metadata": {
        "id": "HhKGIfq4O9BV",
        "colab_type": "text"
      },
      "source": [
        "## **Local Variable Vs Static Variable**"
      ]
    },
    {
      "cell_type": "code",
      "metadata": {
        "id": "FVnEE135O5uQ",
        "colab_type": "code",
        "colab": {}
      },
      "source": [
        "class Photography:\n",
        "  \"\"\"This is a Photography class\"\"\"\n",
        "\n",
        "  #vehicle is a static variable, it is the same across every object that will e created\n",
        "  def __init__(self, name, height, camera):\n",
        "    self.name = name\n",
        "    self.height = height\n",
        "    self.camera = camera\n",
        "    Photography.vehicle = 'Benz' #having class name before it makes it a static variable\n",
        "\n",
        "\n",
        "\n",
        "  def __str__(self):\n",
        "    return 'This is all about Photography'\n",
        "\n",
        "\n",
        "\n",
        "  def details(self):\n",
        "    print('Brand Owner: ', self.name)\n",
        "    print('Height: ', self.height)\n",
        "    print('Camera type: ', self.camera)\n",
        "    vehicle = 'Kia'   #This is a local variable. It does not function outside this method.\n",
        "    print('Type of car is: ', vehicle)\n",
        "    print('The second choice for all is: ', Photography.vehicle) #This is a static variable\n",
        "\n",
        "\n",
        "\n",
        "  def profile(self, city, state = 'Texas'):\n",
        "    self.city = city\n",
        "    self.state = state"
      ],
      "execution_count": 57,
      "outputs": []
    },
    {
      "cell_type": "code",
      "metadata": {
        "id": "qkmjOvmLRapX",
        "colab_type": "code",
        "colab": {
          "base_uri": "https://localhost:8080/",
          "height": 223
        },
        "outputId": "bbe4b217-38e2-4f2f-ae32-5d9863c00621"
      },
      "source": [
        "ola = Photography('Olamide', 5.4, 'Pixel')\n",
        "Tola = Photography('Omotola', 5.3, 'Google Pixel')\n",
        "\n",
        "\n",
        "print(ola.details())\n",
        "print(Tola.details())"
      ],
      "execution_count": 58,
      "outputs": [
        {
          "output_type": "stream",
          "text": [
            "Brand Owner:  Olamide\n",
            "Height:  5.4\n",
            "Camera type:  Pixel\n",
            "Type of car is:  Kia\n",
            "The second choice for all is:  Benz\n",
            "None\n",
            "Brand Owner:  Omotola\n",
            "Height:  5.3\n",
            "Camera type:  Google Pixel\n",
            "Type of car is:  Kia\n",
            "The second choice for all is:  Benz\n",
            "None\n"
          ],
          "name": "stdout"
        }
      ]
    },
    {
      "cell_type": "markdown",
      "metadata": {
        "id": "_gUstOzrSL7S",
        "colab_type": "text"
      },
      "source": [
        "## **Types of Methods**"
      ]
    },
    {
      "cell_type": "markdown",
      "metadata": {
        "id": "tYTyw0fMSI52",
        "colab_type": "text"
      },
      "source": [
        "Instance Method"
      ]
    },
    {
      "cell_type": "code",
      "metadata": {
        "id": "TO6iLDxHReql",
        "colab_type": "code",
        "colab": {}
      },
      "source": [
        "class Demo:  #special methods, have __ before and after\n",
        "  def __init__(self):\n",
        "    pass\n",
        "\n",
        "  def A(self):  #Instance Method\n",
        "    pass\n",
        "\n",
        "\n",
        "  @classmethod #this is called a decorator and it is compulsory for class methods\n",
        "  def B(cls):\n",
        "    pass\n",
        "    #class method must contain the cls parameter\n",
        "    #it must containthe decorator @classmethod\n",
        "\n",
        "\n",
        "\n",
        "  @staticmethod #this is called a decorator and it is NOT compulsory for static methods\n",
        "  def C():\n",
        "    pass\n",
        "    #the static method does not contain either the self parameter or the cls parameter\n",
        "\n",
        "\n"
      ],
      "execution_count": 59,
      "outputs": []
    },
    {
      "cell_type": "markdown",
      "metadata": {
        "id": "JKSP129eUEpD",
        "colab_type": "text"
      },
      "source": [
        "## **Static Method**"
      ]
    },
    {
      "cell_type": "code",
      "metadata": {
        "id": "TVn7hDt_UD3B",
        "colab_type": "code",
        "colab": {}
      },
      "source": [
        "class Trial:\n",
        "  def add(x,y):\n",
        "    print('sum: ', x + y)"
      ],
      "execution_count": 60,
      "outputs": []
    },
    {
      "cell_type": "code",
      "metadata": {
        "id": "nJMCmDCfUbox",
        "colab_type": "code",
        "colab": {}
      },
      "source": [
        "addition = Trial()"
      ],
      "execution_count": 61,
      "outputs": []
    },
    {
      "cell_type": "code",
      "metadata": {
        "id": "wQGwd5I6UgvH",
        "colab_type": "code",
        "colab": {}
      },
      "source": [
        "#addition.add(2,7)\n",
        "\n",
        "#this is going to return an error because this is a static class\n",
        "#A decorator needs to be passed"
      ],
      "execution_count": 62,
      "outputs": []
    },
    {
      "cell_type": "code",
      "metadata": {
        "id": "RbBgwd2iUgrl",
        "colab_type": "code",
        "colab": {}
      },
      "source": [
        "class Trial:\n",
        "  @staticmethod\n",
        "  def add(x,y):\n",
        "    print('sum: ', x + y)"
      ],
      "execution_count": 63,
      "outputs": []
    },
    {
      "cell_type": "code",
      "metadata": {
        "id": "9nyM1u2dUgpp",
        "colab_type": "code",
        "colab": {}
      },
      "source": [
        "addition = Trial()"
      ],
      "execution_count": 64,
      "outputs": []
    },
    {
      "cell_type": "code",
      "metadata": {
        "id": "1FwwXvsKVSbF",
        "colab_type": "code",
        "colab": {
          "base_uri": "https://localhost:8080/",
          "height": 34
        },
        "outputId": "b2ee527d-be41-4cce-9444-0e5b47957c50"
      },
      "source": [
        "addition.add(2,7)"
      ],
      "execution_count": 65,
      "outputs": [
        {
          "output_type": "stream",
          "text": [
            "sum:  9\n"
          ],
          "name": "stdout"
        }
      ]
    },
    {
      "cell_type": "markdown",
      "metadata": {
        "id": "OArt9FtdVuZ6",
        "colab_type": "text"
      },
      "source": [
        "Accessing the static method right away"
      ]
    },
    {
      "cell_type": "code",
      "metadata": {
        "id": "3P1hMhOFVZ1y",
        "colab_type": "code",
        "colab": {
          "base_uri": "https://localhost:8080/",
          "height": 34
        },
        "outputId": "89fcba45-cbd7-4722-e18b-cf5e4cc11cd8"
      },
      "source": [
        "Trial.add(2,5)"
      ],
      "execution_count": 66,
      "outputs": [
        {
          "output_type": "stream",
          "text": [
            "sum:  7\n"
          ],
          "name": "stdout"
        }
      ]
    },
    {
      "cell_type": "markdown",
      "metadata": {
        "id": "aduMUP7TVzoq",
        "colab_type": "text"
      },
      "source": [
        "## **Class Method**"
      ]
    },
    {
      "cell_type": "code",
      "metadata": {
        "id": "s7xmJALjVtG-",
        "colab_type": "code",
        "colab": {}
      },
      "source": [
        "class Chance:\n",
        "  @classmethod\n",
        "  def add(cls,x,y):\n",
        "    print('sum: ', x + y)"
      ],
      "execution_count": 67,
      "outputs": []
    },
    {
      "cell_type": "code",
      "metadata": {
        "id": "868ZFgxqFgCZ",
        "colab_type": "code",
        "colab": {}
      },
      "source": [
        "a = Chance()"
      ],
      "execution_count": 68,
      "outputs": []
    },
    {
      "cell_type": "code",
      "metadata": {
        "id": "kbW8ZJAiFkru",
        "colab_type": "code",
        "colab": {
          "base_uri": "https://localhost:8080/",
          "height": 34
        },
        "outputId": "82059a89-462a-474d-954c-5141ac7dee75"
      },
      "source": [
        "a.add(3,12)"
      ],
      "execution_count": 69,
      "outputs": [
        {
          "output_type": "stream",
          "text": [
            "sum:  15\n"
          ],
          "name": "stdout"
        }
      ]
    },
    {
      "cell_type": "code",
      "metadata": {
        "id": "JsdlNPlhFoH0",
        "colab_type": "code",
        "colab": {
          "base_uri": "https://localhost:8080/",
          "height": 34
        },
        "outputId": "efcd3564-a4af-49f7-9e96-1f5c3f572e26"
      },
      "source": [
        "Chance.add(45,7)"
      ],
      "execution_count": 70,
      "outputs": [
        {
          "output_type": "stream",
          "text": [
            "sum:  52\n"
          ],
          "name": "stdout"
        }
      ]
    },
    {
      "cell_type": "code",
      "metadata": {
        "id": "eFihMjasFwW2",
        "colab_type": "code",
        "colab": {}
      },
      "source": [
        "class Chance:\n",
        "  @classmethod\n",
        "  def add(jj,x,y): #cls can be any name\n",
        "    print('sum: ', x + y)"
      ],
      "execution_count": 71,
      "outputs": []
    },
    {
      "cell_type": "code",
      "metadata": {
        "id": "ucKk0tcfvlxQ",
        "colab_type": "code",
        "colab": {}
      },
      "source": [
        "b = Chance()"
      ],
      "execution_count": 72,
      "outputs": []
    },
    {
      "cell_type": "code",
      "metadata": {
        "id": "8u-W5cedvq2l",
        "colab_type": "code",
        "colab": {
          "base_uri": "https://localhost:8080/",
          "height": 34
        },
        "outputId": "aeedaeb2-2779-4d70-abae-aaf9665cc3b8"
      },
      "source": [
        "b.add(40,7)"
      ],
      "execution_count": 73,
      "outputs": [
        {
          "output_type": "stream",
          "text": [
            "sum:  47\n"
          ],
          "name": "stdout"
        }
      ]
    },
    {
      "cell_type": "markdown",
      "metadata": {
        "id": "q3LqW_ncvzRU",
        "colab_type": "text"
      },
      "source": [
        "## **Nested Class**"
      ]
    },
    {
      "cell_type": "code",
      "metadata": {
        "id": "86tc7VSmvudH",
        "colab_type": "code",
        "colab": {}
      },
      "source": [
        "\n",
        "class University:\n",
        "  def __init__(self):\n",
        "    print('This is for all the universities')\n",
        "\n",
        "\n",
        "  class Student:  #this is a nested class\n",
        "    def __init__(self):\n",
        "      print('Inner class constructor')\n",
        "\n",
        "    def displayS(self):  #this is a nested instance class\n",
        "      print('Display for student method')\n",
        "\n",
        "\n",
        "  def displayU(self):\n",
        "    print('Display for University')"
      ],
      "execution_count": 74,
      "outputs": []
    },
    {
      "cell_type": "code",
      "metadata": {
        "id": "vRzg8u072JUl",
        "colab_type": "code",
        "colab": {
          "base_uri": "https://localhost:8080/",
          "height": 34
        },
        "outputId": "d2aee761-0639-4ec7-be41-7647a12b44e2"
      },
      "source": [
        "uniben = University()"
      ],
      "execution_count": 75,
      "outputs": [
        {
          "output_type": "stream",
          "text": [
            "This is for all the universities\n"
          ],
          "name": "stdout"
        }
      ]
    },
    {
      "cell_type": "code",
      "metadata": {
        "id": "9LBf3Gxr2pOe",
        "colab_type": "code",
        "colab": {
          "base_uri": "https://localhost:8080/",
          "height": 34
        },
        "outputId": "c13587f2-7c5b-4a34-88f9-9be9e2fa32b6"
      },
      "source": [
        "uniben.displayU()"
      ],
      "execution_count": 76,
      "outputs": [
        {
          "output_type": "stream",
          "text": [
            "Display for University\n"
          ],
          "name": "stdout"
        }
      ]
    },
    {
      "cell_type": "markdown",
      "metadata": {
        "id": "2RMknVIO2waQ",
        "colab_type": "text"
      },
      "source": [
        "Accessing the inner class and inner instance class"
      ]
    },
    {
      "cell_type": "code",
      "metadata": {
        "id": "znAVnI4u26gK",
        "colab_type": "code",
        "colab": {}
      },
      "source": [
        "#kenny = Student()\n",
        "\n",
        "\n",
        "#this will give an error because Student is an inner/nested class and cannot be accessed directly"
      ],
      "execution_count": 77,
      "outputs": []
    },
    {
      "cell_type": "code",
      "metadata": {
        "id": "k56jDDf72vOx",
        "colab_type": "code",
        "colab": {
          "base_uri": "https://localhost:8080/",
          "height": 51
        },
        "outputId": "620f5a84-5305-4753-b29c-6f661463edc0"
      },
      "source": [
        "#to access an inner class, use the outer call when calling the inner class\n",
        "kenny = University().Student()"
      ],
      "execution_count": 78,
      "outputs": [
        {
          "output_type": "stream",
          "text": [
            "This is for all the universities\n",
            "Inner class constructor\n"
          ],
          "name": "stdout"
        }
      ]
    },
    {
      "cell_type": "code",
      "metadata": {
        "id": "3HvUIwQJ6-IO",
        "colab_type": "code",
        "colab": {
          "base_uri": "https://localhost:8080/",
          "height": 34
        },
        "outputId": "53860063-0d7f-4d6c-f3c0-6e1c29e40837"
      },
      "source": [
        "kenny.displayS()"
      ],
      "execution_count": 79,
      "outputs": [
        {
          "output_type": "stream",
          "text": [
            "Display for student method\n"
          ],
          "name": "stdout"
        }
      ]
    },
    {
      "cell_type": "markdown",
      "metadata": {
        "id": "sGJzUlQi9Nc3",
        "colab_type": "text"
      },
      "source": [
        "## **Destructor Vs Constructors**"
      ]
    },
    {
      "cell_type": "code",
      "metadata": {
        "id": "scDTD3fv7C0n",
        "colab_type": "code",
        "colab": {}
      },
      "source": [
        "class Demo:\n",
        "  def __init__(self):  #constructors are implicitly called when the object is created\n",
        "    print('This is a constructor')\n",
        "\n",
        "  def display(self):\n",
        "    print('This is an instance method')\n",
        "\n",
        "  def __del__(self):  #destructors are implicitly called when the object is not in use\n",
        "    print('This is a destructor')"
      ],
      "execution_count": 80,
      "outputs": []
    },
    {
      "cell_type": "code",
      "metadata": {
        "id": "1mYFSdLn-hDP",
        "colab_type": "code",
        "colab": {
          "base_uri": "https://localhost:8080/",
          "height": 34
        },
        "outputId": "5f1ee0b4-2ea2-4f7b-d9e7-c1571730453b"
      },
      "source": [
        "name = Demo()"
      ],
      "execution_count": 81,
      "outputs": [
        {
          "output_type": "stream",
          "text": [
            "This is a constructor\n"
          ],
          "name": "stdout"
        }
      ]
    },
    {
      "cell_type": "code",
      "metadata": {
        "id": "7nSsCruwAKKn",
        "colab_type": "code",
        "colab": {
          "base_uri": "https://localhost:8080/",
          "height": 34
        },
        "outputId": "43019763-ebea-4813-94f5-3d62b8bed607"
      },
      "source": [
        "name.display()"
      ],
      "execution_count": 82,
      "outputs": [
        {
          "output_type": "stream",
          "text": [
            "This is an instance method\n"
          ],
          "name": "stdout"
        }
      ]
    },
    {
      "cell_type": "code",
      "metadata": {
        "id": "3WEIkYiYAM86",
        "colab_type": "code",
        "colab": {
          "base_uri": "https://localhost:8080/",
          "height": 68
        },
        "outputId": "8684f538-1a8c-4876-fb13-14eb8338ad24"
      },
      "source": [
        "name = Demo()\n",
        "name.display()"
      ],
      "execution_count": 83,
      "outputs": [
        {
          "output_type": "stream",
          "text": [
            "This is a constructor\n",
            "This is a destructor\n",
            "This is an instance method\n"
          ],
          "name": "stdout"
        }
      ]
    },
    {
      "cell_type": "code",
      "metadata": {
        "id": "mQ8UCfDIAng-",
        "colab_type": "code",
        "colab": {}
      },
      "source": [
        ""
      ],
      "execution_count": 83,
      "outputs": []
    }
  ]
}