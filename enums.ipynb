{
  "nbformat": 4,
  "nbformat_minor": 0,
  "metadata": {
    "colab": {
      "name": "enums.ipynb",
      "provenance": [],
      "authorship_tag": "ABX9TyMWrASrXTOeHPtsi3Ca3T5n",
      "include_colab_link": true
    },
    "kernelspec": {
      "name": "python3",
      "display_name": "Python 3"
    }
  },
  "cells": [
    {
      "cell_type": "markdown",
      "metadata": {
        "id": "view-in-github",
        "colab_type": "text"
      },
      "source": [
        "<a href=\"https://colab.research.google.com/github/Rvd001/OOP/blob/master/enums.ipynb\" target=\"_parent\"><img src=\"https://colab.research.google.com/assets/colab-badge.svg\" alt=\"Open In Colab\"/></a>"
      ]
    },
    {
      "cell_type": "code",
      "metadata": {
        "id": "eTYEa_yEkSjP",
        "colab_type": "code",
        "colab": {}
      },
      "source": [
        "\n",
        "from enum import Enum\n",
        "#This helps to enumerate a constant known from the point of initialization\n",
        "\n",
        "class Weekday(Enum): #defining a class\n",
        "    #the days of the week are listed / enumerated\n",
        "    MONDAY = 1\n",
        "    TUESDAY = 2\n",
        "    WEDNESDAY = 3\n",
        "    THURSDAY = 4\n",
        "    FRIDAY = 5\n",
        "    SATURDAY = 6\n",
        "    SUNDAY = 7\n",
        "\n",
        "#Days of the week are then passed to a tuple, likewise the weekends\n",
        "weekdays = (Weekday.MONDAY, Weekday.TUESDAY, Weekday.WEDNESDAY, Weekday.THURSDAY, Weekday.FRIDAY)\n",
        "weekends = (Weekday.SATURDAY, Weekday.SUNDAY)\n",
        "\n"
      ],
      "execution_count": 1,
      "outputs": []
    },
    {
      "cell_type": "code",
      "metadata": {
        "id": "W_NeZr5QqFKV",
        "colab_type": "code",
        "colab": {
          "base_uri": "https://localhost:8080/",
          "height": 34
        },
        "outputId": "c7f4f64b-c7cd-4083-bec3-afe3a93ba10d"
      },
      "source": [
        "type(weekdays)"
      ],
      "execution_count": 2,
      "outputs": [
        {
          "output_type": "execute_result",
          "data": {
            "text/plain": [
              "tuple"
            ]
          },
          "metadata": {
            "tags": []
          },
          "execution_count": 2
        }
      ]
    },
    {
      "cell_type": "code",
      "metadata": {
        "id": "1bZNomTglgyw",
        "colab_type": "code",
        "colab": {
          "base_uri": "https://localhost:8080/",
          "height": 103
        },
        "outputId": "b383dc0d-c171-4cb7-d18d-0a9f86fd654f"
      },
      "source": [
        "#testing what is returned for the days in the week\n",
        "for i in weekdays:\n",
        "  print(i)"
      ],
      "execution_count": 3,
      "outputs": [
        {
          "output_type": "stream",
          "text": [
            "Weekday.MONDAY\n",
            "Weekday.TUESDAY\n",
            "Weekday.WEDNESDAY\n",
            "Weekday.THURSDAY\n",
            "Weekday.FRIDAY\n"
          ],
          "name": "stdout"
        }
      ]
    },
    {
      "cell_type": "code",
      "metadata": {
        "id": "zLvfGO7ylt5o",
        "colab_type": "code",
        "colab": {
          "base_uri": "https://localhost:8080/",
          "height": 137
        },
        "outputId": "25610d18-9346-4f96-cb97-65d0a7ad6862"
      },
      "source": [
        "#testing what is returned for the class\n",
        "for i in Weekday:\n",
        "  print(i)"
      ],
      "execution_count": 4,
      "outputs": [
        {
          "output_type": "stream",
          "text": [
            "Weekday.MONDAY\n",
            "Weekday.TUESDAY\n",
            "Weekday.WEDNESDAY\n",
            "Weekday.THURSDAY\n",
            "Weekday.FRIDAY\n",
            "Weekday.SATURDAY\n",
            "Weekday.SUNDAY\n"
          ],
          "name": "stdout"
        }
      ]
    },
    {
      "cell_type": "code",
      "metadata": {
        "id": "ttepUDCbtyAJ",
        "colab_type": "code",
        "colab": {
          "base_uri": "https://localhost:8080/",
          "height": 137
        },
        "outputId": "edca88ba-c892-44fe-bc86-e429390d5434"
      },
      "source": [
        "#printing the value of name and value of the variables in the class \n",
        "\n",
        "for day in Weekday:\n",
        "    print(f' {day.value} is {day.name} ')"
      ],
      "execution_count": 5,
      "outputs": [
        {
          "output_type": "stream",
          "text": [
            " 1 is MONDAY \n",
            " 2 is TUESDAY \n",
            " 3 is WEDNESDAY \n",
            " 4 is THURSDAY \n",
            " 5 is FRIDAY \n",
            " 6 is SATURDAY \n",
            " 7 is SUNDAY \n"
          ],
          "name": "stdout"
        }
      ]
    },
    {
      "cell_type": "code",
      "metadata": {
        "id": "L37JCbTBlcjW",
        "colab_type": "code",
        "colab": {
          "base_uri": "https://localhost:8080/",
          "height": 377
        },
        "outputId": "5e89ee57-de73-4bf7-86a8-47500f9747fd"
      },
      "source": [
        "weekday_wake_up = \"7am\"\n",
        "weekend_wake_up = \"9am\"\n",
        "\n",
        "for day in Weekday:\n",
        "    print(f'Today is {day.name.capitalize()}')\n",
        "    wake_time = weekday_wake_up if day in weekdays else weekend_wake_up #this is checking for a condition\n",
        "    print(f'Wake up at {wake_time}\\n') #\\n helps to add a new line"
      ],
      "execution_count": 6,
      "outputs": [
        {
          "output_type": "stream",
          "text": [
            "Today is Monday\n",
            "Wake up at 7am\n",
            "\n",
            "Today is Tuesday\n",
            "Wake up at 7am\n",
            "\n",
            "Today is Wednesday\n",
            "Wake up at 7am\n",
            "\n",
            "Today is Thursday\n",
            "Wake up at 7am\n",
            "\n",
            "Today is Friday\n",
            "Wake up at 7am\n",
            "\n",
            "Today is Saturday\n",
            "Wake up at 9am\n",
            "\n",
            "Today is Sunday\n",
            "Wake up at 9am\n",
            "\n"
          ],
          "name": "stdout"
        }
      ]
    }
  ]
}