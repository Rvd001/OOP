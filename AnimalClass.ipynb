{
  "nbformat": 4,
  "nbformat_minor": 0,
  "metadata": {
    "colab": {
      "name": "Class.ipynb",
      "provenance": [],
      "authorship_tag": "ABX9TyN8as84yZDNHKJAHeNJMTO2",
      "include_colab_link": true
    },
    "kernelspec": {
      "name": "python3",
      "display_name": "Python 3"
    }
  },
  "cells": [
    {
      "cell_type": "markdown",
      "metadata": {
        "id": "view-in-github",
        "colab_type": "text"
      },
      "source": [
        "<a href=\"https://colab.research.google.com/github/Rvd001/OOP/blob/master/AnimalClass.ipynb\" target=\"_parent\"><img src=\"https://colab.research.google.com/assets/colab-badge.svg\" alt=\"Open In Colab\"/></a>"
      ]
    },
    {
      "cell_type": "code",
      "metadata": {
        "id": "WTqPGW57MNne",
        "colab_type": "code",
        "colab": {}
      },
      "source": [
        "\n",
        "class Maximumweight(Exception):\n",
        "  pass\n",
        "\n",
        "class Animal(object):\n",
        "  def __init__(self, name,  age, ID, weight = 0):\n",
        "    self.name = name\n",
        "    self.weight = weight\n",
        "    self.age = age\n",
        "    self.ID = ID\n",
        "\n",
        "    self.distance = 2\n",
        "    self.time = 30\n",
        "\n",
        "  def run(self):\n",
        "    self.distance = 10\n",
        "    self.time = 5\n",
        "    \n",
        "    speed = self.distance / self.time\n",
        "    return speed\n",
        "\n",
        "    \n",
        "\n",
        "  def die(self, max_age):\n",
        "    if self.weight > 75:\n",
        "      raise Maximumweight('Maximum weight already attained')\n",
        "    self.max_age = max_age\n",
        "    return 'you are not up to 75kg'\n",
        "\n",
        "  def celebrate_Birthday(self, no_of_days):\n",
        "    self.no_of_days = no_of_days\n",
        "    if no_of_days >= 365:\n",
        "      return 'You made it for a year!'\n",
        "\n",
        "\n",
        "  def age_increase(self, no_of_days):\n",
        "    if no_of_days >= 365:\n",
        "      count = no_of_days / 365\n",
        "      import math\n",
        "      self.age =  self.age + math.floor(count)\n",
        "      return round(self.age, 1)\n"
      ],
      "execution_count": 79,
      "outputs": []
    },
    {
      "cell_type": "code",
      "metadata": {
        "id": "cb84au4UcqwE",
        "colab_type": "code",
        "colab": {}
      },
      "source": [
        "import math"
      ],
      "execution_count": 77,
      "outputs": []
    },
    {
      "cell_type": "code",
      "metadata": {
        "id": "A0t4emMacmQm",
        "colab_type": "code",
        "colab": {
          "base_uri": "https://localhost:8080/",
          "height": 34
        },
        "outputId": "4fb9c43e-69ab-4c85-98cf-7e4f0f2aabe7"
      },
      "source": [
        "math.floor(54.6)"
      ],
      "execution_count": 78,
      "outputs": [
        {
          "output_type": "execute_result",
          "data": {
            "text/plain": [
              "54"
            ]
          },
          "metadata": {
            "tags": []
          },
          "execution_count": 78
        }
      ]
    },
    {
      "cell_type": "code",
      "metadata": {
        "id": "w0YViOlJYwGG",
        "colab_type": "code",
        "colab": {}
      },
      "source": [
        "Oshioke =  Animal(name = 'Cow',  age = 40, ID = 'A684', weight = 80)\n"
      ],
      "execution_count": 74,
      "outputs": []
    },
    {
      "cell_type": "code",
      "metadata": {
        "id": "P48NNm24aY07",
        "colab_type": "code",
        "colab": {
          "base_uri": "https://localhost:8080/",
          "height": 34
        },
        "outputId": "afb1c6c4-3eb5-40ef-b6ee-81c4a05c5ec3"
      },
      "source": [
        "print(Oshioke.run())"
      ],
      "execution_count": 66,
      "outputs": [
        {
          "output_type": "stream",
          "text": [
            "2.0\n"
          ],
          "name": "stdout"
        }
      ]
    },
    {
      "cell_type": "code",
      "metadata": {
        "id": "LpPAeJbeZXzz",
        "colab_type": "code",
        "colab": {
          "base_uri": "https://localhost:8080/",
          "height": 284
        },
        "outputId": "92507830-1b46-4fac-af3e-678de89b7cc1"
      },
      "source": [
        "print(Oshioke.die(42))"
      ],
      "execution_count": 67,
      "outputs": [
        {
          "output_type": "error",
          "ename": "Maximumweight",
          "evalue": "ignored",
          "traceback": [
            "\u001b[0;31m---------------------------------------------------------------------------\u001b[0m",
            "\u001b[0;31mMaximumweight\u001b[0m                             Traceback (most recent call last)",
            "\u001b[0;32m<ipython-input-67-06e65e11de25>\u001b[0m in \u001b[0;36m<module>\u001b[0;34m()\u001b[0m\n\u001b[0;32m----> 1\u001b[0;31m \u001b[0mprint\u001b[0m\u001b[0;34m(\u001b[0m\u001b[0mOshioke\u001b[0m\u001b[0;34m.\u001b[0m\u001b[0mdie\u001b[0m\u001b[0;34m(\u001b[0m\u001b[0;36m42\u001b[0m\u001b[0;34m)\u001b[0m\u001b[0;34m)\u001b[0m\u001b[0;34m\u001b[0m\u001b[0;34m\u001b[0m\u001b[0m\n\u001b[0m",
            "\u001b[0;32m<ipython-input-64-e920eff5f3fa>\u001b[0m in \u001b[0;36mdie\u001b[0;34m(self, max_age)\u001b[0m\n\u001b[1;32m     25\u001b[0m   \u001b[0;32mdef\u001b[0m \u001b[0mdie\u001b[0m\u001b[0;34m(\u001b[0m\u001b[0mself\u001b[0m\u001b[0;34m,\u001b[0m \u001b[0mmax_age\u001b[0m\u001b[0;34m)\u001b[0m\u001b[0;34m:\u001b[0m\u001b[0;34m\u001b[0m\u001b[0;34m\u001b[0m\u001b[0m\n\u001b[1;32m     26\u001b[0m     \u001b[0;32mif\u001b[0m \u001b[0mself\u001b[0m\u001b[0;34m.\u001b[0m\u001b[0mweight\u001b[0m \u001b[0;34m>\u001b[0m \u001b[0;36m75\u001b[0m\u001b[0;34m:\u001b[0m\u001b[0;34m\u001b[0m\u001b[0;34m\u001b[0m\u001b[0m\n\u001b[0;32m---> 27\u001b[0;31m       \u001b[0;32mraise\u001b[0m \u001b[0mMaximumweight\u001b[0m\u001b[0;34m(\u001b[0m\u001b[0;34m'Maximum weight already attained'\u001b[0m\u001b[0;34m)\u001b[0m\u001b[0;34m\u001b[0m\u001b[0;34m\u001b[0m\u001b[0m\n\u001b[0m\u001b[1;32m     28\u001b[0m     \u001b[0mself\u001b[0m\u001b[0;34m.\u001b[0m\u001b[0mmax_age\u001b[0m \u001b[0;34m=\u001b[0m \u001b[0mmax_age\u001b[0m\u001b[0;34m\u001b[0m\u001b[0;34m\u001b[0m\u001b[0m\n\u001b[1;32m     29\u001b[0m     \u001b[0;32mreturn\u001b[0m \u001b[0;34m'you are not up to 75kg'\u001b[0m\u001b[0;34m\u001b[0m\u001b[0;34m\u001b[0m\u001b[0m\n",
            "\u001b[0;31mMaximumweight\u001b[0m: Maximum weight already attained"
          ]
        }
      ]
    },
    {
      "cell_type": "code",
      "metadata": {
        "id": "q9NveQzHb9fd",
        "colab_type": "code",
        "colab": {
          "base_uri": "https://localhost:8080/",
          "height": 34
        },
        "outputId": "5aee9c77-175d-4ad0-8e14-844000f5dc41"
      },
      "source": [
        "print(Oshioke.celebrate_Birthday(370))"
      ],
      "execution_count": 75,
      "outputs": [
        {
          "output_type": "stream",
          "text": [
            "You made it for a year!\n"
          ],
          "name": "stdout"
        }
      ]
    },
    {
      "cell_type": "code",
      "metadata": {
        "id": "yGvq0nKmZrlR",
        "colab_type": "code",
        "colab": {}
      },
      "source": [
        "Ajoke =  Animal(name = 'Cow',  age = 40, ID = 'A684', weight = 60)"
      ],
      "execution_count": 57,
      "outputs": []
    },
    {
      "cell_type": "code",
      "metadata": {
        "id": "l5pnpkAXZv-0",
        "colab_type": "code",
        "colab": {
          "base_uri": "https://localhost:8080/",
          "height": 34
        },
        "outputId": "c6ee9f86-0681-4154-9dbb-c9259bd7c139"
      },
      "source": [
        "print(Ajoke.die(39))"
      ],
      "execution_count": 58,
      "outputs": [
        {
          "output_type": "stream",
          "text": [
            "you are not up to 75kg\n"
          ],
          "name": "stdout"
        }
      ]
    },
    {
      "cell_type": "code",
      "metadata": {
        "id": "MxdQD2P7VvxQ",
        "colab_type": "code",
        "colab": {}
      },
      "source": [
        "Hen = Animal(name = 'Goat',  age = 50, ID = 'A214', weight = 49)"
      ],
      "execution_count": 80,
      "outputs": []
    },
    {
      "cell_type": "code",
      "metadata": {
        "id": "xjoud1JYXI2W",
        "colab_type": "code",
        "colab": {
          "base_uri": "https://localhost:8080/",
          "height": 34
        },
        "outputId": "09c2ecbd-6618-4f7d-c9cd-ea4b6a63d1fd"
      },
      "source": [
        "print(Hen.age_increase(10005))"
      ],
      "execution_count": 81,
      "outputs": [
        {
          "output_type": "stream",
          "text": [
            "77\n"
          ],
          "name": "stdout"
        }
      ]
    },
    {
      "cell_type": "code",
      "metadata": {
        "id": "F2YSxFk6YGwF",
        "colab_type": "code",
        "colab": {
          "base_uri": "https://localhost:8080/",
          "height": 34
        },
        "outputId": "39dd450d-ca31-4563-b1f2-3671ff9c91d5"
      },
      "source": [
        "print(Hen.celebrate_Birthday(401))"
      ],
      "execution_count": 82,
      "outputs": [
        {
          "output_type": "stream",
          "text": [
            "You made it for a year!\n"
          ],
          "name": "stdout"
        }
      ]
    },
    {
      "cell_type": "code",
      "metadata": {
        "id": "zS5b2HARSbKa",
        "colab_type": "code",
        "colab": {}
      },
      "source": [
        ""
      ],
      "execution_count": 29,
      "outputs": []
    }
  ]
}